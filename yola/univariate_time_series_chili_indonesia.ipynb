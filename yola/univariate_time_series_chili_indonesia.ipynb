{
 "cells": [
  {
   "cell_type": "code",
   "execution_count": 381,
   "metadata": {},
   "outputs": [],
   "source": [
    "import tensorflow as tf\n",
    "\n",
    "import matplotlib as mpl\n",
    "import matplotlib.pyplot as plt\n",
    "import numpy as np\n",
    "import os\n",
    "import pandas as pd\n",
    "import seaborn as sns\n",
    "\n",
    "mpl.rcParams['figure.figsize'] = (8, 6)\n",
    "mpl.rcParams['axes.grid'] = False"
   ]
  },
  {
   "cell_type": "code",
   "execution_count": 1087,
   "metadata": {},
   "outputs": [],
   "source": [
    "# Read the csv data\n",
    "\n",
    "df_cr = pd.read_csv('indonesia_food_price_chili_red_median.csv')"
   ]
  },
  {
   "cell_type": "code",
   "execution_count": 1088,
   "metadata": {},
   "outputs": [
    {
     "data": {
      "text/html": [
       "<div>\n",
       "<style scoped>\n",
       "    .dataframe tbody tr th:only-of-type {\n",
       "        vertical-align: middle;\n",
       "    }\n",
       "\n",
       "    .dataframe tbody tr th {\n",
       "        vertical-align: top;\n",
       "    }\n",
       "\n",
       "    .dataframe thead th {\n",
       "        text-align: right;\n",
       "    }\n",
       "</style>\n",
       "<table border=\"1\" class=\"dataframe\">\n",
       "  <thead>\n",
       "    <tr style=\"text-align: right;\">\n",
       "      <th></th>\n",
       "      <th>adm0_id</th>\n",
       "      <th>adm0_name</th>\n",
       "      <th>adm1_id</th>\n",
       "      <th>adm1_name</th>\n",
       "      <th>mkt_id</th>\n",
       "      <th>mkt_name</th>\n",
       "      <th>cm_id</th>\n",
       "      <th>cm_name</th>\n",
       "      <th>cur_id</th>\n",
       "      <th>cur_name</th>\n",
       "      <th>pt_id</th>\n",
       "      <th>pt_name</th>\n",
       "      <th>um_id</th>\n",
       "      <th>um_name</th>\n",
       "      <th>mp_month</th>\n",
       "      <th>mp_year</th>\n",
       "      <th>mp_price</th>\n",
       "      <th>date</th>\n",
       "      <th>mp_price_edit</th>\n",
       "    </tr>\n",
       "  </thead>\n",
       "  <tbody>\n",
       "    <tr>\n",
       "      <td>0</td>\n",
       "      <td>116.0</td>\n",
       "      <td>Indonesia</td>\n",
       "      <td>0</td>\n",
       "      <td>NaN</td>\n",
       "      <td>974</td>\n",
       "      <td>National Average</td>\n",
       "      <td>91</td>\n",
       "      <td>Chili (red) - Retail</td>\n",
       "      <td>0.0</td>\n",
       "      <td>IDR</td>\n",
       "      <td>15</td>\n",
       "      <td>Retail</td>\n",
       "      <td>5</td>\n",
       "      <td>KG</td>\n",
       "      <td>1</td>\n",
       "      <td>2007</td>\n",
       "      <td>24974.0693</td>\n",
       "      <td>2007-01-01</td>\n",
       "      <td>24974.0693</td>\n",
       "    </tr>\n",
       "    <tr>\n",
       "      <td>1</td>\n",
       "      <td>116.0</td>\n",
       "      <td>Indonesia</td>\n",
       "      <td>0</td>\n",
       "      <td>NaN</td>\n",
       "      <td>974</td>\n",
       "      <td>National Average</td>\n",
       "      <td>91</td>\n",
       "      <td>Chili (red) - Retail</td>\n",
       "      <td>0.0</td>\n",
       "      <td>IDR</td>\n",
       "      <td>15</td>\n",
       "      <td>Retail</td>\n",
       "      <td>5</td>\n",
       "      <td>KG</td>\n",
       "      <td>2</td>\n",
       "      <td>2007</td>\n",
       "      <td>22593.0000</td>\n",
       "      <td>2007-02-01</td>\n",
       "      <td>22593.0000</td>\n",
       "    </tr>\n",
       "    <tr>\n",
       "      <td>2</td>\n",
       "      <td>116.0</td>\n",
       "      <td>Indonesia</td>\n",
       "      <td>0</td>\n",
       "      <td>NaN</td>\n",
       "      <td>974</td>\n",
       "      <td>National Average</td>\n",
       "      <td>91</td>\n",
       "      <td>Chili (red) - Retail</td>\n",
       "      <td>0.0</td>\n",
       "      <td>IDR</td>\n",
       "      <td>15</td>\n",
       "      <td>Retail</td>\n",
       "      <td>5</td>\n",
       "      <td>KG</td>\n",
       "      <td>3</td>\n",
       "      <td>2007</td>\n",
       "      <td>22807.0000</td>\n",
       "      <td>2007-03-01</td>\n",
       "      <td>22807.0000</td>\n",
       "    </tr>\n",
       "    <tr>\n",
       "      <td>3</td>\n",
       "      <td>116.0</td>\n",
       "      <td>Indonesia</td>\n",
       "      <td>0</td>\n",
       "      <td>NaN</td>\n",
       "      <td>974</td>\n",
       "      <td>National Average</td>\n",
       "      <td>91</td>\n",
       "      <td>Chili (red) - Retail</td>\n",
       "      <td>0.0</td>\n",
       "      <td>IDR</td>\n",
       "      <td>15</td>\n",
       "      <td>Retail</td>\n",
       "      <td>5</td>\n",
       "      <td>KG</td>\n",
       "      <td>4</td>\n",
       "      <td>2007</td>\n",
       "      <td>18414.0000</td>\n",
       "      <td>2007-04-01</td>\n",
       "      <td>18414.0000</td>\n",
       "    </tr>\n",
       "    <tr>\n",
       "      <td>4</td>\n",
       "      <td>116.0</td>\n",
       "      <td>Indonesia</td>\n",
       "      <td>0</td>\n",
       "      <td>NaN</td>\n",
       "      <td>974</td>\n",
       "      <td>National Average</td>\n",
       "      <td>91</td>\n",
       "      <td>Chili (red) - Retail</td>\n",
       "      <td>0.0</td>\n",
       "      <td>IDR</td>\n",
       "      <td>15</td>\n",
       "      <td>Retail</td>\n",
       "      <td>5</td>\n",
       "      <td>KG</td>\n",
       "      <td>5</td>\n",
       "      <td>2007</td>\n",
       "      <td>14910.0000</td>\n",
       "      <td>2007-05-01</td>\n",
       "      <td>14910.0000</td>\n",
       "    </tr>\n",
       "  </tbody>\n",
       "</table>\n",
       "</div>"
      ],
      "text/plain": [
       "   adm0_id  adm0_name  adm1_id  adm1_name  mkt_id          mkt_name  cm_id  \\\n",
       "0    116.0  Indonesia        0        NaN     974  National Average     91   \n",
       "1    116.0  Indonesia        0        NaN     974  National Average     91   \n",
       "2    116.0  Indonesia        0        NaN     974  National Average     91   \n",
       "3    116.0  Indonesia        0        NaN     974  National Average     91   \n",
       "4    116.0  Indonesia        0        NaN     974  National Average     91   \n",
       "\n",
       "                cm_name  cur_id cur_name  pt_id pt_name  um_id um_name  \\\n",
       "0  Chili (red) - Retail     0.0      IDR     15  Retail      5      KG   \n",
       "1  Chili (red) - Retail     0.0      IDR     15  Retail      5      KG   \n",
       "2  Chili (red) - Retail     0.0      IDR     15  Retail      5      KG   \n",
       "3  Chili (red) - Retail     0.0      IDR     15  Retail      5      KG   \n",
       "4  Chili (red) - Retail     0.0      IDR     15  Retail      5      KG   \n",
       "\n",
       "   mp_month  mp_year    mp_price        date  mp_price_edit  \n",
       "0         1     2007  24974.0693  2007-01-01     24974.0693  \n",
       "1         2     2007  22593.0000  2007-02-01     22593.0000  \n",
       "2         3     2007  22807.0000  2007-03-01     22807.0000  \n",
       "3         4     2007  18414.0000  2007-04-01     18414.0000  \n",
       "4         5     2007  14910.0000  2007-05-01     14910.0000  "
      ]
     },
     "execution_count": 1088,
     "metadata": {},
     "output_type": "execute_result"
    }
   ],
   "source": [
    "df_cr.head()"
   ]
  },
  {
   "cell_type": "code",
   "execution_count": 1089,
   "metadata": {},
   "outputs": [],
   "source": [
    "train = df_cr[0:125] #train 0-124\n",
    "test = df_cr[125:len(df_cr)] #test 125-155"
   ]
  },
  {
   "cell_type": "raw",
   "metadata": {},
   "source": [
    "# Forecast Univariate Time Series"
   ]
  },
  {
   "cell_type": "code",
   "execution_count": 1090,
   "metadata": {},
   "outputs": [],
   "source": [
    "def univariate_data(dataset, start_index, end_index, history_size, target_size):\n",
    "  data = []\n",
    "  labels = []\n",
    "\n",
    "  start_index = start_index + history_size\n",
    "  if end_index is None:\n",
    "    end_index = len(dataset) - target_size\n",
    "\n",
    "  for i in range(start_index, end_index):\n",
    "    indices = range(i-history_size, i)\n",
    "    # Reshape data from (history_size,) to (history_size, 1)\n",
    "    data.append(np.reshape(dataset[indices], (history_size, 1)))\n",
    "    labels.append(dataset[i+target_size])\n",
    "  return np.array(data), np.array(labels)"
   ]
  },
  {
   "cell_type": "code",
   "execution_count": 1093,
   "metadata": {},
   "outputs": [],
   "source": [
    "TRAIN_SPLIT = 90"
   ]
  },
  {
   "cell_type": "code",
   "execution_count": 1094,
   "metadata": {},
   "outputs": [],
   "source": [
    "tf.random.set_seed(13)"
   ]
  },
  {
   "cell_type": "raw",
   "metadata": {},
   "source": [
    "# Chili(Red)"
   ]
  },
  {
   "cell_type": "code",
   "execution_count": 1095,
   "metadata": {},
   "outputs": [
    {
     "data": {
      "text/plain": [
       "date\n",
       "2007-01-01    24974.0693\n",
       "2007-02-01    22593.0000\n",
       "2007-03-01    22807.0000\n",
       "2007-04-01    18414.0000\n",
       "2007-05-01    14910.0000\n",
       "Name: mp_price_edit, dtype: float64"
      ]
     },
     "execution_count": 1095,
     "metadata": {},
     "output_type": "execute_result"
    }
   ],
   "source": [
    "uni_data = train['mp_price_edit']\n",
    "uni_data.index = train['date']\n",
    "uni_data.head()"
   ]
  },
  {
   "cell_type": "code",
   "execution_count": 1096,
   "metadata": {},
   "outputs": [
    {
     "data": {
      "text/plain": [
       "array([<matplotlib.axes._subplots.AxesSubplot object at 0x0000022E1E5EF390>],\n",
       "      dtype=object)"
      ]
     },
     "execution_count": 1096,
     "metadata": {},
     "output_type": "execute_result"
    },
    {
     "data": {
      "image/png": "[encoded data removed]",
      "text/plain": [
       "<Figure size 1080x432 with 1 Axes>"
      ]
     },
     "metadata": {
      "needs_background": "light"
     },
     "output_type": "display_data"
    }
   ],
   "source": [
    "#Plot The Data\n",
    "\n",
    "fig = plt.figure(figsize=(15,6))\n",
    "uni_data.plot(subplots=True)"
   ]
  },
  {
   "cell_type": "code",
   "execution_count": 1097,
   "metadata": {},
   "outputs": [],
   "source": [
    "uni_data = uni_data.values"
   ]
  },
  {
   "cell_type": "code",
   "execution_count": 1098,
   "metadata": {},
   "outputs": [
    {
     "data": {
      "text/plain": [
       "(125,)"
      ]
     },
     "execution_count": 1098,
     "metadata": {},
     "output_type": "execute_result"
    }
   ],
   "source": [
    "uni_data.shape"
   ]
  },
  {
   "cell_type": "code",
   "execution_count": 1099,
   "metadata": {},
   "outputs": [],
   "source": [
    "# Standardize the data\n",
    "uni_train_mean = uni_data[:TRAIN_SPLIT].mean()\n",
    "uni_train_std = uni_data[:TRAIN_SPLIT].std()"
   ]
  },
  {
   "cell_type": "code",
   "execution_count": 1100,
   "metadata": {},
   "outputs": [],
   "source": [
    "uni_data = (uni_data-uni_train_mean)/uni_train_std"
   ]
  },
  {
   "cell_type": "code",
   "execution_count": 1101,
   "metadata": {},
   "outputs": [
    {
     "data": {
      "text/plain": [
       "array([ 1.71218240e-01, -1.66658611e-01, -1.36291731e-01, -7.59664182e-01,\n",
       "       -1.25688637e+00, -7.33838144e-01, -6.81476561e-01, -8.05214502e-01,\n",
       "       -6.88429725e-01, -5.84699868e-01, -7.38237085e-01, -6.94247679e-01,\n",
       "       -9.37892227e-01, -6.51991751e-02,  1.33604559e-01, -6.37801620e-02,\n",
       "       -1.67084315e-01, -1.57576927e-01,  1.17853514e-01,  9.15711096e-03,\n",
       "       -7.00917040e-01, -9.03126406e-01, -6.81050857e-01,  2.56632994e-01,\n",
       "        3.19725597e-03, -3.96680633e-01, -7.16526184e-01, -1.04829145e+00,\n",
       "       -1.15074921e+00, -1.27132943e+00, -1.15568585e+00, -9.98947549e-01,\n",
       "        3.78810021e-01,  1.63988696e+00,  1.09356692e+00, -7.07333261e-02,\n",
       "        2.87425578e-01,  3.90729731e-01, -6.77361423e-01, -3.67307062e-01,\n",
       "        4.19363134e-02,  1.60313452e+00,  2.83356077e+00,  1.73325802e+00,\n",
       "        5.87972551e-01, -7.30344091e-03,  4.01939935e-01,  1.98995749e+00,\n",
       "        2.32825021e+00,  1.66528729e+00,  1.28638013e-01, -6.49264964e-01,\n",
       "       -1.13357413e+00, -1.43852005e+00, -1.55998757e+00, -1.34429758e+00,\n",
       "       -9.39595042e-01, -4.57840098e-01, -1.29065888e+00, -1.19884873e+00,\n",
       "        5.37597586e-01, -6.46001234e-01, -3.15087381e-01, -4.30878849e-01,\n",
       "       -4.95585846e-01,  3.94561067e-01,  6.74785490e-02, -1.67510019e-01,\n",
       "       -6.92828666e-01, -5.48089330e-01, -9.06815840e-01, -8.86523953e-01,\n",
       "       -5.54079847e-02,  1.96324938e-01,  2.48828422e-01,  2.48828422e-01,\n",
       "        8.48077651e-01,  1.45669237e+00,  1.65379328e+00,  1.77696362e+00,\n",
       "        7.96993180e-01,  2.21841859e+00,  1.67663940e+00,  1.61406092e+00,\n",
       "        2.01805395e+00,  1.34104280e+00,  6.58923206e-01, -1.72050861e-01,\n",
       "       -6.46710740e-01, -7.90031062e-01, -7.16951888e-01, -6.77077620e-01,\n",
       "        2.56176628e-02,  1.40262797e+00,  3.55002048e+00,  5.87972551e-01,\n",
       "        3.23613478e+00,  6.15075701e-01, -4.18161211e-03, -1.30189975e-01,\n",
       "        5.90242972e-01,  1.00984514e+00,  1.63917745e+00,  1.78306538e+00,\n",
       "        1.21702105e+00, -3.89780949e-03, -1.04931542e-01,  1.28612699e+00,\n",
       "        1.65237427e+00,  1.99762016e+00,  3.09153735e+00,  1.44902970e+00,\n",
       "        9.47550469e-01,  8.88803327e-01,  1.04900990e+00,  1.30372275e+00,\n",
       "        2.18294327e+00,  3.31020727e+00,  4.72694994e+00,  3.90562516e+00,\n",
       "        3.32113367e+00,  2.93686492e+00,  2.23970379e+00,  1.51288528e+00,\n",
       "        1.59007960e+00])"
      ]
     },
     "execution_count": 1101,
     "metadata": {},
     "output_type": "execute_result"
    }
   ],
   "source": [
    "uni_data"
   ]
  },
  {
   "cell_type": "code",
   "execution_count": 1102,
   "metadata": {},
   "outputs": [],
   "source": [
    "univariate_past_history = 30\n",
    "\n",
    "univariate_future_target = 0\n",
    "\n",
    "x_train_uni, y_train_uni = univariate_data(uni_data, 0, TRAIN_SPLIT,\n",
    "                                           univariate_past_history,\n",
    "                                           univariate_future_target)\n",
    "x_val_uni, y_val_uni = univariate_data(uni_data, TRAIN_SPLIT, None,\n",
    "                                       univariate_past_history,\n",
    "                                       univariate_future_target)"
   ]
  },
  {
   "cell_type": "code",
   "execution_count": 1107,
   "metadata": {},
   "outputs": [
    {
     "name": "stdout",
     "output_type": "stream",
     "text": [
      "Single window of past history\n",
      "[[ 0.17121824]\n",
      " [-0.16665861]\n",
      " [-0.13629173]\n",
      " [-0.75966418]\n",
      " [-1.25688637]\n",
      " [-0.73383814]\n",
      " [-0.68147656]\n",
      " [-0.8052145 ]\n",
      " [-0.68842973]\n",
      " [-0.58469987]\n",
      " [-0.73823708]\n",
      " [-0.69424768]\n",
      " [-0.93789223]\n",
      " [-0.06519918]\n",
      " [ 0.13360456]\n",
      " [-0.06378016]\n",
      " [-0.16708432]\n",
      " [-0.15757693]\n",
      " [ 0.11785351]\n",
      " [ 0.00915711]\n",
      " [-0.70091704]\n",
      " [-0.90312641]\n",
      " [-0.68105086]\n",
      " [ 0.25663299]\n",
      " [ 0.00319726]\n",
      " [-0.39668063]\n",
      " [-0.71652618]\n",
      " [-1.04829145]\n",
      " [-1.15074921]\n",
      " [-1.27132943]]\n",
      "\n",
      " Target price to predict\n",
      "-1.1556858466847661\n"
     ]
    }
   ],
   "source": [
    "print ('Single window of past history')\n",
    "print (x_train_uni[0])\n",
    "print ('\\n Target price to predict')\n",
    "print (y_train_uni[0])"
   ]
  },
  {
   "cell_type": "code",
   "execution_count": 1108,
   "metadata": {},
   "outputs": [],
   "source": [
    "def create_time_steps(length):\n",
    "  return list(range(-length, 0))"
   ]
  },
  {
   "cell_type": "code",
   "execution_count": 1109,
   "metadata": {},
   "outputs": [],
   "source": [
    "def show_plot(plot_data, delta, title):\n",
    "  labels = ['History', 'True Future', 'Model Prediction']\n",
    "  marker = ['.-', 'rx', 'go']\n",
    "  time_steps = create_time_steps(plot_data[0].shape[0])\n",
    "  if delta:\n",
    "    future = delta\n",
    "  else:\n",
    "    future = 0\n",
    "\n",
    "  plt.title(title)\n",
    "  for i, x in enumerate(plot_data):\n",
    "    if i:\n",
    "      plt.plot(future, plot_data[i], marker[i], markersize=10,\n",
    "               label=labels[i])\n",
    "    else:\n",
    "      plt.plot(time_steps, plot_data[i].flatten(), marker[i], label=labels[i])\n",
    "  plt.legend()\n",
    "  plt.xlim([time_steps[0], (future+5)*2])\n",
    "  plt.xlabel('Time-Step')\n",
    "  return plt"
   ]
  },
  {
   "cell_type": "raw",
   "metadata": {},
   "source": [
    "Recurrent Neural Network Model"
   ]
  },
  {
   "cell_type": "code",
   "execution_count": 1226,
   "metadata": {},
   "outputs": [],
   "source": [
    "BATCH_SIZE = 30\n",
    "BUFFER_SIZE = 10000\n",
    "\n",
    "train_univariate = tf.data.Dataset.from_tensor_slices((x_train_uni, y_train_uni))\n",
    "train_univariate = train_univariate.cache().shuffle(BUFFER_SIZE).batch(BATCH_SIZE).repeat()\n",
    "\n",
    "val_univariate = tf.data.Dataset.from_tensor_slices((x_val_uni, y_val_uni))\n",
    "val_univariate = val_univariate.batch(BATCH_SIZE).repeat()"
   ]
  },
  {
   "cell_type": "code",
   "execution_count": 1229,
   "metadata": {},
   "outputs": [],
   "source": [
    "simple_lstm_model = tf.keras.models.Sequential([\n",
    "    tf.keras.layers.LSTM(1, input_shape=x_train_uni.shape[-2:]),\n",
    "    tf.keras.layers.Dense(1, activation = 'linear')\n",
    "])\n",
    "\n",
    "simple_lstm_model.compile(optimizer='adam', loss='mse')"
   ]
  },
  {
   "cell_type": "code",
   "execution_count": 1231,
   "metadata": {},
   "outputs": [
    {
     "name": "stdout",
     "output_type": "stream",
     "text": [
      "Train for 30 steps, validate for 30 steps\n",
      "Epoch 1/250\n",
      "30/30 [==============================] - 4s 118ms/step - loss: 1.4705 - val_loss: 7.0542\n",
      "Epoch 2/250\n",
      "30/30 [==============================] - 1s 25ms/step - loss: 1.4008 - val_loss: 6.5114\n",
      "Epoch 3/250\n",
      "30/30 [==============================] - 1s 28ms/step - loss: 1.3465 - val_loss: 6.0801\n",
      "Epoch 4/250\n",
      "30/30 [==============================] - 1s 26ms/step - loss: 1.3011 - val_loss: 5.7177\n",
      "Epoch 5/250\n",
      "30/30 [==============================] - 1s 27ms/step - loss: 1.2614 - val_loss: 5.3810\n",
      "Epoch 6/250\n",
      "30/30 [==============================] - 1s 25ms/step - loss: 1.2252 - val_loss: 5.0385\n",
      "Epoch 7/250\n",
      "30/30 [==============================] - 1s 27ms/step - loss: 1.1900 - val_loss: 4.6633\n",
      "Epoch 8/250\n",
      "30/30 [==============================] - 1s 27ms/step - loss: 1.1538 - val_loss: 4.2153\n",
      "Epoch 9/250\n",
      "30/30 [==============================] - 1s 27ms/step - loss: 1.1144 - val_loss: 3.6849\n",
      "Epoch 10/250\n",
      "30/30 [==============================] - 1s 27ms/step - loss: 1.0718 - val_loss: 3.1001\n",
      "Epoch 11/250\n",
      "30/30 [==============================] - 1s 26ms/step - loss: 1.0287 - val_loss: 2.5710\n",
      "Epoch 12/250\n",
      "30/30 [==============================] - 1s 27ms/step - loss: 0.9899 - val_loss: 2.1874\n",
      "Epoch 13/250\n",
      "30/30 [==============================] - 1s 27ms/step - loss: 0.9564 - val_loss: 1.9357\n",
      "Epoch 14/250\n",
      "30/30 [==============================] - 1s 27ms/step - loss: 0.9270 - val_loss: 1.7628\n",
      "Epoch 15/250\n",
      "30/30 [==============================] - 1s 27ms/step - loss: 0.9008 - val_loss: 1.6379\n",
      "Epoch 16/250\n",
      "30/30 [==============================] - 1s 29ms/step - loss: 0.8769 - val_loss: 1.5426\n",
      "Epoch 17/250\n",
      "30/30 [==============================] - 1s 26ms/step - loss: 0.8550 - val_loss: 1.4649\n",
      "Epoch 18/250\n",
      "30/30 [==============================] - 1s 26ms/step - loss: 0.8349 - val_loss: 1.4032\n",
      "Epoch 19/250\n",
      "30/30 [==============================] - 1s 27ms/step - loss: 0.8162 - val_loss: 1.3481\n",
      "Epoch 20/250\n",
      "30/30 [==============================] - 1s 27ms/step - loss: 0.7988 - val_loss: 1.3034\n",
      "Epoch 21/250\n",
      "30/30 [==============================] - 1s 26ms/step - loss: 0.7824 - val_loss: 1.2622\n",
      "Epoch 22/250\n",
      "30/30 [==============================] - 1s 27ms/step - loss: 0.7669 - val_loss: 1.2322\n",
      "Epoch 23/250\n",
      "30/30 [==============================] - 1s 27ms/step - loss: 0.7523 - val_loss: 1.1989\n",
      "Epoch 24/250\n",
      "30/30 [==============================] - 1s 27ms/step - loss: 0.7384 - val_loss: 1.1714\n",
      "Epoch 25/250\n",
      "30/30 [==============================] - 1s 26ms/step - loss: 0.7252 - val_loss: 1.1450\n",
      "Epoch 26/250\n",
      "30/30 [==============================] - 1s 27ms/step - loss: 0.7126 - val_loss: 1.1233\n",
      "Epoch 27/250\n",
      "30/30 [==============================] - 1s 27ms/step - loss: 0.7004 - val_loss: 1.1010\n",
      "Epoch 28/250\n",
      "30/30 [==============================] - 1s 27ms/step - loss: 0.6887 - val_loss: 1.0833\n",
      "Epoch 29/250\n",
      "30/30 [==============================] - 1s 28ms/step - loss: 0.6775 - val_loss: 1.0638\n",
      "Epoch 30/250\n",
      "30/30 [==============================] - 1s 27ms/step - loss: 0.6667 - val_loss: 1.0446\n",
      "Epoch 31/250\n",
      "30/30 [==============================] - 1s 24ms/step - loss: 0.6563 - val_loss: 1.0301\n",
      "Epoch 32/250\n",
      "30/30 [==============================] - 1s 27ms/step - loss: 0.6463 - val_loss: 1.0133\n",
      "Epoch 33/250\n",
      "30/30 [==============================] - 1s 26ms/step - loss: 0.6367 - val_loss: 0.9985\n",
      "Epoch 34/250\n",
      "30/30 [==============================] - 1s 25ms/step - loss: 0.6273 - val_loss: 0.9829\n",
      "Epoch 35/250\n",
      "30/30 [==============================] - 1s 28ms/step - loss: 0.6184 - val_loss: 0.9693\n",
      "Epoch 36/250\n",
      "30/30 [==============================] - 1s 26ms/step - loss: 0.6097 - val_loss: 0.9537\n",
      "Epoch 37/250\n",
      "30/30 [==============================] - 1s 26ms/step - loss: 0.6014 - val_loss: 0.9412\n",
      "Epoch 38/250\n",
      "30/30 [==============================] - 1s 26ms/step - loss: 0.5933 - val_loss: 0.9285\n",
      "Epoch 39/250\n",
      "30/30 [==============================] - 1s 27ms/step - loss: 0.5855 - val_loss: 0.9160\n",
      "Epoch 40/250\n",
      "30/30 [==============================] - 1s 27ms/step - loss: 0.5781 - val_loss: 0.9035\n",
      "Epoch 41/250\n",
      "30/30 [==============================] - 1s 25ms/step - loss: 0.5709 - val_loss: 0.8910\n",
      "Epoch 42/250\n",
      "30/30 [==============================] - 1s 30ms/step - loss: 0.5641 - val_loss: 0.8804\n",
      "Epoch 43/250\n",
      "30/30 [==============================] - 1s 27ms/step - loss: 0.5575 - val_loss: 0.8686\n",
      "Epoch 44/250\n",
      "30/30 [==============================] - 1s 26ms/step - loss: 0.5512 - val_loss: 0.8573\n",
      "Epoch 45/250\n",
      "30/30 [==============================] - 1s 26ms/step - loss: 0.5452 - val_loss: 0.8476\n",
      "Epoch 46/250\n",
      "30/30 [==============================] - 1s 27ms/step - loss: 0.5395 - val_loss: 0.8375\n",
      "Epoch 47/250\n",
      "30/30 [==============================] - 1s 26ms/step - loss: 0.5340 - val_loss: 0.8277\n",
      "Epoch 48/250\n",
      "30/30 [==============================] - 1s 27ms/step - loss: 0.5287 - val_loss: 0.8171\n",
      "Epoch 49/250\n",
      "30/30 [==============================] - 1s 28ms/step - loss: 0.5237 - val_loss: 0.8095\n",
      "Epoch 50/250\n",
      "30/30 [==============================] - 1s 28ms/step - loss: 0.5190 - val_loss: 0.7997\n",
      "Epoch 51/250\n",
      "30/30 [==============================] - 1s 27ms/step - loss: 0.5145 - val_loss: 0.7908\n",
      "Epoch 52/250\n",
      "30/30 [==============================] - 1s 29ms/step - loss: 0.5102 - val_loss: 0.7836\n",
      "Epoch 53/250\n",
      "30/30 [==============================] - 1s 25ms/step - loss: 0.5061 - val_loss: 0.7746\n",
      "Epoch 54/250\n",
      "30/30 [==============================] - 1s 27ms/step - loss: 0.5022 - val_loss: 0.7680\n",
      "Epoch 55/250\n",
      "30/30 [==============================] - 1s 28ms/step - loss: 0.4986 - val_loss: 0.7597\n",
      "Epoch 56/250\n",
      "30/30 [==============================] - 1s 27ms/step - loss: 0.4952 - val_loss: 0.7523\n",
      "Epoch 57/250\n",
      "30/30 [==============================] - 1s 28ms/step - loss: 0.4919 - val_loss: 0.7456\n",
      "Epoch 58/250\n",
      "30/30 [==============================] - 1s 28ms/step - loss: 0.4889 - val_loss: 0.7383\n",
      "Epoch 59/250\n",
      "30/30 [==============================] - 1s 28ms/step - loss: 0.4860 - val_loss: 0.7330\n",
      "Epoch 60/250\n",
      "30/30 [==============================] - 1s 25ms/step - loss: 0.4833 - val_loss: 0.7257\n",
      "Epoch 61/250\n",
      "30/30 [==============================] - 1s 29ms/step - loss: 0.4808 - val_loss: 0.7196\n",
      "Epoch 62/250\n",
      "30/30 [==============================] - 1s 28ms/step - loss: 0.4785 - val_loss: 0.7133\n",
      "Epoch 63/250\n",
      "30/30 [==============================] - 1s 26ms/step - loss: 0.4763 - val_loss: 0.7074\n",
      "Epoch 64/250\n",
      "30/30 [==============================] - 1s 27ms/step - loss: 0.4742 - val_loss: 0.7007\n",
      "Epoch 65/250\n",
      "30/30 [==============================] - 1s 28ms/step - loss: 0.4724 - val_loss: 0.6959\n",
      "Epoch 66/250\n",
      "30/30 [==============================] - 1s 27ms/step - loss: 0.4706 - val_loss: 0.6898\n",
      "Epoch 67/250\n",
      "30/30 [==============================] - 1s 24ms/step - loss: 0.4690 - val_loss: 0.6853\n",
      "Epoch 68/250\n",
      "30/30 [==============================] - 1s 28ms/step - loss: 0.4675 - val_loss: 0.6793\n",
      "Epoch 69/250\n",
      "30/30 [==============================] - 1s 25ms/step - loss: 0.4662 - val_loss: 0.6745\n",
      "Epoch 70/250\n",
      "30/30 [==============================] - 1s 27ms/step - loss: 0.4649 - val_loss: 0.6690\n",
      "Epoch 71/250\n",
      "30/30 [==============================] - 1s 27ms/step - loss: 0.4637 - val_loss: 0.6651\n",
      "Epoch 72/250\n",
      "30/30 [==============================] - 1s 23ms/step - loss: 0.4627 - val_loss: 0.6598\n",
      "Epoch 73/250\n",
      "30/30 [==============================] - 1s 26ms/step - loss: 0.4617 - val_loss: 0.6549\n",
      "Epoch 74/250\n",
      "30/30 [==============================] - 1s 26ms/step - loss: 0.4608 - val_loss: 0.6505\n",
      "Epoch 75/250\n",
      "30/30 [==============================] - 1s 27ms/step - loss: 0.4600 - val_loss: 0.6463\n",
      "Epoch 76/250\n",
      "30/30 [==============================] - 1s 27ms/step - loss: 0.4593 - val_loss: 0.6428\n",
      "Epoch 77/250\n",
      "30/30 [==============================] - 1s 26ms/step - loss: 0.4587 - val_loss: 0.6381\n",
      "Epoch 78/250\n",
      "30/30 [==============================] - 1s 27ms/step - loss: 0.4581 - val_loss: 0.6341\n",
      "Epoch 79/250\n",
      "30/30 [==============================] - 1s 26ms/step - loss: 0.4575 - val_loss: 0.6305\n",
      "Epoch 80/250\n",
      "30/30 [==============================] - 1s 26ms/step - loss: 0.4570 - val_loss: 0.6273\n",
      "Epoch 81/250\n",
      "30/30 [==============================] - 1s 28ms/step - loss: 0.4566 - val_loss: 0.6226\n"
     ]
    },
    {
     "name": "stdout",
     "output_type": "stream",
     "text": [
      "Epoch 82/250\n",
      "30/30 [==============================] - 1s 26ms/step - loss: 0.4562 - val_loss: 0.6194\n",
      "Epoch 83/250\n",
      "30/30 [==============================] - 1s 27ms/step - loss: 0.4558 - val_loss: 0.6162\n",
      "Epoch 84/250\n",
      "30/30 [==============================] - 1s 28ms/step - loss: 0.4555 - val_loss: 0.6130\n",
      "Epoch 85/250\n",
      "30/30 [==============================] - 1s 28ms/step - loss: 0.4552 - val_loss: 0.6096\n",
      "Epoch 86/250\n",
      "30/30 [==============================] - 1s 26ms/step - loss: 0.4549 - val_loss: 0.6068\n",
      "Epoch 87/250\n",
      "30/30 [==============================] - 1s 27ms/step - loss: 0.4546 - val_loss: 0.6044\n",
      "Epoch 88/250\n",
      "30/30 [==============================] - 1s 28ms/step - loss: 0.4544 - val_loss: 0.6013\n",
      "Epoch 89/250\n",
      "30/30 [==============================] - 1s 26ms/step - loss: 0.4541 - val_loss: 0.5977\n",
      "Epoch 90/250\n",
      "30/30 [==============================] - 1s 26ms/step - loss: 0.4540 - val_loss: 0.5949\n",
      "Epoch 91/250\n",
      "30/30 [==============================] - 1s 27ms/step - loss: 0.4538 - val_loss: 0.5927\n",
      "Epoch 92/250\n",
      "30/30 [==============================] - 1s 27ms/step - loss: 0.4536 - val_loss: 0.5912\n",
      "Epoch 93/250\n",
      "30/30 [==============================] - 1s 26ms/step - loss: 0.4534 - val_loss: 0.5880\n",
      "Epoch 94/250\n",
      "30/30 [==============================] - 1s 29ms/step - loss: 0.4533 - val_loss: 0.5854\n",
      "Epoch 95/250\n",
      "30/30 [==============================] - 1s 27ms/step - loss: 0.4531 - val_loss: 0.5834\n",
      "Epoch 96/250\n",
      "30/30 [==============================] - 1s 27ms/step - loss: 0.4530 - val_loss: 0.5813\n",
      "Epoch 97/250\n",
      "30/30 [==============================] - 1s 27ms/step - loss: 0.4529 - val_loss: 0.5792\n",
      "Epoch 98/250\n",
      "30/30 [==============================] - 1s 27ms/step - loss: 0.4527 - val_loss: 0.5767\n",
      "Epoch 99/250\n",
      "30/30 [==============================] - 1s 26ms/step - loss: 0.4526 - val_loss: 0.5751\n",
      "Epoch 100/250\n",
      "30/30 [==============================] - 1s 27ms/step - loss: 0.4525 - val_loss: 0.5730\n",
      "Epoch 101/250\n",
      "30/30 [==============================] - 1s 28ms/step - loss: 0.4524 - val_loss: 0.5708\n",
      "Epoch 102/250\n",
      "30/30 [==============================] - 1s 28ms/step - loss: 0.4523 - val_loss: 0.5697\n",
      "Epoch 103/250\n",
      "30/30 [==============================] - 1s 27ms/step - loss: 0.4522 - val_loss: 0.5673\n",
      "Epoch 104/250\n",
      "30/30 [==============================] - 1s 28ms/step - loss: 0.4521 - val_loss: 0.5651\n",
      "Epoch 105/250\n",
      "30/30 [==============================] - 1s 26ms/step - loss: 0.4520 - val_loss: 0.5642\n",
      "Epoch 106/250\n",
      "30/30 [==============================] - 1s 27ms/step - loss: 0.4519 - val_loss: 0.5632\n",
      "Epoch 107/250\n",
      "30/30 [==============================] - 1s 28ms/step - loss: 0.4518 - val_loss: 0.5610\n",
      "Epoch 108/250\n",
      "30/30 [==============================] - 1s 28ms/step - loss: 0.4517 - val_loss: 0.5590\n",
      "Epoch 109/250\n",
      "30/30 [==============================] - 1s 26ms/step - loss: 0.4516 - val_loss: 0.5580\n",
      "Epoch 110/250\n",
      "30/30 [==============================] - 1s 27ms/step - loss: 0.4515 - val_loss: 0.5566\n",
      "Epoch 111/250\n",
      "30/30 [==============================] - 1s 29ms/step - loss: 0.4514 - val_loss: 0.5557\n",
      "Epoch 112/250\n",
      "30/30 [==============================] - 1s 28ms/step - loss: 0.4513 - val_loss: 0.5547\n",
      "Epoch 113/250\n",
      "30/30 [==============================] - 1s 27ms/step - loss: 0.4513 - val_loss: 0.5520\n",
      "Epoch 114/250\n",
      "30/30 [==============================] - 1s 30ms/step - loss: 0.4512 - val_loss: 0.5514\n",
      "Epoch 115/250\n",
      "30/30 [==============================] - 1s 27ms/step - loss: 0.4511 - val_loss: 0.5497\n",
      "Epoch 116/250\n",
      "30/30 [==============================] - 1s 26ms/step - loss: 0.4510 - val_loss: 0.5488\n",
      "Epoch 117/250\n",
      "30/30 [==============================] - 1s 27ms/step - loss: 0.4509 - val_loss: 0.5480\n",
      "Epoch 118/250\n",
      "30/30 [==============================] - 1s 27ms/step - loss: 0.4509 - val_loss: 0.5467\n",
      "Epoch 119/250\n",
      "30/30 [==============================] - 1s 27ms/step - loss: 0.4508 - val_loss: 0.5459\n",
      "Epoch 120/250\n",
      "30/30 [==============================] - 1s 26ms/step - loss: 0.4507 - val_loss: 0.5452\n",
      "Epoch 121/250\n",
      "30/30 [==============================] - 1s 28ms/step - loss: 0.4506 - val_loss: 0.5437\n",
      "Epoch 122/250\n",
      "30/30 [==============================] - 1s 26ms/step - loss: 0.4506 - val_loss: 0.5423\n",
      "Epoch 123/250\n",
      "30/30 [==============================] - 1s 27ms/step - loss: 0.4505 - val_loss: 0.5417\n",
      "Epoch 124/250\n",
      "30/30 [==============================] - 1s 28ms/step - loss: 0.4504 - val_loss: 0.5407\n",
      "Epoch 125/250\n",
      "30/30 [==============================] - 1s 26ms/step - loss: 0.4504 - val_loss: 0.5403\n",
      "Epoch 126/250\n",
      "30/30 [==============================] - 1s 25ms/step - loss: 0.4503 - val_loss: 0.5390\n",
      "Epoch 127/250\n",
      "30/30 [==============================] - 1s 28ms/step - loss: 0.4502 - val_loss: 0.5394\n",
      "Epoch 128/250\n",
      "30/30 [==============================] - 1s 23ms/step - loss: 0.4501 - val_loss: 0.5376\n",
      "Epoch 129/250\n",
      "30/30 [==============================] - 1s 27ms/step - loss: 0.4501 - val_loss: 0.5360\n",
      "Epoch 130/250\n",
      "30/30 [==============================] - 1s 29ms/step - loss: 0.4500 - val_loss: 0.5363\n",
      "Epoch 131/250\n",
      "30/30 [==============================] - 1s 26ms/step - loss: 0.4500 - val_loss: 0.5347\n",
      "Epoch 132/250\n",
      "30/30 [==============================] - 1s 27ms/step - loss: 0.4499 - val_loss: 0.5347\n",
      "Epoch 133/250\n",
      "30/30 [==============================] - 1s 26ms/step - loss: 0.4498 - val_loss: 0.5343\n",
      "Epoch 134/250\n",
      "30/30 [==============================] - 1s 26ms/step - loss: 0.4497 - val_loss: 0.5330\n",
      "Epoch 135/250\n",
      "30/30 [==============================] - 1s 25ms/step - loss: 0.4497 - val_loss: 0.5327\n",
      "Epoch 136/250\n",
      "30/30 [==============================] - 1s 27ms/step - loss: 0.4496 - val_loss: 0.5320\n",
      "Epoch 137/250\n",
      "30/30 [==============================] - 1s 28ms/step - loss: 0.4495 - val_loss: 0.5321\n",
      "Epoch 138/250\n",
      "30/30 [==============================] - 1s 28ms/step - loss: 0.4495 - val_loss: 0.5311\n",
      "Epoch 139/250\n",
      "30/30 [==============================] - 1s 28ms/step - loss: 0.4494 - val_loss: 0.5304\n",
      "Epoch 140/250\n",
      "30/30 [==============================] - 1s 27ms/step - loss: 0.4494 - val_loss: 0.5300\n",
      "Epoch 141/250\n",
      "30/30 [==============================] - 1s 27ms/step - loss: 0.4493 - val_loss: 0.5300\n",
      "Epoch 142/250\n",
      "30/30 [==============================] - 1s 25ms/step - loss: 0.4492 - val_loss: 0.5294\n",
      "Epoch 143/250\n",
      "30/30 [==============================] - 1s 27ms/step - loss: 0.4492 - val_loss: 0.5289\n",
      "Epoch 144/250\n",
      "30/30 [==============================] - 1s 27ms/step - loss: 0.4491 - val_loss: 0.5282\n",
      "Epoch 145/250\n",
      "30/30 [==============================] - 1s 28ms/step - loss: 0.4491 - val_loss: 0.5271\n",
      "Epoch 146/250\n",
      "30/30 [==============================] - 1s 27ms/step - loss: 0.4490 - val_loss: 0.5265\n",
      "Epoch 147/250\n",
      "30/30 [==============================] - 1s 29ms/step - loss: 0.4490 - val_loss: 0.5274\n",
      "Epoch 148/250\n",
      "30/30 [==============================] - 1s 27ms/step - loss: 0.4489 - val_loss: 0.5265\n",
      "Epoch 149/250\n",
      "30/30 [==============================] - 1s 27ms/step - loss: 0.4488 - val_loss: 0.5272\n",
      "Epoch 150/250\n",
      "30/30 [==============================] - 1s 28ms/step - loss: 0.4488 - val_loss: 0.5262\n",
      "Epoch 151/250\n",
      "30/30 [==============================] - 1s 26ms/step - loss: 0.4487 - val_loss: 0.5258\n",
      "Epoch 152/250\n",
      "30/30 [==============================] - 1s 26ms/step - loss: 0.4487 - val_loss: 0.5247\n",
      "Epoch 153/250\n",
      "30/30 [==============================] - 1s 30ms/step - loss: 0.4486 - val_loss: 0.5264\n",
      "Epoch 154/250\n",
      "30/30 [==============================] - 1s 25ms/step - loss: 0.4485 - val_loss: 0.5250\n",
      "Epoch 155/250\n",
      "30/30 [==============================] - 1s 25ms/step - loss: 0.4485 - val_loss: 0.5248\n",
      "Epoch 156/250\n",
      "30/30 [==============================] - 1s 26ms/step - loss: 0.4484 - val_loss: 0.5254\n",
      "Epoch 157/250\n",
      "30/30 [==============================] - 1s 26ms/step - loss: 0.4484 - val_loss: 0.5244\n",
      "Epoch 158/250\n",
      "30/30 [==============================] - 1s 25ms/step - loss: 0.4483 - val_loss: 0.5241\n",
      "Epoch 159/250\n",
      "30/30 [==============================] - 1s 29ms/step - loss: 0.4482 - val_loss: 0.5239\n",
      "Epoch 160/250\n",
      "30/30 [==============================] - 1s 25ms/step - loss: 0.4482 - val_loss: 0.5226\n",
      "Epoch 161/250\n",
      "30/30 [==============================] - 1s 26ms/step - loss: 0.4481 - val_loss: 0.5247\n",
      "Epoch 162/250\n",
      "30/30 [==============================] - 1s 27ms/step - loss: 0.4481 - val_loss: 0.5247\n",
      "Epoch 163/250\n",
      "30/30 [==============================] - 1s 26ms/step - loss: 0.4480 - val_loss: 0.5232\n",
      "Epoch 164/250\n",
      "30/30 [==============================] - 1s 26ms/step - loss: 0.4480 - val_loss: 0.5230\n",
      "Epoch 165/250\n",
      "30/30 [==============================] - 1s 28ms/step - loss: 0.4479 - val_loss: 0.5240\n",
      "Epoch 166/250\n",
      "30/30 [==============================] - 1s 27ms/step - loss: 0.4479 - val_loss: 0.5235\n",
      "Epoch 167/250\n",
      "30/30 [==============================] - 1s 26ms/step - loss: 0.4478 - val_loss: 0.5236\n",
      "Epoch 168/250\n",
      "30/30 [==============================] - 1s 28ms/step - loss: 0.4478 - val_loss: 0.5241\n",
      "Epoch 169/250\n",
      "30/30 [==============================] - 1s 28ms/step - loss: 0.4477 - val_loss: 0.5227\n",
      "Epoch 170/250\n",
      "30/30 [==============================] - 1s 27ms/step - loss: 0.4477 - val_loss: 0.5239\n",
      "Epoch 171/250\n",
      "30/30 [==============================] - 1s 26ms/step - loss: 0.4476 - val_loss: 0.5242\n",
      "Epoch 172/250\n",
      "30/30 [==============================] - 1s 27ms/step - loss: 0.4476 - val_loss: 0.5232\n",
      "Epoch 173/250\n",
      "30/30 [==============================] - 1s 28ms/step - loss: 0.4475 - val_loss: 0.5242\n",
      "Epoch 174/250\n",
      "30/30 [==============================] - 1s 26ms/step - loss: 0.4475 - val_loss: 0.5248\n",
      "Epoch 175/250\n",
      "30/30 [==============================] - 1s 28ms/step - loss: 0.4474 - val_loss: 0.5237\n",
      "Epoch 176/250\n",
      "30/30 [==============================] - 1s 26ms/step - loss: 0.4474 - val_loss: 0.5247\n",
      "Epoch 177/250\n",
      "30/30 [==============================] - 1s 26ms/step - loss: 0.4473 - val_loss: 0.5243\n",
      "Epoch 178/250\n",
      "30/30 [==============================] - 1s 28ms/step - loss: 0.4473 - val_loss: 0.5237\n",
      "Epoch 179/250\n",
      "30/30 [==============================] - 1s 26ms/step - loss: 0.4472 - val_loss: 0.5246\n",
      "Epoch 180/250\n",
      "30/30 [==============================] - 1s 26ms/step - loss: 0.4472 - val_loss: 0.5240\n",
      "Epoch 181/250\n",
      "30/30 [==============================] - 1s 27ms/step - loss: 0.4471 - val_loss: 0.5253\n",
      "Epoch 182/250\n",
      "30/30 [==============================] - 1s 26ms/step - loss: 0.4471 - val_loss: 0.5251\n",
      "Epoch 183/250\n",
      "30/30 [==============================] - 1s 26ms/step - loss: 0.4470 - val_loss: 0.5251\n",
      "Epoch 184/250\n",
      "30/30 [==============================] - 1s 27ms/step - loss: 0.4470 - val_loss: 0.5249\n",
      "Epoch 185/250\n",
      "30/30 [==============================] - 1s 28ms/step - loss: 0.4469 - val_loss: 0.5256\n",
      "Epoch 186/250\n",
      "30/30 [==============================] - 1s 26ms/step - loss: 0.4469 - val_loss: 0.5247\n",
      "Epoch 187/250\n",
      "30/30 [==============================] - 1s 25ms/step - loss: 0.4468 - val_loss: 0.5272\n",
      "Epoch 188/250\n",
      "30/30 [==============================] - 1s 27ms/step - loss: 0.4468 - val_loss: 0.5255\n",
      "Epoch 189/250\n",
      "30/30 [==============================] - 1s 26ms/step - loss: 0.4467 - val_loss: 0.5262\n",
      "Epoch 190/250\n",
      "30/30 [==============================] - 1s 26ms/step - loss: 0.4467 - val_loss: 0.5262\n",
      "Epoch 191/250\n",
      "30/30 [==============================] - 1s 26ms/step - loss: 0.4466 - val_loss: 0.5275\n",
      "Epoch 192/250\n",
      "30/30 [==============================] - 1s 25ms/step - loss: 0.4466 - val_loss: 0.5276\n",
      "Epoch 193/250\n",
      "30/30 [==============================] - 1s 27ms/step - loss: 0.4465 - val_loss: 0.5282\n",
      "Epoch 194/250\n",
      "30/30 [==============================] - 1s 26ms/step - loss: 0.4465 - val_loss: 0.5271\n",
      "Epoch 195/250\n",
      "30/30 [==============================] - 1s 27ms/step - loss: 0.4464 - val_loss: 0.5284\n",
      "Epoch 196/250\n",
      "30/30 [==============================] - 1s 26ms/step - loss: 0.4464 - val_loss: 0.5285\n",
      "Epoch 197/250\n",
      "30/30 [==============================] - 1s 28ms/step - loss: 0.4463 - val_loss: 0.5289\n",
      "Epoch 198/250\n",
      "30/30 [==============================] - 1s 26ms/step - loss: 0.4463 - val_loss: 0.5304\n",
      "Epoch 199/250\n",
      "30/30 [==============================] - 1s 26ms/step - loss: 0.4462 - val_loss: 0.5305\n",
      "Epoch 200/250\n",
      "30/30 [==============================] - 1s 28ms/step - loss: 0.4462 - val_loss: 0.5305\n",
      "Epoch 201/250\n",
      "30/30 [==============================] - 1s 28ms/step - loss: 0.4461 - val_loss: 0.5302\n",
      "Epoch 202/250\n",
      "30/30 [==============================] - 1s 26ms/step - loss: 0.4461 - val_loss: 0.5297\n",
      "Epoch 203/250\n",
      "30/30 [==============================] - 1s 27ms/step - loss: 0.4460 - val_loss: 0.5323\n",
      "Epoch 204/250\n",
      "30/30 [==============================] - 1s 29ms/step - loss: 0.4460 - val_loss: 0.5332\n",
      "Epoch 205/250\n",
      "30/30 [==============================] - 1s 26ms/step - loss: 0.4460 - val_loss: 0.5322\n",
      "Epoch 206/250\n",
      "30/30 [==============================] - 1s 25ms/step - loss: 0.4459 - val_loss: 0.5322\n",
      "Epoch 207/250\n",
      "30/30 [==============================] - 1s 27ms/step - loss: 0.4459 - val_loss: 0.5336\n",
      "Epoch 208/250\n",
      "30/30 [==============================] - 1s 27ms/step - loss: 0.4458 - val_loss: 0.5341\n",
      "Epoch 209/250\n",
      "30/30 [==============================] - 1s 27ms/step - loss: 0.4458 - val_loss: 0.5339\n",
      "Epoch 210/250\n",
      "30/30 [==============================] - 1s 27ms/step - loss: 0.4457 - val_loss: 0.5351\n",
      "Epoch 211/250\n",
      "30/30 [==============================] - 1s 25ms/step - loss: 0.4457 - val_loss: 0.5353\n",
      "Epoch 212/250\n",
      "30/30 [==============================] - 1s 26ms/step - loss: 0.4456 - val_loss: 0.5359\n",
      "Epoch 213/250\n",
      "30/30 [==============================] - 1s 28ms/step - loss: 0.4456 - val_loss: 0.5364\n",
      "Epoch 214/250\n",
      "30/30 [==============================] - 1s 25ms/step - loss: 0.4456 - val_loss: 0.5371\n",
      "Epoch 215/250\n",
      "30/30 [==============================] - 1s 27ms/step - loss: 0.4455 - val_loss: 0.5364\n",
      "Epoch 216/250\n",
      "30/30 [==============================] - 1s 27ms/step - loss: 0.4454 - val_loss: 0.5375\n",
      "Epoch 217/250\n",
      "30/30 [==============================] - 1s 26ms/step - loss: 0.4454 - val_loss: 0.5377\n",
      "Epoch 218/250\n",
      "30/30 [==============================] - 1s 26ms/step - loss: 0.4454 - val_loss: 0.5397\n",
      "Epoch 219/250\n",
      "30/30 [==============================] - 1s 27ms/step - loss: 0.4453 - val_loss: 0.5396\n",
      "Epoch 220/250\n",
      "30/30 [==============================] - 1s 27ms/step - loss: 0.4453 - val_loss: 0.5396\n",
      "Epoch 221/250\n",
      "30/30 [==============================] - 1s 25ms/step - loss: 0.4452 - val_loss: 0.5397\n",
      "Epoch 222/250\n",
      "30/30 [==============================] - 1s 26ms/step - loss: 0.4452 - val_loss: 0.5409\n",
      "Epoch 223/250\n",
      "30/30 [==============================] - 1s 26ms/step - loss: 0.4451 - val_loss: 0.5420\n",
      "Epoch 224/250\n",
      "30/30 [==============================] - 1s 25ms/step - loss: 0.4451 - val_loss: 0.5433\n",
      "Epoch 225/250\n",
      "30/30 [==============================] - 1s 27ms/step - loss: 0.4450 - val_loss: 0.5426\n",
      "Epoch 226/250\n",
      "30/30 [==============================] - 1s 26ms/step - loss: 0.4450 - val_loss: 0.5438\n",
      "Epoch 227/250\n",
      "30/30 [==============================] - 1s 26ms/step - loss: 0.4449 - val_loss: 0.5441\n",
      "Epoch 228/250\n",
      "30/30 [==============================] - 1s 26ms/step - loss: 0.4449 - val_loss: 0.5454\n",
      "Epoch 229/250\n",
      "30/30 [==============================] - 1s 28ms/step - loss: 0.4449 - val_loss: 0.5458\n",
      "Epoch 230/250\n",
      "30/30 [==============================] - 1s 26ms/step - loss: 0.4448 - val_loss: 0.5463\n",
      "Epoch 231/250\n",
      "30/30 [==============================] - 1s 26ms/step - loss: 0.4448 - val_loss: 0.5468\n",
      "Epoch 232/250\n",
      "30/30 [==============================] - 1s 28ms/step - loss: 0.4447 - val_loss: 0.5475\n",
      "Epoch 233/250\n",
      "30/30 [==============================] - 1s 25ms/step - loss: 0.4447 - val_loss: 0.5473\n",
      "Epoch 234/250\n",
      "30/30 [==============================] - 1s 26ms/step - loss: 0.4446 - val_loss: 0.5481\n",
      "Epoch 235/250\n",
      "30/30 [==============================] - 1s 28ms/step - loss: 0.4446 - val_loss: 0.5498\n",
      "Epoch 236/250\n",
      "30/30 [==============================] - 1s 27ms/step - loss: 0.4446 - val_loss: 0.5504\n",
      "Epoch 237/250\n",
      "30/30 [==============================] - 1s 26ms/step - loss: 0.4445 - val_loss: 0.5505\n",
      "Epoch 238/250\n",
      "30/30 [==============================] - 1s 26ms/step - loss: 0.4445 - val_loss: 0.5516\n",
      "Epoch 239/250\n",
      "30/30 [==============================] - 1s 27ms/step - loss: 0.4444 - val_loss: 0.5517\n",
      "Epoch 240/250\n",
      "30/30 [==============================] - 1s 27ms/step - loss: 0.4444 - val_loss: 0.5530\n",
      "Epoch 241/250\n",
      "30/30 [==============================] - 1s 25ms/step - loss: 0.4444 - val_loss: 0.5532\n",
      "Epoch 242/250\n"
     ]
    },
    {
     "name": "stdout",
     "output_type": "stream",
     "text": [
      "30/30 [==============================] - 1s 27ms/step - loss: 0.4443 - val_loss: 0.5546\n",
      "Epoch 243/250\n",
      "30/30 [==============================] - 1s 26ms/step - loss: 0.4443 - val_loss: 0.5553\n",
      "Epoch 244/250\n",
      "30/30 [==============================] - 1s 27ms/step - loss: 0.4442 - val_loss: 0.5561\n",
      "Epoch 245/250\n",
      "30/30 [==============================] - 1s 26ms/step - loss: 0.4442 - val_loss: 0.5559\n",
      "Epoch 246/250\n",
      "30/30 [==============================] - 1s 26ms/step - loss: 0.4441 - val_loss: 0.5566\n",
      "Epoch 247/250\n",
      "30/30 [==============================] - 1s 26ms/step - loss: 0.4441 - val_loss: 0.5572\n",
      "Epoch 248/250\n",
      "30/30 [==============================] - 1s 27ms/step - loss: 0.4440 - val_loss: 0.5585\n",
      "Epoch 249/250\n",
      "30/30 [==============================] - 1s 26ms/step - loss: 0.4440 - val_loss: 0.5592\n",
      "Epoch 250/250\n",
      "30/30 [==============================] - 1s 26ms/step - loss: 0.4439 - val_loss: 0.5602\n"
     ]
    }
   ],
   "source": [
    "EVALUATION_INTERVAL = 30\n",
    "EPOCHS = 250\n",
    "\n",
    "single_step_history = simple_lstm_model.fit(train_univariate, epochs=EPOCHS,\n",
    "                      steps_per_epoch=EVALUATION_INTERVAL,\n",
    "                      validation_data=val_univariate, validation_steps=30)"
   ]
  },
  {
   "cell_type": "raw",
   "metadata": {},
   "source": [
    "Model Prediction Graph"
   ]
  },
  {
   "cell_type": "code",
   "execution_count": 1232,
   "metadata": {},
   "outputs": [
    {
     "data": {
      "image/png": "[encoded data removed]",
      "text/plain": [
       "<Figure size 1080x432 with 1 Axes>"
      ]
     },
     "metadata": {
      "needs_background": "light"
     },
     "output_type": "display_data"
    }
   ],
   "source": [
    "for x, y in val_univariate.take(1):\n",
    "  fig = plt.figure(figsize=(15,6))\n",
    "  plot = show_plot([x[0].numpy(), y[0].numpy(),\n",
    "                    simple_lstm_model.predict(x)[0]], 0, 'Simple LSTM model')\n",
    "  plot.show()"
   ]
  },
  {
   "cell_type": "raw",
   "metadata": {},
   "source": [
    "Training and Validation Loss Plot"
   ]
  },
  {
   "cell_type": "code",
   "execution_count": 1233,
   "metadata": {},
   "outputs": [],
   "source": [
    "def plot_train_history(history, title):\n",
    "  loss = history.history['loss']\n",
    "  val_loss = history.history['val_loss']\n",
    "\n",
    "  epochs = range(len(loss))\n",
    "\n",
    "  plt.figure()\n",
    "\n",
    "  plt.plot(epochs, loss, 'b', label='Training loss')\n",
    "  plt.plot(epochs, val_loss, 'r', label='Validation loss')\n",
    "  plt.title(title)\n",
    "  plt.legend()\n",
    "\n",
    "  plt.show()"
   ]
  },
  {
   "cell_type": "code",
   "execution_count": 1234,
   "metadata": {},
   "outputs": [
    {
     "data": {
      "image/png": "[encoded data removed]",
      "text/plain": [
       "<Figure size 576x432 with 1 Axes>"
      ]
     },
     "metadata": {
      "needs_background": "light"
     },
     "output_type": "display_data"
    }
   ],
   "source": [
    "plot_train_history(single_step_history,\n",
    "                   'Single Step Training and validation loss')"
   ]
  },
  {
   "cell_type": "raw",
   "metadata": {},
   "source": [
    "Evaluate the model with the test data"
   ]
  },
  {
   "cell_type": "code",
   "execution_count": 1235,
   "metadata": {},
   "outputs": [
    {
     "data": {
      "text/plain": [
       "date\n",
       "2017-06-01    31731.0\n",
       "2017-08-01    31008.0\n",
       "2017-09-01    31433.0\n",
       "2017-10-01    33190.0\n",
       "2017-11-01    36144.0\n",
       "Name: mp_price_edit, dtype: float64"
      ]
     },
     "execution_count": 1235,
     "metadata": {},
     "output_type": "execute_result"
    }
   ],
   "source": [
    "test_data = test['mp_price_edit']\n",
    "test_data.index = test['date']\n",
    "test_data.head()"
   ]
  },
  {
   "cell_type": "code",
   "execution_count": 1236,
   "metadata": {},
   "outputs": [],
   "source": [
    "test_data = test_data.values"
   ]
  },
  {
   "cell_type": "code",
   "execution_count": 1237,
   "metadata": {},
   "outputs": [],
   "source": [
    "test_data = (test_data-uni_train_mean)/uni_train_std"
   ]
  },
  {
   "cell_type": "code",
   "execution_count": 1238,
   "metadata": {},
   "outputs": [],
   "source": [
    "univariate_future_target = 0\n",
    "\n",
    "x_test, y_test = univariate_data(uni_data, 0, len(test_data)+1,\n",
    "                                           len(test_data),\n",
    "                                           univariate_future_target)"
   ]
  },
  {
   "cell_type": "code",
   "execution_count": 1239,
   "metadata": {},
   "outputs": [
    {
     "data": {
      "text/plain": [
       "(1, 30, 1)"
      ]
     },
     "execution_count": 1239,
     "metadata": {},
     "output_type": "execute_result"
    }
   ],
   "source": [
    "x_test.shape"
   ]
  },
  {
   "cell_type": "code",
   "execution_count": 1240,
   "metadata": {},
   "outputs": [
    {
     "data": {
      "text/plain": [
       "(1,)"
      ]
     },
     "execution_count": 1240,
     "metadata": {},
     "output_type": "execute_result"
    }
   ],
   "source": [
    "y_test.shape"
   ]
  },
  {
   "cell_type": "code",
   "execution_count": 1241,
   "metadata": {},
   "outputs": [
    {
     "name": "stdout",
     "output_type": "stream",
     "text": [
      "\r",
      "1/1 [==============================] - 1s 516ms/sample - loss: 0.0426\n"
     ]
    }
   ],
   "source": [
    "results = simple_lstm_model.evaluate(x_test, y_test, batch_size=30)"
   ]
  },
  {
   "cell_type": "code",
   "execution_count": 1242,
   "metadata": {},
   "outputs": [],
   "source": [
    "simple_lstm_model.save_weights(\"chili.h30\")"
   ]
  },
  {
   "cell_type": "raw",
   "metadata": {},
   "source": [
    "Evaluate Chili Bird's Eye with Chili Red Model"
   ]
  },
  {
   "cell_type": "code",
   "execution_count": 1243,
   "metadata": {},
   "outputs": [],
   "source": [
    "# Read the csv data\n",
    "\n",
    "df_cbe = pd.read_csv('indonesia_food_price_chili_birdeye_median.csv')"
   ]
  },
  {
   "cell_type": "code",
   "execution_count": 1244,
   "metadata": {},
   "outputs": [
    {
     "data": {
      "text/plain": [
       "date\n",
       "2007-01-01    16825.1196\n",
       "2007-02-01    13373.0000\n",
       "2007-03-01    15360.0000\n",
       "2007-04-01    13347.0000\n",
       "2007-05-01    10784.0000\n",
       "Name: mp_price_edit, dtype: float64"
      ]
     },
     "execution_count": 1244,
     "metadata": {},
     "output_type": "execute_result"
    }
   ],
   "source": [
    "uni_cbe = df_cbe['mp_price_edit']\n",
    "uni_cbe.index = df_cbe['date']\n",
    "uni_cbe.head()"
   ]
  },
  {
   "cell_type": "code",
   "execution_count": 1245,
   "metadata": {},
   "outputs": [],
   "source": [
    "uni_cbe = uni_cbe.values"
   ]
  },
  {
   "cell_type": "code",
   "execution_count": 1246,
   "metadata": {},
   "outputs": [],
   "source": [
    "TRAIN_SPLIT = 125"
   ]
  },
  {
   "cell_type": "code",
   "execution_count": 1247,
   "metadata": {},
   "outputs": [],
   "source": [
    "# Standardize the data\n",
    "uni_cbe_mean = uni_cbe[:TRAIN_SPLIT].mean()\n",
    "uni_cbe_std = uni_cbe[:TRAIN_SPLIT].std()"
   ]
  },
  {
   "cell_type": "code",
   "execution_count": 1248,
   "metadata": {},
   "outputs": [],
   "source": [
    "uni_cbe = (uni_cbe-uni_cbe_mean)/uni_cbe_std"
   ]
  },
  {
   "cell_type": "code",
   "execution_count": 1249,
   "metadata": {},
   "outputs": [],
   "source": [
    "univariate_past_history = 30\n",
    "univariate_future_target = 0\n",
    "\n",
    "x_train_cbe_uni, y_train_cbe_uni = univariate_data(uni_cbe, 0, TRAIN_SPLIT,\n",
    "                                           univariate_past_history,\n",
    "                                           univariate_future_target)"
   ]
  },
  {
   "cell_type": "code",
   "execution_count": 1250,
   "metadata": {},
   "outputs": [
    {
     "data": {
      "text/plain": [
       "(95, 30, 1)"
      ]
     },
     "execution_count": 1250,
     "metadata": {},
     "output_type": "execute_result"
    }
   ],
   "source": [
    "x_train_cbe_uni.shape"
   ]
  },
  {
   "cell_type": "code",
   "execution_count": 1251,
   "metadata": {},
   "outputs": [
    {
     "data": {
      "text/plain": [
       "(95,)"
      ]
     },
     "execution_count": 1251,
     "metadata": {},
     "output_type": "execute_result"
    }
   ],
   "source": [
    "y_train_cbe_uni.shape"
   ]
  },
  {
   "cell_type": "code",
   "execution_count": 1252,
   "metadata": {},
   "outputs": [
    {
     "name": "stdout",
     "output_type": "stream",
     "text": [
      "95/95 [==============================] - 0s 193us/sample - loss: 0.3443\n"
     ]
    }
   ],
   "source": [
    "results_cbe = simple_lstm_model.evaluate(x_train_cbe_uni, y_train_cbe_uni, batch_size=30)"
   ]
  }
 ],
 "metadata": {
  "kernelspec": {
   "display_name": "Python 3",
   "language": "python",
   "name": "python3"
  },
  "language_info": {
   "codemirror_mode": {
    "name": "ipython",
    "version": 3
   },
   "file_extension": ".py",
   "mimetype": "text/x-python",
   "name": "python",
   "nbconvert_exporter": "python",
   "pygments_lexer": "ipython3",
   "version": "3.7.3"
  }
 },
 "nbformat": 4,
 "nbformat_minor": 2
}
