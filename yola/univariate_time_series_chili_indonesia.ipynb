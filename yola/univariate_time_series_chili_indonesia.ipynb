{
 "cells": [
  {
   "cell_type": "code",
   "execution_count": 1,
   "metadata": {},
   "outputs": [],
   "source": [
    "import tensorflow as tf\n",
    "\n",
    "import matplotlib as mpl\n",
    "import matplotlib.pyplot as plt\n",
    "import numpy as np\n",
    "import os\n",
    "import pandas as pd\n",
    "import seaborn as sns\n",
    "\n",
    "mpl.rcParams['figure.figsize'] = (8, 6)\n",
    "mpl.rcParams['axes.grid'] = False"
   ]
  },
  {
   "cell_type": "code",
   "execution_count": 2,
   "metadata": {},
   "outputs": [],
   "source": [
    "# Read the csv data\n",
    "\n",
    "df_cr = pd.read_csv('indonesia_food_price_chili_red_median.csv')"
   ]
  },
  {
   "cell_type": "code",
   "execution_count": 3,
   "metadata": {},
   "outputs": [
    {
     "data": {
      "text/html": [
       "<div>\n",
       "<style scoped>\n",
       "    .dataframe tbody tr th:only-of-type {\n",
       "        vertical-align: middle;\n",
       "    }\n",
       "\n",
       "    .dataframe tbody tr th {\n",
       "        vertical-align: top;\n",
       "    }\n",
       "\n",
       "    .dataframe thead th {\n",
       "        text-align: right;\n",
       "    }\n",
       "</style>\n",
       "<table border=\"1\" class=\"dataframe\">\n",
       "  <thead>\n",
       "    <tr style=\"text-align: right;\">\n",
       "      <th></th>\n",
       "      <th>adm0_id</th>\n",
       "      <th>adm0_name</th>\n",
       "      <th>adm1_id</th>\n",
       "      <th>adm1_name</th>\n",
       "      <th>mkt_id</th>\n",
       "      <th>mkt_name</th>\n",
       "      <th>cm_id</th>\n",
       "      <th>cm_name</th>\n",
       "      <th>cur_id</th>\n",
       "      <th>cur_name</th>\n",
       "      <th>pt_id</th>\n",
       "      <th>pt_name</th>\n",
       "      <th>um_id</th>\n",
       "      <th>um_name</th>\n",
       "      <th>mp_month</th>\n",
       "      <th>mp_year</th>\n",
       "      <th>mp_price</th>\n",
       "      <th>date</th>\n",
       "      <th>mp_price_edit</th>\n",
       "    </tr>\n",
       "  </thead>\n",
       "  <tbody>\n",
       "    <tr>\n",
       "      <td>0</td>\n",
       "      <td>116.0</td>\n",
       "      <td>Indonesia</td>\n",
       "      <td>0</td>\n",
       "      <td>NaN</td>\n",
       "      <td>974</td>\n",
       "      <td>National Average</td>\n",
       "      <td>91</td>\n",
       "      <td>Chili (red) - Retail</td>\n",
       "      <td>0.0</td>\n",
       "      <td>IDR</td>\n",
       "      <td>15</td>\n",
       "      <td>Retail</td>\n",
       "      <td>5</td>\n",
       "      <td>KG</td>\n",
       "      <td>1</td>\n",
       "      <td>2007</td>\n",
       "      <td>24974.0693</td>\n",
       "      <td>2007-01-01</td>\n",
       "      <td>24974.0693</td>\n",
       "    </tr>\n",
       "    <tr>\n",
       "      <td>1</td>\n",
       "      <td>116.0</td>\n",
       "      <td>Indonesia</td>\n",
       "      <td>0</td>\n",
       "      <td>NaN</td>\n",
       "      <td>974</td>\n",
       "      <td>National Average</td>\n",
       "      <td>91</td>\n",
       "      <td>Chili (red) - Retail</td>\n",
       "      <td>0.0</td>\n",
       "      <td>IDR</td>\n",
       "      <td>15</td>\n",
       "      <td>Retail</td>\n",
       "      <td>5</td>\n",
       "      <td>KG</td>\n",
       "      <td>2</td>\n",
       "      <td>2007</td>\n",
       "      <td>22593.0000</td>\n",
       "      <td>2007-02-01</td>\n",
       "      <td>22593.0000</td>\n",
       "    </tr>\n",
       "    <tr>\n",
       "      <td>2</td>\n",
       "      <td>116.0</td>\n",
       "      <td>Indonesia</td>\n",
       "      <td>0</td>\n",
       "      <td>NaN</td>\n",
       "      <td>974</td>\n",
       "      <td>National Average</td>\n",
       "      <td>91</td>\n",
       "      <td>Chili (red) - Retail</td>\n",
       "      <td>0.0</td>\n",
       "      <td>IDR</td>\n",
       "      <td>15</td>\n",
       "      <td>Retail</td>\n",
       "      <td>5</td>\n",
       "      <td>KG</td>\n",
       "      <td>3</td>\n",
       "      <td>2007</td>\n",
       "      <td>22807.0000</td>\n",
       "      <td>2007-03-01</td>\n",
       "      <td>22807.0000</td>\n",
       "    </tr>\n",
       "    <tr>\n",
       "      <td>3</td>\n",
       "      <td>116.0</td>\n",
       "      <td>Indonesia</td>\n",
       "      <td>0</td>\n",
       "      <td>NaN</td>\n",
       "      <td>974</td>\n",
       "      <td>National Average</td>\n",
       "      <td>91</td>\n",
       "      <td>Chili (red) - Retail</td>\n",
       "      <td>0.0</td>\n",
       "      <td>IDR</td>\n",
       "      <td>15</td>\n",
       "      <td>Retail</td>\n",
       "      <td>5</td>\n",
       "      <td>KG</td>\n",
       "      <td>4</td>\n",
       "      <td>2007</td>\n",
       "      <td>18414.0000</td>\n",
       "      <td>2007-04-01</td>\n",
       "      <td>18414.0000</td>\n",
       "    </tr>\n",
       "    <tr>\n",
       "      <td>4</td>\n",
       "      <td>116.0</td>\n",
       "      <td>Indonesia</td>\n",
       "      <td>0</td>\n",
       "      <td>NaN</td>\n",
       "      <td>974</td>\n",
       "      <td>National Average</td>\n",
       "      <td>91</td>\n",
       "      <td>Chili (red) - Retail</td>\n",
       "      <td>0.0</td>\n",
       "      <td>IDR</td>\n",
       "      <td>15</td>\n",
       "      <td>Retail</td>\n",
       "      <td>5</td>\n",
       "      <td>KG</td>\n",
       "      <td>5</td>\n",
       "      <td>2007</td>\n",
       "      <td>14910.0000</td>\n",
       "      <td>2007-05-01</td>\n",
       "      <td>14910.0000</td>\n",
       "    </tr>\n",
       "  </tbody>\n",
       "</table>\n",
       "</div>"
      ],
      "text/plain": [
       "   adm0_id  adm0_name  adm1_id  adm1_name  mkt_id          mkt_name  cm_id  \\\n",
       "0    116.0  Indonesia        0        NaN     974  National Average     91   \n",
       "1    116.0  Indonesia        0        NaN     974  National Average     91   \n",
       "2    116.0  Indonesia        0        NaN     974  National Average     91   \n",
       "3    116.0  Indonesia        0        NaN     974  National Average     91   \n",
       "4    116.0  Indonesia        0        NaN     974  National Average     91   \n",
       "\n",
       "                cm_name  cur_id cur_name  pt_id pt_name  um_id um_name  \\\n",
       "0  Chili (red) - Retail     0.0      IDR     15  Retail      5      KG   \n",
       "1  Chili (red) - Retail     0.0      IDR     15  Retail      5      KG   \n",
       "2  Chili (red) - Retail     0.0      IDR     15  Retail      5      KG   \n",
       "3  Chili (red) - Retail     0.0      IDR     15  Retail      5      KG   \n",
       "4  Chili (red) - Retail     0.0      IDR     15  Retail      5      KG   \n",
       "\n",
       "   mp_month  mp_year    mp_price        date  mp_price_edit  \n",
       "0         1     2007  24974.0693  2007-01-01     24974.0693  \n",
       "1         2     2007  22593.0000  2007-02-01     22593.0000  \n",
       "2         3     2007  22807.0000  2007-03-01     22807.0000  \n",
       "3         4     2007  18414.0000  2007-04-01     18414.0000  \n",
       "4         5     2007  14910.0000  2007-05-01     14910.0000  "
      ]
     },
     "execution_count": 3,
     "metadata": {},
     "output_type": "execute_result"
    }
   ],
   "source": [
    "df_cr.head()"
   ]
  },
  {
   "cell_type": "code",
   "execution_count": 4,
   "metadata": {},
   "outputs": [],
   "source": [
    "train = df_cr[0:125] #train 0-124\n",
    "test = df_cr[125:len(df_cr)] #test 125-155"
   ]
  },
  {
   "cell_type": "raw",
   "metadata": {},
   "source": [
    "# Forecast Univariate Time Series"
   ]
  },
  {
   "cell_type": "code",
   "execution_count": 5,
   "metadata": {},
   "outputs": [],
   "source": [
    "def univariate_data(dataset, start_index, end_index, history_size, target_size):\n",
    "  data = []\n",
    "  labels = []\n",
    "\n",
    "  start_index = start_index + history_size\n",
    "  if end_index is None:\n",
    "    end_index = len(dataset) - target_size\n",
    "\n",
    "  for i in range(start_index, end_index):\n",
    "    indices = range(i-history_size, i)\n",
    "    # Reshape data from (history_size,) to (history_size, 1)\n",
    "    data.append(np.reshape(dataset[indices], (history_size, 1)))\n",
    "    labels.append(dataset[i+target_size])\n",
    "  return np.array(data), np.array(labels)"
   ]
  },
  {
   "cell_type": "code",
   "execution_count": 6,
   "metadata": {},
   "outputs": [],
   "source": [
    "TRAIN_SPLIT = 90"
   ]
  },
  {
   "cell_type": "code",
   "execution_count": 7,
   "metadata": {},
   "outputs": [],
   "source": [
    "tf.random.set_seed(13)"
   ]
  },
  {
   "cell_type": "raw",
   "metadata": {},
   "source": [
    "# Chili(Red)"
   ]
  },
  {
   "cell_type": "code",
   "execution_count": 8,
   "metadata": {},
   "outputs": [
    {
     "data": {
      "text/plain": [
       "date\n",
       "2007-01-01    24974.0693\n",
       "2007-02-01    22593.0000\n",
       "2007-03-01    22807.0000\n",
       "2007-04-01    18414.0000\n",
       "2007-05-01    14910.0000\n",
       "Name: mp_price_edit, dtype: float64"
      ]
     },
     "execution_count": 8,
     "metadata": {},
     "output_type": "execute_result"
    }
   ],
   "source": [
    "uni_data = train['mp_price_edit']\n",
    "uni_data.index = train['date']\n",
    "uni_data.head()"
   ]
  },
  {
   "cell_type": "code",
   "execution_count": 9,
   "metadata": {},
   "outputs": [
    {
     "data": {
      "text/plain": [
       "array([<matplotlib.axes._subplots.AxesSubplot object at 0x0000020EDD859EB8>],\n",
       "      dtype=object)"
      ]
     },
     "execution_count": 9,
     "metadata": {},
     "output_type": "execute_result"
    },
    {
     "data": {
      "image/png": "[encoded data removed]",
      "text/plain": [
       "<Figure size 1080x432 with 1 Axes>"
      ]
     },
     "metadata": {
      "needs_background": "light"
     },
     "output_type": "display_data"
    }
   ],
   "source": [
    "#Plot The Data\n",
    "\n",
    "fig = plt.figure(figsize=(15,6))\n",
    "uni_data.plot(subplots=True)"
   ]
  },
  {
   "cell_type": "code",
   "execution_count": 10,
   "metadata": {},
   "outputs": [],
   "source": [
    "uni_data = uni_data.values"
   ]
  },
  {
   "cell_type": "code",
   "execution_count": 11,
   "metadata": {},
   "outputs": [
    {
     "data": {
      "text/plain": [
       "(125,)"
      ]
     },
     "execution_count": 11,
     "metadata": {},
     "output_type": "execute_result"
    }
   ],
   "source": [
    "uni_data.shape"
   ]
  },
  {
   "cell_type": "code",
   "execution_count": 12,
   "metadata": {},
   "outputs": [],
   "source": [
    "# Standardize the data\n",
    "uni_train_mean = uni_data[:TRAIN_SPLIT].mean()\n",
    "uni_train_std = uni_data[:TRAIN_SPLIT].std()"
   ]
  },
  {
   "cell_type": "code",
   "execution_count": 13,
   "metadata": {},
   "outputs": [],
   "source": [
    "uni_data = (uni_data-uni_train_mean)/uni_train_std"
   ]
  },
  {
   "cell_type": "code",
   "execution_count": 14,
   "metadata": {},
   "outputs": [
    {
     "data": {
      "text/plain": [
       "array([ 1.71218240e-01, -1.66658611e-01, -1.36291731e-01, -7.59664182e-01,\n",
       "       -1.25688637e+00, -7.33838144e-01, -6.81476561e-01, -8.05214502e-01,\n",
       "       -6.88429725e-01, -5.84699868e-01, -7.38237085e-01, -6.94247679e-01,\n",
       "       -9.37892227e-01, -6.51991751e-02,  1.33604559e-01, -6.37801620e-02,\n",
       "       -1.67084315e-01, -1.57576927e-01,  1.17853514e-01,  9.15711096e-03,\n",
       "       -7.00917040e-01, -9.03126406e-01, -6.81050857e-01,  2.56632994e-01,\n",
       "        3.19725597e-03, -3.96680633e-01, -7.16526184e-01, -1.04829145e+00,\n",
       "       -1.15074921e+00, -1.27132943e+00, -1.15568585e+00, -9.98947549e-01,\n",
       "        3.78810021e-01,  1.63988696e+00,  1.09356692e+00, -7.07333261e-02,\n",
       "        2.87425578e-01,  3.90729731e-01, -6.77361423e-01, -3.67307062e-01,\n",
       "        4.19363134e-02,  1.60313452e+00,  2.83356077e+00,  1.73325802e+00,\n",
       "        5.87972551e-01, -7.30344091e-03,  4.01939935e-01,  1.98995749e+00,\n",
       "        2.32825021e+00,  1.66528729e+00,  1.28638013e-01, -6.49264964e-01,\n",
       "       -1.13357413e+00, -1.43852005e+00, -1.55998757e+00, -1.34429758e+00,\n",
       "       -9.39595042e-01, -4.57840098e-01, -1.29065888e+00, -1.19884873e+00,\n",
       "        5.37597586e-01, -6.46001234e-01, -3.15087381e-01, -4.30878849e-01,\n",
       "       -4.95585846e-01,  3.94561067e-01,  6.74785490e-02, -1.67510019e-01,\n",
       "       -6.92828666e-01, -5.48089330e-01, -9.06815840e-01, -8.86523953e-01,\n",
       "       -5.54079847e-02,  1.96324938e-01,  2.48828422e-01,  2.48828422e-01,\n",
       "        8.48077651e-01,  1.45669237e+00,  1.65379328e+00,  1.77696362e+00,\n",
       "        7.96993180e-01,  2.21841859e+00,  1.67663940e+00,  1.61406092e+00,\n",
       "        2.01805395e+00,  1.34104280e+00,  6.58923206e-01, -1.72050861e-01,\n",
       "       -6.46710740e-01, -7.90031062e-01, -7.16951888e-01, -6.77077620e-01,\n",
       "        2.56176628e-02,  1.40262797e+00,  3.55002048e+00,  5.87972551e-01,\n",
       "        3.23613478e+00,  6.15075701e-01, -4.18161211e-03, -1.30189975e-01,\n",
       "        5.90242972e-01,  1.00984514e+00,  1.63917745e+00,  1.78306538e+00,\n",
       "        1.21702105e+00, -3.89780949e-03, -1.04931542e-01,  1.28612699e+00,\n",
       "        1.65237427e+00,  1.99762016e+00,  3.09153735e+00,  1.44902970e+00,\n",
       "        9.47550469e-01,  8.88803327e-01,  1.04900990e+00,  1.30372275e+00,\n",
       "        2.18294327e+00,  3.31020727e+00,  4.72694994e+00,  3.90562516e+00,\n",
       "        3.32113367e+00,  2.93686492e+00,  2.23970379e+00,  1.51288528e+00,\n",
       "        1.59007960e+00])"
      ]
     },
     "execution_count": 14,
     "metadata": {},
     "output_type": "execute_result"
    }
   ],
   "source": [
    "uni_data"
   ]
  },
  {
   "cell_type": "code",
   "execution_count": 15,
   "metadata": {},
   "outputs": [],
   "source": [
    "univariate_past_history = 30\n",
    "\n",
    "univariate_future_target = 0\n",
    "\n",
    "x_train_uni, y_train_uni = univariate_data(uni_data, 0, TRAIN_SPLIT,\n",
    "                                           univariate_past_history,\n",
    "                                           univariate_future_target)\n",
    "x_val_uni, y_val_uni = univariate_data(uni_data, TRAIN_SPLIT, None,\n",
    "                                       univariate_past_history,\n",
    "                                       univariate_future_target)"
   ]
  },
  {
   "cell_type": "code",
   "execution_count": 16,
   "metadata": {},
   "outputs": [
    {
     "name": "stdout",
     "output_type": "stream",
     "text": [
      "Single window of past history\n",
      "[[ 0.17121824]\n",
      " [-0.16665861]\n",
      " [-0.13629173]\n",
      " [-0.75966418]\n",
      " [-1.25688637]\n",
      " [-0.73383814]\n",
      " [-0.68147656]\n",
      " [-0.8052145 ]\n",
      " [-0.68842973]\n",
      " [-0.58469987]\n",
      " [-0.73823708]\n",
      " [-0.69424768]\n",
      " [-0.93789223]\n",
      " [-0.06519918]\n",
      " [ 0.13360456]\n",
      " [-0.06378016]\n",
      " [-0.16708432]\n",
      " [-0.15757693]\n",
      " [ 0.11785351]\n",
      " [ 0.00915711]\n",
      " [-0.70091704]\n",
      " [-0.90312641]\n",
      " [-0.68105086]\n",
      " [ 0.25663299]\n",
      " [ 0.00319726]\n",
      " [-0.39668063]\n",
      " [-0.71652618]\n",
      " [-1.04829145]\n",
      " [-1.15074921]\n",
      " [-1.27132943]]\n",
      "\n",
      " Target price to predict\n",
      "-1.1556858466847661\n"
     ]
    }
   ],
   "source": [
    "print ('Single window of past history')\n",
    "print (x_train_uni[0])\n",
    "print ('\\n Target price to predict')\n",
    "print (y_train_uni[0])"
   ]
  },
  {
   "cell_type": "code",
   "execution_count": 17,
   "metadata": {},
   "outputs": [],
   "source": [
    "def create_time_steps(length):\n",
    "  return list(range(-length, 0))"
   ]
  },
  {
   "cell_type": "code",
   "execution_count": 18,
   "metadata": {},
   "outputs": [],
   "source": [
    "def show_plot(plot_data, delta, title):\n",
    "  labels = ['History', 'True Future', 'Model Prediction']\n",
    "  marker = ['.-', 'rx', 'go']\n",
    "  time_steps = create_time_steps(plot_data[0].shape[0])\n",
    "  if delta:\n",
    "    future = delta\n",
    "  else:\n",
    "    future = 0\n",
    "\n",
    "  plt.title(title)\n",
    "  for i, x in enumerate(plot_data):\n",
    "    if i:\n",
    "      plt.plot(future, plot_data[i], marker[i], markersize=10,\n",
    "               label=labels[i])\n",
    "    else:\n",
    "      plt.plot(time_steps, plot_data[i].flatten(), marker[i], label=labels[i])\n",
    "  plt.legend()\n",
    "  plt.xlim([time_steps[0], (future+5)*2])\n",
    "  plt.xlabel('Time-Step')\n",
    "  return plt"
   ]
  },
  {
   "cell_type": "raw",
   "metadata": {},
   "source": [
    "Recurrent Neural Network Model"
   ]
  },
  {
   "cell_type": "code",
   "execution_count": 34,
   "metadata": {},
   "outputs": [],
   "source": [
    "BATCH_SIZE = 30\n",
    "BUFFER_SIZE = 10000\n",
    "\n",
    "train_univariate = tf.data.Dataset.from_tensor_slices((x_train_uni, y_train_uni))\n",
    "train_univariate = train_univariate.cache().shuffle(BUFFER_SIZE).batch(BATCH_SIZE).repeat()\n",
    "\n",
    "val_univariate = tf.data.Dataset.from_tensor_slices((x_val_uni, y_val_uni))\n",
    "val_univariate = val_univariate.batch(BATCH_SIZE).repeat()"
   ]
  },
  {
   "cell_type": "code",
   "execution_count": 35,
   "metadata": {},
   "outputs": [],
   "source": [
    "simple_lstm_model = tf.keras.models.Sequential([\n",
    "    tf.keras.layers.LSTM(1, input_shape=x_train_uni.shape[-2:]),\n",
    "    tf.keras.layers.Dense(1, activation = 'linear')\n",
    "])\n",
    "\n",
    "simple_lstm_model.compile(optimizer='adam', loss='mse')"
   ]
  },
  {
   "cell_type": "code",
   "execution_count": 36,
   "metadata": {},
   "outputs": [
    {
     "name": "stdout",
     "output_type": "stream",
     "text": [
      "Train for 30 steps, validate for 30 steps\n",
      "Epoch 1/250\n",
      "30/30 [==============================] - 4s 124ms/step - loss: 1.3116 - val_loss: 6.1720\n",
      "Epoch 2/250\n",
      "30/30 [==============================] - 1s 29ms/step - loss: 1.2851 - val_loss: 5.9665\n",
      "Epoch 3/250\n",
      "30/30 [==============================] - 1s 29ms/step - loss: 1.2654 - val_loss: 5.7832\n",
      "Epoch 4/250\n",
      "30/30 [==============================] - 1s 28ms/step - loss: 1.2512 - val_loss: 5.6262\n",
      "Epoch 5/250\n",
      "30/30 [==============================] - 1s 26ms/step - loss: 1.2406 - val_loss: 5.4878\n",
      "Epoch 6/250\n",
      "30/30 [==============================] - 1s 28ms/step - loss: 1.2314 - val_loss: 5.3280\n",
      "Epoch 7/250\n",
      "30/30 [==============================] - 1s 28ms/step - loss: 1.2195 - val_loss: 5.0362\n",
      "Epoch 8/250\n",
      "30/30 [==============================] - 1s 26ms/step - loss: 1.1999 - val_loss: 4.7323\n",
      "Epoch 9/250\n",
      "30/30 [==============================] - 1s 26ms/step - loss: 1.1737 - val_loss: 4.5133\n",
      "Epoch 10/250\n",
      "30/30 [==============================] - 1s 28ms/step - loss: 1.1486 - val_loss: 4.3231\n",
      "Epoch 11/250\n",
      "30/30 [==============================] - 1s 27ms/step - loss: 1.1266 - val_loss: 4.1655\n",
      "Epoch 12/250\n",
      "30/30 [==============================] - 1s 25ms/step - loss: 1.1068 - val_loss: 4.0335\n",
      "Epoch 13/250\n",
      "30/30 [==============================] - 1s 34ms/step - loss: 1.0881 - val_loss: 3.9189\n",
      "Epoch 14/250\n",
      "30/30 [==============================] - 1s 25ms/step - loss: 1.0701 - val_loss: 3.8197\n",
      "Epoch 15/250\n",
      "30/30 [==============================] - 1s 29ms/step - loss: 1.0527 - val_loss: 3.7316\n",
      "Epoch 16/250\n",
      "30/30 [==============================] - 1s 33ms/step - loss: 1.0358 - val_loss: 3.6502\n",
      "Epoch 17/250\n",
      "30/30 [==============================] - 1s 26ms/step - loss: 1.0191 - val_loss: 3.5762\n",
      "Epoch 18/250\n",
      "30/30 [==============================] - 1s 29ms/step - loss: 1.0027 - val_loss: 3.5064\n",
      "Epoch 19/250\n",
      "30/30 [==============================] - 1s 28ms/step - loss: 0.9867 - val_loss: 3.4407\n",
      "Epoch 20/250\n",
      "30/30 [==============================] - 1s 26ms/step - loss: 0.9710 - val_loss: 3.3774\n",
      "Epoch 21/250\n",
      "30/30 [==============================] - 1s 25ms/step - loss: 0.9555 - val_loss: 3.3166\n",
      "Epoch 22/250\n",
      "30/30 [==============================] - 1s 25ms/step - loss: 0.9404 - val_loss: 3.2583\n",
      "Epoch 23/250\n",
      "30/30 [==============================] - 1s 26ms/step - loss: 0.9256 - val_loss: 3.2023\n",
      "Epoch 24/250\n",
      "30/30 [==============================] - 1s 28ms/step - loss: 0.9111 - val_loss: 3.1467\n",
      "Epoch 25/250\n",
      "30/30 [==============================] - 1s 30ms/step - loss: 0.8970 - val_loss: 3.0946\n",
      "Epoch 26/250\n",
      "30/30 [==============================] - 1s 23ms/step - loss: 0.8832 - val_loss: 3.0433\n",
      "Epoch 27/250\n",
      "30/30 [==============================] - 1s 27ms/step - loss: 0.8697 - val_loss: 2.9936\n",
      "Epoch 28/250\n",
      "30/30 [==============================] - 1s 35ms/step - loss: 0.8566 - val_loss: 2.9435\n",
      "Epoch 29/250\n",
      "30/30 [==============================] - 1s 42ms/step - loss: 0.8439 - val_loss: 2.8967\n",
      "Epoch 30/250\n",
      "30/30 [==============================] - 1s 36ms/step - loss: 0.8314 - val_loss: 2.8488\n",
      "Epoch 31/250\n",
      "30/30 [==============================] - 1s 31ms/step - loss: 0.8194 - val_loss: 2.8040\n",
      "Epoch 32/250\n",
      "30/30 [==============================] - 1s 24ms/step - loss: 0.8076 - val_loss: 2.7603\n",
      "Epoch 33/250\n",
      "30/30 [==============================] - 1s 25ms/step - loss: 0.7963 - val_loss: 2.7159\n",
      "Epoch 34/250\n",
      "30/30 [==============================] - 1s 25ms/step - loss: 0.7852 - val_loss: 2.6745\n",
      "Epoch 35/250\n",
      "30/30 [==============================] - 1s 27ms/step - loss: 0.7745 - val_loss: 2.6326\n",
      "Epoch 36/250\n",
      "30/30 [==============================] - 1s 33ms/step - loss: 0.7641 - val_loss: 2.5920\n",
      "Epoch 37/250\n",
      "30/30 [==============================] - 1s 26ms/step - loss: 0.7540 - val_loss: 2.5522\n",
      "Epoch 38/250\n",
      "30/30 [==============================] - 1s 26ms/step - loss: 0.7443 - val_loss: 2.5144\n",
      "Epoch 39/250\n",
      "30/30 [==============================] - 1s 32ms/step - loss: 0.7348 - val_loss: 2.4762\n",
      "Epoch 40/250\n",
      "30/30 [==============================] - 1s 37ms/step - loss: 0.7256 - val_loss: 2.4400\n",
      "Epoch 41/250\n",
      "30/30 [==============================] - 1s 37ms/step - loss: 0.7167 - val_loss: 2.4039\n",
      "Epoch 42/250\n",
      "30/30 [==============================] - 1s 27ms/step - loss: 0.7081 - val_loss: 2.3679\n",
      "Epoch 43/250\n",
      "30/30 [==============================] - 1s 27ms/step - loss: 0.6997 - val_loss: 2.3345\n",
      "Epoch 44/250\n",
      "30/30 [==============================] - 1s 32ms/step - loss: 0.6916 - val_loss: 2.3005\n",
      "Epoch 45/250\n",
      "30/30 [==============================] - 1s 29ms/step - loss: 0.6838 - val_loss: 2.2677\n",
      "Epoch 46/250\n",
      "30/30 [==============================] - 1s 23ms/step - loss: 0.6762 - val_loss: 2.2350\n",
      "Epoch 47/250\n",
      "30/30 [==============================] - 1s 26ms/step - loss: 0.6689 - val_loss: 2.2042\n",
      "Epoch 48/250\n",
      "30/30 [==============================] - 1s 29ms/step - loss: 0.6618 - val_loss: 2.1727\n",
      "Epoch 49/250\n",
      "30/30 [==============================] - 1s 31ms/step - loss: 0.6549 - val_loss: 2.1432\n",
      "Epoch 50/250\n",
      "30/30 [==============================] - 1s 29ms/step - loss: 0.6483 - val_loss: 2.1150\n",
      "Epoch 51/250\n",
      "30/30 [==============================] - 1s 28ms/step - loss: 0.6419 - val_loss: 2.0870\n",
      "Epoch 52/250\n",
      "30/30 [==============================] - 1s 32ms/step - loss: 0.6357 - val_loss: 2.0582\n",
      "Epoch 53/250\n",
      "30/30 [==============================] - 1s 30ms/step - loss: 0.6297 - val_loss: 2.0316\n",
      "Epoch 54/250\n",
      "30/30 [==============================] - 1s 33ms/step - loss: 0.6240 - val_loss: 2.0050\n",
      "Epoch 55/250\n",
      "30/30 [==============================] - 1s 35ms/step - loss: 0.6184 - val_loss: 1.9794\n",
      "Epoch 56/250\n",
      "30/30 [==============================] - 1s 26ms/step - loss: 0.6130 - val_loss: 1.9540\n",
      "Epoch 57/250\n",
      "30/30 [==============================] - 1s 24ms/step - loss: 0.6079 - val_loss: 1.9297\n",
      "Epoch 58/250\n",
      "30/30 [==============================] - 1s 27ms/step - loss: 0.6028 - val_loss: 1.9062\n",
      "Epoch 59/250\n",
      "30/30 [==============================] - 1s 29ms/step - loss: 0.5980 - val_loss: 1.8839\n",
      "Epoch 60/250\n",
      "30/30 [==============================] - 1s 28ms/step - loss: 0.5933 - val_loss: 1.8620\n",
      "Epoch 61/250\n",
      "30/30 [==============================] - 1s 30ms/step - loss: 0.5888 - val_loss: 1.8393\n",
      "Epoch 62/250\n",
      "30/30 [==============================] - 1s 27ms/step - loss: 0.5845 - val_loss: 1.8178\n",
      "Epoch 63/250\n",
      "30/30 [==============================] - 1s 26ms/step - loss: 0.5802 - val_loss: 1.7974\n",
      "Epoch 64/250\n",
      "30/30 [==============================] - 1s 25ms/step - loss: 0.5762 - val_loss: 1.7770\n",
      "Epoch 65/250\n",
      "30/30 [==============================] - 1s 26ms/step - loss: 0.5723 - val_loss: 1.7581\n",
      "Epoch 66/250\n",
      "30/30 [==============================] - 1s 26ms/step - loss: 0.5685 - val_loss: 1.7385\n",
      "Epoch 67/250\n",
      "30/30 [==============================] - 1s 25ms/step - loss: 0.5649 - val_loss: 1.7196\n",
      "Epoch 68/250\n",
      "30/30 [==============================] - 1s 27ms/step - loss: 0.5614 - val_loss: 1.7022\n",
      "Epoch 69/250\n",
      "30/30 [==============================] - 1s 24ms/step - loss: 0.5581 - val_loss: 1.6854\n",
      "Epoch 70/250\n",
      "30/30 [==============================] - 1s 24ms/step - loss: 0.5548 - val_loss: 1.6675\n",
      "Epoch 71/250\n",
      "30/30 [==============================] - 1s 27ms/step - loss: 0.5517 - val_loss: 1.6514\n",
      "Epoch 72/250\n",
      "30/30 [==============================] - 1s 25ms/step - loss: 0.5487 - val_loss: 1.6350\n",
      "Epoch 73/250\n",
      "30/30 [==============================] - 1s 32ms/step - loss: 0.5458 - val_loss: 1.6195\n",
      "Epoch 74/250\n",
      "30/30 [==============================] - 1s 36ms/step - loss: 0.5431 - val_loss: 1.6042\n",
      "Epoch 75/250\n",
      "30/30 [==============================] - 1s 24ms/step - loss: 0.5404 - val_loss: 1.5892\n",
      "Epoch 76/250\n",
      "30/30 [==============================] - 1s 27ms/step - loss: 0.5378 - val_loss: 1.5749\n",
      "Epoch 77/250\n",
      "30/30 [==============================] - 1s 30ms/step - loss: 0.5354 - val_loss: 1.5603\n",
      "Epoch 78/250\n",
      "30/30 [==============================] - 1s 27ms/step - loss: 0.5330 - val_loss: 1.5463\n",
      "Epoch 79/250\n",
      "30/30 [==============================] - 1s 27ms/step - loss: 0.5307 - val_loss: 1.5336\n",
      "Epoch 80/250\n",
      "30/30 [==============================] - 1s 26ms/step - loss: 0.5285 - val_loss: 1.5200\n",
      "Epoch 81/250\n",
      "30/30 [==============================] - 1s 26ms/step - loss: 0.5264 - val_loss: 1.5072\n"
     ]
    },
    {
     "name": "stdout",
     "output_type": "stream",
     "text": [
      "Epoch 82/250\n",
      "30/30 [==============================] - 1s 25ms/step - loss: 0.5244 - val_loss: 1.4953\n",
      "Epoch 83/250\n",
      "30/30 [==============================] - 1s 24ms/step - loss: 0.5225 - val_loss: 1.4834\n",
      "Epoch 84/250\n",
      "30/30 [==============================] - 1s 28ms/step - loss: 0.5207 - val_loss: 1.4708\n",
      "Epoch 85/250\n",
      "30/30 [==============================] - 1s 27ms/step - loss: 0.5189 - val_loss: 1.4606\n",
      "Epoch 86/250\n",
      "30/30 [==============================] - 1s 35ms/step - loss: 0.5172 - val_loss: 1.4495\n",
      "Epoch 87/250\n",
      "30/30 [==============================] - 1s 34ms/step - loss: 0.5156 - val_loss: 1.4391\n",
      "Epoch 88/250\n",
      "30/30 [==============================] - 1s 26ms/step - loss: 0.5140 - val_loss: 1.4284\n",
      "Epoch 89/250\n",
      "30/30 [==============================] - 1s 28ms/step - loss: 0.5125 - val_loss: 1.4173\n",
      "Epoch 90/250\n",
      "30/30 [==============================] - 1s 35ms/step - loss: 0.5111 - val_loss: 1.4080\n",
      "Epoch 91/250\n",
      "30/30 [==============================] - 1s 35ms/step - loss: 0.5097 - val_loss: 1.3987\n",
      "Epoch 92/250\n",
      "30/30 [==============================] - 1s 26ms/step - loss: 0.5084 - val_loss: 1.3893\n",
      "Epoch 93/250\n",
      "30/30 [==============================] - 1s 29ms/step - loss: 0.5071 - val_loss: 1.3790\n",
      "Epoch 94/250\n",
      "30/30 [==============================] - 1s 32ms/step - loss: 0.5059 - val_loss: 1.3712\n",
      "Epoch 95/250\n",
      "30/30 [==============================] - 1s 27ms/step - loss: 0.5047 - val_loss: 1.3622\n",
      "Epoch 96/250\n",
      "30/30 [==============================] - 1s 25ms/step - loss: 0.5036 - val_loss: 1.3543\n",
      "Epoch 97/250\n",
      "30/30 [==============================] - 1s 34ms/step - loss: 0.5025 - val_loss: 1.3458\n",
      "Epoch 98/250\n",
      "30/30 [==============================] - 1s 35ms/step - loss: 0.5015 - val_loss: 1.3379\n",
      "Epoch 99/250\n",
      "30/30 [==============================] - 1s 35ms/step - loss: 0.5005 - val_loss: 1.3292\n",
      "Epoch 100/250\n",
      "30/30 [==============================] - 1s 39ms/step - loss: 0.4995 - val_loss: 1.3215\n",
      "Epoch 101/250\n",
      "30/30 [==============================] - 1s 24ms/step - loss: 0.4986 - val_loss: 1.3147\n",
      "Epoch 102/250\n",
      "30/30 [==============================] - 1s 31ms/step - loss: 0.4977 - val_loss: 1.3071\n",
      "Epoch 103/250\n",
      "30/30 [==============================] - 1s 25ms/step - loss: 0.4968 - val_loss: 1.2993\n",
      "Epoch 104/250\n",
      "30/30 [==============================] - 1s 27ms/step - loss: 0.4960 - val_loss: 1.2922\n",
      "Epoch 105/250\n",
      "30/30 [==============================] - 1s 30ms/step - loss: 0.4952 - val_loss: 1.2852\n",
      "Epoch 106/250\n",
      "30/30 [==============================] - 1s 33ms/step - loss: 0.4944 - val_loss: 1.2788\n",
      "Epoch 107/250\n",
      "30/30 [==============================] - 1s 34ms/step - loss: 0.4936 - val_loss: 1.2720\n",
      "Epoch 108/250\n",
      "30/30 [==============================] - 1s 34ms/step - loss: 0.4929 - val_loss: 1.2649\n",
      "Epoch 109/250\n",
      "30/30 [==============================] - 1s 27ms/step - loss: 0.4922 - val_loss: 1.2596\n",
      "Epoch 110/250\n",
      "30/30 [==============================] - 1s 33ms/step - loss: 0.4915 - val_loss: 1.2530\n",
      "Epoch 111/250\n",
      "30/30 [==============================] - 1s 36ms/step - loss: 0.4908 - val_loss: 1.2471\n",
      "Epoch 112/250\n",
      "30/30 [==============================] - 1s 40ms/step - loss: 0.4902 - val_loss: 1.2408\n",
      "Epoch 113/250\n",
      "30/30 [==============================] - 1s 38ms/step - loss: 0.4896 - val_loss: 1.2349\n",
      "Epoch 114/250\n",
      "30/30 [==============================] - 1s 27ms/step - loss: 0.4890 - val_loss: 1.2289\n",
      "Epoch 115/250\n",
      "30/30 [==============================] - 1s 29ms/step - loss: 0.4884 - val_loss: 1.2239\n",
      "Epoch 116/250\n",
      "30/30 [==============================] - 1s 32ms/step - loss: 0.4878 - val_loss: 1.2184\n",
      "Epoch 117/250\n",
      "30/30 [==============================] - 1s 30ms/step - loss: 0.4873 - val_loss: 1.2136\n",
      "Epoch 118/250\n",
      "30/30 [==============================] - 1s 25ms/step - loss: 0.4867 - val_loss: 1.2079\n",
      "Epoch 119/250\n",
      "30/30 [==============================] - 1s 31ms/step - loss: 0.4862 - val_loss: 1.2026\n",
      "Epoch 120/250\n",
      "30/30 [==============================] - 1s 33ms/step - loss: 0.4857 - val_loss: 1.1981\n",
      "Epoch 121/250\n",
      "30/30 [==============================] - 1s 26ms/step - loss: 0.4852 - val_loss: 1.1930\n",
      "Epoch 122/250\n",
      "30/30 [==============================] - 1s 32ms/step - loss: 0.4847 - val_loss: 1.1883\n",
      "Epoch 123/250\n",
      "30/30 [==============================] - 1s 32ms/step - loss: 0.4842 - val_loss: 1.1830\n",
      "Epoch 124/250\n",
      "30/30 [==============================] - 1s 27ms/step - loss: 0.4838 - val_loss: 1.1786\n",
      "Epoch 125/250\n",
      "30/30 [==============================] - 1s 25ms/step - loss: 0.4833 - val_loss: 1.1736\n",
      "Epoch 126/250\n",
      "30/30 [==============================] - 1s 31ms/step - loss: 0.4829 - val_loss: 1.1697\n",
      "Epoch 127/250\n",
      "30/30 [==============================] - 1s 34ms/step - loss: 0.4824 - val_loss: 1.1652\n",
      "Epoch 128/250\n",
      "30/30 [==============================] - 1s 36ms/step - loss: 0.4820 - val_loss: 1.1605\n",
      "Epoch 129/250\n",
      "30/30 [==============================] - 1s 24ms/step - loss: 0.4816 - val_loss: 1.1562\n",
      "Epoch 130/250\n",
      "30/30 [==============================] - 1s 27ms/step - loss: 0.4812 - val_loss: 1.1520\n",
      "Epoch 131/250\n",
      "30/30 [==============================] - 1s 36ms/step - loss: 0.4808 - val_loss: 1.1483\n",
      "Epoch 132/250\n",
      "30/30 [==============================] - 1s 37ms/step - loss: 0.4804 - val_loss: 1.1437\n",
      "Epoch 133/250\n",
      "30/30 [==============================] - 1s 39ms/step - loss: 0.4800 - val_loss: 1.1395\n",
      "Epoch 134/250\n",
      "30/30 [==============================] - 1s 26ms/step - loss: 0.4796 - val_loss: 1.1362\n",
      "Epoch 135/250\n",
      "30/30 [==============================] - 1s 27ms/step - loss: 0.4793 - val_loss: 1.1322\n",
      "Epoch 136/250\n",
      "30/30 [==============================] - 1s 25ms/step - loss: 0.4789 - val_loss: 1.1281\n",
      "Epoch 137/250\n",
      "30/30 [==============================] - 1s 27ms/step - loss: 0.4785 - val_loss: 1.1245\n",
      "Epoch 138/250\n",
      "30/30 [==============================] - 1s 29ms/step - loss: 0.4782 - val_loss: 1.1211\n",
      "Epoch 139/250\n",
      "30/30 [==============================] - 1s 35ms/step - loss: 0.4779 - val_loss: 1.1169\n",
      "Epoch 140/250\n",
      "30/30 [==============================] - 1s 35ms/step - loss: 0.4775 - val_loss: 1.1135\n",
      "Epoch 141/250\n",
      "30/30 [==============================] - 1s 40ms/step - loss: 0.4772 - val_loss: 1.1096\n",
      "Epoch 142/250\n",
      "30/30 [==============================] - 1s 36ms/step - loss: 0.4769 - val_loss: 1.1063\n",
      "Epoch 143/250\n",
      "30/30 [==============================] - 1s 24ms/step - loss: 0.4765 - val_loss: 1.1026\n",
      "Epoch 144/250\n",
      "30/30 [==============================] - 1s 26ms/step - loss: 0.4762 - val_loss: 1.0993\n",
      "Epoch 145/250\n",
      "30/30 [==============================] - 1s 34ms/step - loss: 0.4759 - val_loss: 1.0965\n",
      "Epoch 146/250\n",
      "30/30 [==============================] - 1s 28ms/step - loss: 0.4756 - val_loss: 1.0925\n",
      "Epoch 147/250\n",
      "30/30 [==============================] - 1s 24ms/step - loss: 0.4753 - val_loss: 1.0899\n",
      "Epoch 148/250\n",
      "30/30 [==============================] - 1s 33ms/step - loss: 0.4750 - val_loss: 1.0864\n",
      "Epoch 149/250\n",
      "30/30 [==============================] - 1s 36ms/step - loss: 0.4747 - val_loss: 1.0832\n",
      "Epoch 150/250\n",
      "30/30 [==============================] - 1s 37ms/step - loss: 0.4744 - val_loss: 1.0800\n",
      "Epoch 151/250\n",
      "30/30 [==============================] - 1s 24ms/step - loss: 0.4741 - val_loss: 1.0767\n",
      "Epoch 152/250\n",
      "30/30 [==============================] - 1s 28ms/step - loss: 0.4739 - val_loss: 1.0731\n",
      "Epoch 153/250\n",
      "30/30 [==============================] - 1s 34ms/step - loss: 0.4736 - val_loss: 1.0708\n",
      "Epoch 154/250\n",
      "30/30 [==============================] - 1s 40ms/step - loss: 0.4733 - val_loss: 1.0677\n",
      "Epoch 155/250\n",
      "30/30 [==============================] - 1s 33ms/step - loss: 0.4730 - val_loss: 1.0639\n",
      "Epoch 156/250\n",
      "30/30 [==============================] - 1s 25ms/step - loss: 0.4728 - val_loss: 1.0611\n",
      "Epoch 157/250\n",
      "30/30 [==============================] - 1s 29ms/step - loss: 0.4725 - val_loss: 1.0585\n",
      "Epoch 158/250\n",
      "30/30 [==============================] - 1s 25ms/step - loss: 0.4722 - val_loss: 1.0550\n",
      "Epoch 159/250\n",
      "30/30 [==============================] - 1s 28ms/step - loss: 0.4720 - val_loss: 1.0523\n",
      "Epoch 160/250\n",
      "30/30 [==============================] - 1s 30ms/step - loss: 0.4717 - val_loss: 1.0488\n",
      "Epoch 161/250\n",
      "30/30 [==============================] - 1s 31ms/step - loss: 0.4715 - val_loss: 1.0466\n",
      "Epoch 162/250\n"
     ]
    },
    {
     "name": "stdout",
     "output_type": "stream",
     "text": [
      "30/30 [==============================] - 1s 38ms/step - loss: 0.4712 - val_loss: 1.0427\n",
      "Epoch 163/250\n",
      "30/30 [==============================] - 1s 37ms/step - loss: 0.4709 - val_loss: 1.0396\n",
      "Epoch 164/250\n",
      "30/30 [==============================] - 1s 33ms/step - loss: 0.4707 - val_loss: 1.0370\n",
      "Epoch 165/250\n",
      "30/30 [==============================] - 1s 29ms/step - loss: 0.4704 - val_loss: 1.0347\n",
      "Epoch 166/250\n",
      "30/30 [==============================] - 1s 29ms/step - loss: 0.4702 - val_loss: 1.0319\n",
      "Epoch 167/250\n",
      "30/30 [==============================] - 1s 27ms/step - loss: 0.4699 - val_loss: 1.0288\n",
      "Epoch 168/250\n",
      "30/30 [==============================] - 1s 26ms/step - loss: 0.4697 - val_loss: 1.0254\n",
      "Epoch 169/250\n",
      "30/30 [==============================] - 1s 33ms/step - loss: 0.4695 - val_loss: 1.0226\n",
      "Epoch 170/250\n",
      "30/30 [==============================] - 1s 36ms/step - loss: 0.4692 - val_loss: 1.0204\n",
      "Epoch 171/250\n",
      "30/30 [==============================] - 1s 36ms/step - loss: 0.4690 - val_loss: 1.0170\n",
      "Epoch 172/250\n",
      "30/30 [==============================] - 1s 39ms/step - loss: 0.4687 - val_loss: 1.0143\n",
      "Epoch 173/250\n",
      "30/30 [==============================] - 1s 26ms/step - loss: 0.4685 - val_loss: 1.0118\n",
      "Epoch 174/250\n",
      "30/30 [==============================] - 1s 29ms/step - loss: 0.4682 - val_loss: 1.0088\n",
      "Epoch 175/250\n",
      "30/30 [==============================] - 1s 37ms/step - loss: 0.4680 - val_loss: 1.0065\n",
      "Epoch 176/250\n",
      "30/30 [==============================] - 1s 39ms/step - loss: 0.4677 - val_loss: 1.0033\n",
      "Epoch 177/250\n",
      "30/30 [==============================] - 1s 37ms/step - loss: 0.4675 - val_loss: 0.9998\n",
      "Epoch 178/250\n",
      "30/30 [==============================] - 1s 28ms/step - loss: 0.4673 - val_loss: 0.9968\n",
      "Epoch 179/250\n",
      "30/30 [==============================] - 1s 29ms/step - loss: 0.4670 - val_loss: 0.9945\n",
      "Epoch 180/250\n",
      "30/30 [==============================] - 1s 31ms/step - loss: 0.4668 - val_loss: 0.9925\n",
      "Epoch 181/250\n",
      "30/30 [==============================] - 1s 37ms/step - loss: 0.4665 - val_loss: 0.9888\n",
      "Epoch 182/250\n",
      "30/30 [==============================] - 1s 36ms/step - loss: 0.4662 - val_loss: 0.9853\n",
      "Epoch 183/250\n",
      "30/30 [==============================] - 1s 32ms/step - loss: 0.4660 - val_loss: 0.9836\n",
      "Epoch 184/250\n",
      "30/30 [==============================] - 1s 27ms/step - loss: 0.4657 - val_loss: 0.9805\n",
      "Epoch 185/250\n",
      "30/30 [==============================] - 1s 33ms/step - loss: 0.4655 - val_loss: 0.9777\n",
      "Epoch 186/250\n",
      "30/30 [==============================] - 1s 33ms/step - loss: 0.4652 - val_loss: 0.9745\n",
      "Epoch 187/250\n",
      "30/30 [==============================] - 1s 33ms/step - loss: 0.4649 - val_loss: 0.9721\n",
      "Epoch 188/250\n",
      "30/30 [==============================] - 1s 34ms/step - loss: 0.4646 - val_loss: 0.9682\n",
      "Epoch 189/250\n",
      "30/30 [==============================] - 1s 26ms/step - loss: 0.4644 - val_loss: 0.9657\n",
      "Epoch 190/250\n",
      "30/30 [==============================] - 1s 30ms/step - loss: 0.4641 - val_loss: 0.9627\n",
      "Epoch 191/250\n",
      "30/30 [==============================] - 1s 25ms/step - loss: 0.4638 - val_loss: 0.9602\n",
      "Epoch 192/250\n",
      "30/30 [==============================] - 1s 25ms/step - loss: 0.4635 - val_loss: 0.9570\n",
      "Epoch 193/250\n",
      "30/30 [==============================] - 1s 31ms/step - loss: 0.4631 - val_loss: 0.9543\n",
      "Epoch 194/250\n",
      "30/30 [==============================] - 1s 37ms/step - loss: 0.4628 - val_loss: 0.9511\n",
      "Epoch 195/250\n",
      "30/30 [==============================] - 1s 36ms/step - loss: 0.4625 - val_loss: 0.9479\n",
      "Epoch 196/250\n",
      "30/30 [==============================] - 1s 26ms/step - loss: 0.4621 - val_loss: 0.9449\n",
      "Epoch 197/250\n",
      "30/30 [==============================] - 1s 27ms/step - loss: 0.4618 - val_loss: 0.9414\n",
      "Epoch 198/250\n",
      "30/30 [==============================] - 1s 33ms/step - loss: 0.4614 - val_loss: 0.9380\n",
      "Epoch 199/250\n",
      "30/30 [==============================] - 1s 35ms/step - loss: 0.4610 - val_loss: 0.9352\n",
      "Epoch 200/250\n",
      "30/30 [==============================] - 1s 24ms/step - loss: 0.4606 - val_loss: 0.9325\n",
      "Epoch 201/250\n",
      "30/30 [==============================] - 1s 28ms/step - loss: 0.4602 - val_loss: 0.9283\n",
      "Epoch 202/250\n",
      "30/30 [==============================] - 1s 36ms/step - loss: 0.4599 - val_loss: 0.9249\n",
      "Epoch 203/250\n",
      "30/30 [==============================] - 1s 36ms/step - loss: 0.4594 - val_loss: 0.9221\n",
      "Epoch 204/250\n",
      "30/30 [==============================] - 1s 42ms/step - loss: 0.4590 - val_loss: 0.9183\n",
      "Epoch 205/250\n",
      "30/30 [==============================] - 1s 36ms/step - loss: 0.4585 - val_loss: 0.9153\n",
      "Epoch 206/250\n",
      "30/30 [==============================] - 1s 24ms/step - loss: 0.4581 - val_loss: 0.9111\n",
      "Epoch 207/250\n",
      "30/30 [==============================] - 1s 29ms/step - loss: 0.4577 - val_loss: 0.9094\n",
      "Epoch 208/250\n",
      "30/30 [==============================] - 1s 36ms/step - loss: 0.4572 - val_loss: 0.9060\n",
      "Epoch 209/250\n",
      "30/30 [==============================] - 1s 37ms/step - loss: 0.4568 - val_loss: 0.9025\n",
      "Epoch 210/250\n",
      "30/30 [==============================] - 1s 39ms/step - loss: 0.4563 - val_loss: 0.8988\n",
      "Epoch 211/250\n",
      "30/30 [==============================] - 1s 38ms/step - loss: 0.4559 - val_loss: 0.8956\n",
      "Epoch 212/250\n",
      "30/30 [==============================] - 1s 33ms/step - loss: 0.4555 - val_loss: 0.8925\n",
      "Epoch 213/250\n",
      "30/30 [==============================] - 1s 28ms/step - loss: 0.4550 - val_loss: 0.8895\n",
      "Epoch 214/250\n",
      "30/30 [==============================] - 1s 29ms/step - loss: 0.4546 - val_loss: 0.8871\n",
      "Epoch 215/250\n",
      "30/30 [==============================] - 1s 36ms/step - loss: 0.4542 - val_loss: 0.8840\n",
      "Epoch 216/250\n",
      "30/30 [==============================] - 1s 38ms/step - loss: 0.4538 - val_loss: 0.8807\n",
      "Epoch 217/250\n",
      "30/30 [==============================] - 1s 38ms/step - loss: 0.4534 - val_loss: 0.8787\n",
      "Epoch 218/250\n",
      "30/30 [==============================] - 1s 24ms/step - loss: 0.4531 - val_loss: 0.8770\n",
      "Epoch 219/250\n",
      "30/30 [==============================] - 1s 30ms/step - loss: 0.4527 - val_loss: 0.8740\n",
      "Epoch 220/250\n",
      "30/30 [==============================] - 1s 33ms/step - loss: 0.4523 - val_loss: 0.8722\n",
      "Epoch 221/250\n",
      "30/30 [==============================] - 1s 29ms/step - loss: 0.4520 - val_loss: 0.8703\n",
      "Epoch 222/250\n",
      "30/30 [==============================] - 1s 25ms/step - loss: 0.4516 - val_loss: 0.8673\n",
      "Epoch 223/250\n",
      "30/30 [==============================] - 1s 31ms/step - loss: 0.4513 - val_loss: 0.8665\n",
      "Epoch 224/250\n",
      "30/30 [==============================] - 1s 34ms/step - loss: 0.4510 - val_loss: 0.8650\n",
      "Epoch 225/250\n",
      "30/30 [==============================] - 1s 37ms/step - loss: 0.4506 - val_loss: 0.8634\n",
      "Epoch 226/250\n",
      "30/30 [==============================] - 1s 30ms/step - loss: 0.4503 - val_loss: 0.8617\n",
      "Epoch 227/250\n",
      "30/30 [==============================] - 1s 26ms/step - loss: 0.4500 - val_loss: 0.8604\n",
      "Epoch 228/250\n",
      "30/30 [==============================] - 1s 30ms/step - loss: 0.4497 - val_loss: 0.8593\n",
      "Epoch 229/250\n",
      "30/30 [==============================] - 1s 25ms/step - loss: 0.4494 - val_loss: 0.8585\n",
      "Epoch 230/250\n",
      "30/30 [==============================] - 1s 25ms/step - loss: 0.4491 - val_loss: 0.8575\n",
      "Epoch 231/250\n",
      "30/30 [==============================] - 1s 28ms/step - loss: 0.4488 - val_loss: 0.8558\n",
      "Epoch 232/250\n",
      "30/30 [==============================] - 1s 25ms/step - loss: 0.4485 - val_loss: 0.8560\n",
      "Epoch 233/250\n",
      "30/30 [==============================] - 1s 26ms/step - loss: 0.4482 - val_loss: 0.8556\n",
      "Epoch 234/250\n",
      "30/30 [==============================] - 1s 32ms/step - loss: 0.4480 - val_loss: 0.8543\n",
      "Epoch 235/250\n",
      "30/30 [==============================] - 1s 29ms/step - loss: 0.4476 - val_loss: 0.8547\n",
      "Epoch 236/250\n",
      "30/30 [==============================] - 1s 39ms/step - loss: 0.4473 - val_loss: 0.8547\n",
      "Epoch 237/250\n",
      "30/30 [==============================] - 1s 39ms/step - loss: 0.4470 - val_loss: 0.8545\n",
      "Epoch 238/250\n",
      "30/30 [==============================] - 1s 27ms/step - loss: 0.4467 - val_loss: 0.8541\n",
      "Epoch 239/250\n",
      "30/30 [==============================] - 1s 29ms/step - loss: 0.4464 - val_loss: 0.8550\n",
      "Epoch 240/250\n",
      "30/30 [==============================] - 1s 32ms/step - loss: 0.4460 - val_loss: 0.8560\n",
      "Epoch 241/250\n",
      "30/30 [==============================] - 1s 36ms/step - loss: 0.4457 - val_loss: 0.8557\n",
      "Epoch 242/250\n"
     ]
    },
    {
     "name": "stdout",
     "output_type": "stream",
     "text": [
      "30/30 [==============================] - 1s 35ms/step - loss: 0.4453 - val_loss: 0.8572\n",
      "Epoch 243/250\n",
      "30/30 [==============================] - 1s 23ms/step - loss: 0.4449 - val_loss: 0.8566\n",
      "Epoch 244/250\n",
      "30/30 [==============================] - 1s 31ms/step - loss: 0.4445 - val_loss: 0.8577\n",
      "Epoch 245/250\n",
      "30/30 [==============================] - 1s 25ms/step - loss: 0.4440 - val_loss: 0.8592\n",
      "Epoch 246/250\n",
      "30/30 [==============================] - 1s 24ms/step - loss: 0.4436 - val_loss: 0.8594\n",
      "Epoch 247/250\n",
      "30/30 [==============================] - 1s 31ms/step - loss: 0.4431 - val_loss: 0.8610\n",
      "Epoch 248/250\n",
      "30/30 [==============================] - 1s 34ms/step - loss: 0.4425 - val_loss: 0.8618\n",
      "Epoch 249/250\n",
      "30/30 [==============================] - 1s 26ms/step - loss: 0.4419 - val_loss: 0.8630\n",
      "Epoch 250/250\n",
      "30/30 [==============================] - 1s 27ms/step - loss: 0.4413 - val_loss: 0.8641\n"
     ]
    }
   ],
   "source": [
    "EVALUATION_INTERVAL = 30\n",
    "EPOCHS = 250\n",
    "\n",
    "single_step_history = simple_lstm_model.fit(train_univariate, epochs=EPOCHS,\n",
    "                      steps_per_epoch=EVALUATION_INTERVAL,\n",
    "                      validation_data=val_univariate, validation_steps=30)"
   ]
  },
  {
   "cell_type": "raw",
   "metadata": {},
   "source": [
    "Model Prediction Graph"
   ]
  },
  {
   "cell_type": "code",
   "execution_count": 37,
   "metadata": {},
   "outputs": [
    {
     "data": {
      "image/png": "[encoded data removed]",
      "text/plain": [
       "<Figure size 1080x432 with 1 Axes>"
      ]
     },
     "metadata": {
      "needs_background": "light"
     },
     "output_type": "display_data"
    }
   ],
   "source": [
    "for x, y in val_univariate.take(1):\n",
    "  fig = plt.figure(figsize=(15,6))\n",
    "  plot = show_plot([x[0].numpy(), y[0].numpy(),\n",
    "                    simple_lstm_model.predict(x)[0]], 0, 'Simple LSTM model')\n",
    "  plot.show()"
   ]
  },
  {
   "cell_type": "raw",
   "metadata": {},
   "source": [
    "Training and Validation Loss Plot"
   ]
  },
  {
   "cell_type": "code",
   "execution_count": 38,
   "metadata": {},
   "outputs": [],
   "source": [
    "def plot_train_history(history, title):\n",
    "  loss = history.history['loss']\n",
    "  val_loss = history.history['val_loss']\n",
    "\n",
    "  epochs = range(len(loss))\n",
    "\n",
    "  plt.figure()\n",
    "\n",
    "  plt.plot(epochs, loss, 'b', label='Training loss')\n",
    "  plt.plot(epochs, val_loss, 'r', label='Validation loss')\n",
    "  plt.title(title)\n",
    "  plt.legend()\n",
    "\n",
    "  plt.show()"
   ]
  },
  {
   "cell_type": "code",
   "execution_count": 39,
   "metadata": {},
   "outputs": [
    {
     "data": {
      "image/png": "[encoded data removed]",
      "text/plain": [
       "<Figure size 432x288 with 1 Axes>"
      ]
     },
     "metadata": {
      "needs_background": "light"
     },
     "output_type": "display_data"
    }
   ],
   "source": [
    "plot_train_history(single_step_history,\n",
    "                   'Single Step Training and validation loss')"
   ]
  },
  {
   "cell_type": "raw",
   "metadata": {},
   "source": [
    "Evaluate the model with the test data"
   ]
  },
  {
   "cell_type": "code",
   "execution_count": 40,
   "metadata": {},
   "outputs": [
    {
     "data": {
      "text/plain": [
       "date\n",
       "2017-06-01    31731.0\n",
       "2017-08-01    31008.0\n",
       "2017-09-01    31433.0\n",
       "2017-10-01    33190.0\n",
       "2017-11-01    36144.0\n",
       "Name: mp_price_edit, dtype: float64"
      ]
     },
     "execution_count": 40,
     "metadata": {},
     "output_type": "execute_result"
    }
   ],
   "source": [
    "test_data = test['mp_price_edit']\n",
    "test_data.index = test['date']\n",
    "test_data.head()"
   ]
  },
  {
   "cell_type": "code",
   "execution_count": 41,
   "metadata": {},
   "outputs": [],
   "source": [
    "test_data = test_data.values"
   ]
  },
  {
   "cell_type": "code",
   "execution_count": 42,
   "metadata": {},
   "outputs": [],
   "source": [
    "test_data = (test_data-uni_train_mean)/uni_train_std"
   ]
  },
  {
   "cell_type": "code",
   "execution_count": 43,
   "metadata": {},
   "outputs": [],
   "source": [
    "univariate_future_target = 0\n",
    "\n",
    "x_test, y_test = univariate_data(uni_data, 0, len(test_data)+1,\n",
    "                                           len(test_data),\n",
    "                                           univariate_future_target)"
   ]
  },
  {
   "cell_type": "code",
   "execution_count": 44,
   "metadata": {},
   "outputs": [
    {
     "data": {
      "text/plain": [
       "(1, 30, 1)"
      ]
     },
     "execution_count": 44,
     "metadata": {},
     "output_type": "execute_result"
    }
   ],
   "source": [
    "x_test.shape"
   ]
  },
  {
   "cell_type": "code",
   "execution_count": 45,
   "metadata": {},
   "outputs": [
    {
     "data": {
      "text/plain": [
       "(1,)"
      ]
     },
     "execution_count": 45,
     "metadata": {},
     "output_type": "execute_result"
    }
   ],
   "source": [
    "y_test.shape"
   ]
  },
  {
   "cell_type": "code",
   "execution_count": 46,
   "metadata": {},
   "outputs": [
    {
     "name": "stdout",
     "output_type": "stream",
     "text": [
      "\r",
      "1/1 [==============================] - 1s 890ms/sample - loss: 0.1407\n"
     ]
    }
   ],
   "source": [
    "results = simple_lstm_model.evaluate(x_test, y_test, batch_size=30)"
   ]
  },
  {
   "cell_type": "code",
   "execution_count": 47,
   "metadata": {},
   "outputs": [],
   "source": [
    "simple_lstm_model.save_weights(\"chili.h30\")"
   ]
  },
  {
   "cell_type": "raw",
   "metadata": {},
   "source": [
    "Evaluate Chili Bird's Eye with Chili Red Model"
   ]
  },
  {
   "cell_type": "code",
   "execution_count": 62,
   "metadata": {},
   "outputs": [],
   "source": [
    "# Read the csv data\n",
    "\n",
    "df_cbe = pd.read_csv('indonesia_food_price_chili_birdeye_median.csv')"
   ]
  },
  {
   "cell_type": "code",
   "execution_count": 67,
   "metadata": {},
   "outputs": [
    {
     "data": {
      "text/plain": [
       "date\n",
       "2007-01-01    16825.1196\n",
       "2007-02-01    13373.0000\n",
       "2007-03-01    15360.0000\n",
       "2007-04-01    13347.0000\n",
       "2007-05-01    10784.0000\n",
       "Name: mp_price_edit, dtype: float64"
      ]
     },
     "execution_count": 67,
     "metadata": {},
     "output_type": "execute_result"
    }
   ],
   "source": [
    "uni_cbe = df_cbe['mp_price_edit']\n",
    "uni_cbe.index = df_cbe['date']\n",
    "uni_cbe.head()"
   ]
  },
  {
   "cell_type": "code",
   "execution_count": 68,
   "metadata": {},
   "outputs": [],
   "source": [
    "uni_cbe = uni_cbe.values"
   ]
  },
  {
   "cell_type": "code",
   "execution_count": 69,
   "metadata": {},
   "outputs": [],
   "source": [
    "# Standardize the data\n",
    "uni_cbe_mean = uni_cbe.mean()\n",
    "uni_cbe_std = uni_cbe.std()"
   ]
  },
  {
   "cell_type": "code",
   "execution_count": 70,
   "metadata": {},
   "outputs": [],
   "source": [
    "uni_cbe = (uni_cbe-uni_cbe_mean)/uni_cbe_std"
   ]
  },
  {
   "cell_type": "code",
   "execution_count": 71,
   "metadata": {},
   "outputs": [],
   "source": [
    "univariate_past_history = 30\n",
    "univariate_future_target = 0\n",
    "\n",
    "x_train_cbe_uni, y_train_cbe_uni = univariate_data(uni_cbe, 0, TRAIN_SPLIT,\n",
    "                                           univariate_past_history,\n",
    "                                           univariate_future_target)"
   ]
  },
  {
   "cell_type": "code",
   "execution_count": 72,
   "metadata": {},
   "outputs": [
    {
     "data": {
      "text/plain": [
       "(95, 30, 1)"
      ]
     },
     "execution_count": 72,
     "metadata": {},
     "output_type": "execute_result"
    }
   ],
   "source": [
    "x_train_cbe_uni.shape"
   ]
  },
  {
   "cell_type": "code",
   "execution_count": 73,
   "metadata": {},
   "outputs": [
    {
     "data": {
      "text/plain": [
       "(95,)"
      ]
     },
     "execution_count": 73,
     "metadata": {},
     "output_type": "execute_result"
    }
   ],
   "source": [
    "y_train_cbe_uni.shape"
   ]
  },
  {
   "cell_type": "code",
   "execution_count": 74,
   "metadata": {},
   "outputs": [
    {
     "name": "stdout",
     "output_type": "stream",
     "text": [
      "95/95 [==============================] - 0s 440us/sample - loss: 0.3186\n"
     ]
    }
   ],
   "source": [
    "results_cbe = simple_lstm_model.evaluate(x_train_cbe_uni, y_train_cbe_uni, batch_size=30)"
   ]
  },
  {
   "cell_type": "code",
   "execution_count": 76,
   "metadata": {},
   "outputs": [
    {
     "data": {
      "image/png": "[encoded data removed]",
      "text/plain": [
       "<Figure size 576x576 with 1 Axes>"
      ]
     },
     "metadata": {
      "needs_background": "light"
     },
     "output_type": "display_data"
    }
   ],
   "source": [
    "preds = simple_lstm_model.predict(x_train_cbe_uni, batch_size=30)\n",
    "\n",
    "plt.figure(figsize=(8,8))\n",
    "plt.plot(list(range(0, y_train_cbe_uni.shape[0])), y_train_cbe_uni.flatten())\n",
    "plt.plot(list(range(0, preds.shape[0])), preds.flatten())\n",
    "plt.xlabel('data count')\n",
    "plt.ylabel('price')\n",
    "plt.title(\"Chili bird's eye result\")\n",
    "plt.legend(['real price', 'predicted price'], loc='upper left')\n",
    "plt.show()"
   ]
  },
  {
   "cell_type": "code",
   "execution_count": null,
   "metadata": {},
   "outputs": [],
   "source": []
  }
 ],
 "metadata": {
  "kernelspec": {
   "display_name": "Python 3",
   "language": "python",
   "name": "python3"
  },
  "language_info": {
   "codemirror_mode": {
    "name": "ipython",
    "version": 3
   },
   "file_extension": ".py",
   "mimetype": "text/x-python",
   "name": "python",
   "nbconvert_exporter": "python",
   "pygments_lexer": "ipython3",
   "version": "3.7.3"
  }
 },
 "nbformat": 4,
 "nbformat_minor": 2
}
