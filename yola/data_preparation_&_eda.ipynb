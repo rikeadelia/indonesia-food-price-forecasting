{
 "cells": [
  {
   "cell_type": "code",
   "execution_count": 31,
   "metadata": {},
   "outputs": [],
   "source": [
    "import tensorflow as tf\n",
    "\n",
    "import matplotlib as mpl\n",
    "import matplotlib.pyplot as plt\n",
    "import numpy as np\n",
    "import os\n",
    "import pandas as pd\n",
    "import seaborn as sns\n",
    "\n",
    "mpl.rcParams['figure.figsize'] = (8, 6)\n",
    "mpl.rcParams['axes.grid'] = False"
   ]
  },
  {
   "cell_type": "code",
   "execution_count": 32,
   "metadata": {},
   "outputs": [
    {
     "name": "stderr",
     "output_type": "stream",
     "text": [
      "C:\\Users\\ASUS\\Anaconda3\\lib\\site-packages\\IPython\\core\\interactiveshell.py:3057: DtypeWarning: Columns (3) have mixed types. Specify dtype option on import or set low_memory=False.\n",
      "  interactivity=interactivity, compiler=compiler, result=result)\n"
     ]
    }
   ],
   "source": [
    "# Read the csv data\n",
    "\n",
    "food_prices = pd.read_csv('D:\\Belajar\\BANGKIT GOOGLE\\Data\\wfpvam_foodprices_2.csv')"
   ]
  },
  {
   "cell_type": "code",
   "execution_count": 33,
   "metadata": {},
   "outputs": [
    {
     "data": {
      "text/html": [
       "<div>\n",
       "<style scoped>\n",
       "    .dataframe tbody tr th:only-of-type {\n",
       "        vertical-align: middle;\n",
       "    }\n",
       "\n",
       "    .dataframe tbody tr th {\n",
       "        vertical-align: top;\n",
       "    }\n",
       "\n",
       "    .dataframe thead th {\n",
       "        text-align: right;\n",
       "    }\n",
       "</style>\n",
       "<table border=\"1\" class=\"dataframe\">\n",
       "  <thead>\n",
       "    <tr style=\"text-align: right;\">\n",
       "      <th></th>\n",
       "      <th>adm0_id</th>\n",
       "      <th>adm0_name</th>\n",
       "      <th>adm1_id</th>\n",
       "      <th>adm1_name</th>\n",
       "      <th>mkt_id</th>\n",
       "      <th>mkt_name</th>\n",
       "      <th>cm_id</th>\n",
       "      <th>cm_name</th>\n",
       "      <th>cur_id</th>\n",
       "      <th>cur_name</th>\n",
       "      <th>pt_id</th>\n",
       "      <th>pt_name</th>\n",
       "      <th>um_id</th>\n",
       "      <th>um_name</th>\n",
       "      <th>mp_month</th>\n",
       "      <th>mp_year</th>\n",
       "      <th>mp_price</th>\n",
       "      <th>mp_commoditysource</th>\n",
       "    </tr>\n",
       "  </thead>\n",
       "  <tbody>\n",
       "    <tr>\n",
       "      <td>0</td>\n",
       "      <td>1.0</td>\n",
       "      <td>Afghanistan</td>\n",
       "      <td>272</td>\n",
       "      <td>Badakhshan</td>\n",
       "      <td>266</td>\n",
       "      <td>Fayzabad</td>\n",
       "      <td>55</td>\n",
       "      <td>Bread - Retail</td>\n",
       "      <td>0.0</td>\n",
       "      <td>AFN</td>\n",
       "      <td>15</td>\n",
       "      <td>Retail</td>\n",
       "      <td>5</td>\n",
       "      <td>KG</td>\n",
       "      <td>1</td>\n",
       "      <td>2014</td>\n",
       "      <td>50.0</td>\n",
       "      <td>NaN</td>\n",
       "    </tr>\n",
       "    <tr>\n",
       "      <td>1</td>\n",
       "      <td>1.0</td>\n",
       "      <td>Afghanistan</td>\n",
       "      <td>272</td>\n",
       "      <td>Badakhshan</td>\n",
       "      <td>266</td>\n",
       "      <td>Fayzabad</td>\n",
       "      <td>55</td>\n",
       "      <td>Bread - Retail</td>\n",
       "      <td>0.0</td>\n",
       "      <td>AFN</td>\n",
       "      <td>15</td>\n",
       "      <td>Retail</td>\n",
       "      <td>5</td>\n",
       "      <td>KG</td>\n",
       "      <td>2</td>\n",
       "      <td>2014</td>\n",
       "      <td>50.0</td>\n",
       "      <td>NaN</td>\n",
       "    </tr>\n",
       "    <tr>\n",
       "      <td>2</td>\n",
       "      <td>1.0</td>\n",
       "      <td>Afghanistan</td>\n",
       "      <td>272</td>\n",
       "      <td>Badakhshan</td>\n",
       "      <td>266</td>\n",
       "      <td>Fayzabad</td>\n",
       "      <td>55</td>\n",
       "      <td>Bread - Retail</td>\n",
       "      <td>0.0</td>\n",
       "      <td>AFN</td>\n",
       "      <td>15</td>\n",
       "      <td>Retail</td>\n",
       "      <td>5</td>\n",
       "      <td>KG</td>\n",
       "      <td>3</td>\n",
       "      <td>2014</td>\n",
       "      <td>50.0</td>\n",
       "      <td>NaN</td>\n",
       "    </tr>\n",
       "    <tr>\n",
       "      <td>3</td>\n",
       "      <td>1.0</td>\n",
       "      <td>Afghanistan</td>\n",
       "      <td>272</td>\n",
       "      <td>Badakhshan</td>\n",
       "      <td>266</td>\n",
       "      <td>Fayzabad</td>\n",
       "      <td>55</td>\n",
       "      <td>Bread - Retail</td>\n",
       "      <td>0.0</td>\n",
       "      <td>AFN</td>\n",
       "      <td>15</td>\n",
       "      <td>Retail</td>\n",
       "      <td>5</td>\n",
       "      <td>KG</td>\n",
       "      <td>4</td>\n",
       "      <td>2014</td>\n",
       "      <td>50.0</td>\n",
       "      <td>NaN</td>\n",
       "    </tr>\n",
       "    <tr>\n",
       "      <td>4</td>\n",
       "      <td>1.0</td>\n",
       "      <td>Afghanistan</td>\n",
       "      <td>272</td>\n",
       "      <td>Badakhshan</td>\n",
       "      <td>266</td>\n",
       "      <td>Fayzabad</td>\n",
       "      <td>55</td>\n",
       "      <td>Bread - Retail</td>\n",
       "      <td>0.0</td>\n",
       "      <td>AFN</td>\n",
       "      <td>15</td>\n",
       "      <td>Retail</td>\n",
       "      <td>5</td>\n",
       "      <td>KG</td>\n",
       "      <td>5</td>\n",
       "      <td>2014</td>\n",
       "      <td>50.0</td>\n",
       "      <td>NaN</td>\n",
       "    </tr>\n",
       "  </tbody>\n",
       "</table>\n",
       "</div>"
      ],
      "text/plain": [
       "   adm0_id    adm0_name  adm1_id   adm1_name  mkt_id  mkt_name  cm_id  \\\n",
       "0      1.0  Afghanistan      272  Badakhshan     266  Fayzabad     55   \n",
       "1      1.0  Afghanistan      272  Badakhshan     266  Fayzabad     55   \n",
       "2      1.0  Afghanistan      272  Badakhshan     266  Fayzabad     55   \n",
       "3      1.0  Afghanistan      272  Badakhshan     266  Fayzabad     55   \n",
       "4      1.0  Afghanistan      272  Badakhshan     266  Fayzabad     55   \n",
       "\n",
       "          cm_name  cur_id cur_name  pt_id pt_name  um_id um_name  mp_month  \\\n",
       "0  Bread - Retail     0.0      AFN     15  Retail      5      KG         1   \n",
       "1  Bread - Retail     0.0      AFN     15  Retail      5      KG         2   \n",
       "2  Bread - Retail     0.0      AFN     15  Retail      5      KG         3   \n",
       "3  Bread - Retail     0.0      AFN     15  Retail      5      KG         4   \n",
       "4  Bread - Retail     0.0      AFN     15  Retail      5      KG         5   \n",
       "\n",
       "   mp_year  mp_price  mp_commoditysource  \n",
       "0     2014      50.0                 NaN  \n",
       "1     2014      50.0                 NaN  \n",
       "2     2014      50.0                 NaN  \n",
       "3     2014      50.0                 NaN  \n",
       "4     2014      50.0                 NaN  "
      ]
     },
     "execution_count": 33,
     "metadata": {},
     "output_type": "execute_result"
    }
   ],
   "source": [
    "food_prices.head()"
   ]
  },
  {
   "cell_type": "code",
   "execution_count": 34,
   "metadata": {},
   "outputs": [
    {
     "data": {
      "text/plain": [
       "(1353688, 18)"
      ]
     },
     "execution_count": 34,
     "metadata": {},
     "output_type": "execute_result"
    }
   ],
   "source": [
    "# Data row and column\n",
    "\n",
    "food_prices.shape"
   ]
  },
  {
   "cell_type": "code",
   "execution_count": 35,
   "metadata": {},
   "outputs": [
    {
     "data": {
      "text/plain": [
       "adm0_id                     0\n",
       "adm0_name                   0\n",
       "adm1_id                     0\n",
       "adm1_name              375273\n",
       "mkt_id                      0\n",
       "mkt_name                    0\n",
       "cm_id                       0\n",
       "cm_name                     0\n",
       "cur_id                      0\n",
       "cur_name                    0\n",
       "pt_id                       0\n",
       "pt_name                     0\n",
       "um_id                       0\n",
       "um_name                     0\n",
       "mp_month                    0\n",
       "mp_year                     0\n",
       "mp_price                    0\n",
       "mp_commoditysource    1353688\n",
       "dtype: int64"
      ]
     },
     "execution_count": 35,
     "metadata": {},
     "output_type": "execute_result"
    }
   ],
   "source": [
    "# Count NA values for each column\n",
    "\n",
    "food_prices.isna().sum()"
   ]
  },
  {
   "cell_type": "raw",
   "metadata": {},
   "source": [
    "Column mp_commoditysource will be dropped from the table because only contains NA values."
   ]
  },
  {
   "cell_type": "code",
   "execution_count": 36,
   "metadata": {},
   "outputs": [],
   "source": [
    "# Drop mp_commoditysource \n",
    "\n",
    "food_prices = food_prices.drop(columns='mp_commoditysource')"
   ]
  },
  {
   "cell_type": "code",
   "execution_count": 37,
   "metadata": {},
   "outputs": [
    {
     "data": {
      "text/html": [
       "<div>\n",
       "<style scoped>\n",
       "    .dataframe tbody tr th:only-of-type {\n",
       "        vertical-align: middle;\n",
       "    }\n",
       "\n",
       "    .dataframe tbody tr th {\n",
       "        vertical-align: top;\n",
       "    }\n",
       "\n",
       "    .dataframe thead th {\n",
       "        text-align: right;\n",
       "    }\n",
       "</style>\n",
       "<table border=\"1\" class=\"dataframe\">\n",
       "  <thead>\n",
       "    <tr style=\"text-align: right;\">\n",
       "      <th></th>\n",
       "      <th>adm0_id</th>\n",
       "      <th>adm0_name</th>\n",
       "      <th>adm1_id</th>\n",
       "      <th>adm1_name</th>\n",
       "      <th>mkt_id</th>\n",
       "      <th>mkt_name</th>\n",
       "      <th>cm_id</th>\n",
       "      <th>cm_name</th>\n",
       "      <th>cur_id</th>\n",
       "      <th>cur_name</th>\n",
       "      <th>pt_id</th>\n",
       "      <th>pt_name</th>\n",
       "      <th>um_id</th>\n",
       "      <th>um_name</th>\n",
       "      <th>mp_month</th>\n",
       "      <th>mp_year</th>\n",
       "      <th>mp_price</th>\n",
       "    </tr>\n",
       "  </thead>\n",
       "  <tbody>\n",
       "    <tr>\n",
       "      <td>417323</td>\n",
       "      <td>116.0</td>\n",
       "      <td>Indonesia</td>\n",
       "      <td>0</td>\n",
       "      <td>NaN</td>\n",
       "      <td>974</td>\n",
       "      <td>National Average</td>\n",
       "      <td>52</td>\n",
       "      <td>Rice - Retail</td>\n",
       "      <td>0.0</td>\n",
       "      <td>IDR</td>\n",
       "      <td>15</td>\n",
       "      <td>Retail</td>\n",
       "      <td>5</td>\n",
       "      <td>KG</td>\n",
       "      <td>1</td>\n",
       "      <td>2007</td>\n",
       "      <td>5941.9752</td>\n",
       "    </tr>\n",
       "    <tr>\n",
       "      <td>417324</td>\n",
       "      <td>116.0</td>\n",
       "      <td>Indonesia</td>\n",
       "      <td>0</td>\n",
       "      <td>NaN</td>\n",
       "      <td>974</td>\n",
       "      <td>National Average</td>\n",
       "      <td>52</td>\n",
       "      <td>Rice - Retail</td>\n",
       "      <td>0.0</td>\n",
       "      <td>IDR</td>\n",
       "      <td>15</td>\n",
       "      <td>Retail</td>\n",
       "      <td>5</td>\n",
       "      <td>KG</td>\n",
       "      <td>2</td>\n",
       "      <td>2007</td>\n",
       "      <td>6445.0000</td>\n",
       "    </tr>\n",
       "    <tr>\n",
       "      <td>417325</td>\n",
       "      <td>116.0</td>\n",
       "      <td>Indonesia</td>\n",
       "      <td>0</td>\n",
       "      <td>NaN</td>\n",
       "      <td>974</td>\n",
       "      <td>National Average</td>\n",
       "      <td>52</td>\n",
       "      <td>Rice - Retail</td>\n",
       "      <td>0.0</td>\n",
       "      <td>IDR</td>\n",
       "      <td>15</td>\n",
       "      <td>Retail</td>\n",
       "      <td>5</td>\n",
       "      <td>KG</td>\n",
       "      <td>3</td>\n",
       "      <td>2007</td>\n",
       "      <td>6414.0000</td>\n",
       "    </tr>\n",
       "    <tr>\n",
       "      <td>417326</td>\n",
       "      <td>116.0</td>\n",
       "      <td>Indonesia</td>\n",
       "      <td>0</td>\n",
       "      <td>NaN</td>\n",
       "      <td>974</td>\n",
       "      <td>National Average</td>\n",
       "      <td>52</td>\n",
       "      <td>Rice - Retail</td>\n",
       "      <td>0.0</td>\n",
       "      <td>IDR</td>\n",
       "      <td>15</td>\n",
       "      <td>Retail</td>\n",
       "      <td>5</td>\n",
       "      <td>KG</td>\n",
       "      <td>4</td>\n",
       "      <td>2007</td>\n",
       "      <td>6083.0000</td>\n",
       "    </tr>\n",
       "    <tr>\n",
       "      <td>417327</td>\n",
       "      <td>116.0</td>\n",
       "      <td>Indonesia</td>\n",
       "      <td>0</td>\n",
       "      <td>NaN</td>\n",
       "      <td>974</td>\n",
       "      <td>National Average</td>\n",
       "      <td>52</td>\n",
       "      <td>Rice - Retail</td>\n",
       "      <td>0.0</td>\n",
       "      <td>IDR</td>\n",
       "      <td>15</td>\n",
       "      <td>Retail</td>\n",
       "      <td>5</td>\n",
       "      <td>KG</td>\n",
       "      <td>5</td>\n",
       "      <td>2007</td>\n",
       "      <td>5955.0000</td>\n",
       "    </tr>\n",
       "  </tbody>\n",
       "</table>\n",
       "</div>"
      ],
      "text/plain": [
       "        adm0_id  adm0_name  adm1_id adm1_name  mkt_id          mkt_name  \\\n",
       "417323    116.0  Indonesia        0       NaN     974  National Average   \n",
       "417324    116.0  Indonesia        0       NaN     974  National Average   \n",
       "417325    116.0  Indonesia        0       NaN     974  National Average   \n",
       "417326    116.0  Indonesia        0       NaN     974  National Average   \n",
       "417327    116.0  Indonesia        0       NaN     974  National Average   \n",
       "\n",
       "        cm_id        cm_name  cur_id cur_name  pt_id pt_name  um_id um_name  \\\n",
       "417323     52  Rice - Retail     0.0      IDR     15  Retail      5      KG   \n",
       "417324     52  Rice - Retail     0.0      IDR     15  Retail      5      KG   \n",
       "417325     52  Rice - Retail     0.0      IDR     15  Retail      5      KG   \n",
       "417326     52  Rice - Retail     0.0      IDR     15  Retail      5      KG   \n",
       "417327     52  Rice - Retail     0.0      IDR     15  Retail      5      KG   \n",
       "\n",
       "        mp_month  mp_year   mp_price  \n",
       "417323         1     2007  5941.9752  \n",
       "417324         2     2007  6445.0000  \n",
       "417325         3     2007  6414.0000  \n",
       "417326         4     2007  6083.0000  \n",
       "417327         5     2007  5955.0000  "
      ]
     },
     "execution_count": 37,
     "metadata": {},
     "output_type": "execute_result"
    }
   ],
   "source": [
    "# Filter data to Indonesia\n",
    "\n",
    "indo_prices = food_prices[food_prices['adm0_name']=='Indonesia']\n",
    "indo_prices.head()"
   ]
  },
  {
   "cell_type": "code",
   "execution_count": 38,
   "metadata": {},
   "outputs": [
    {
     "data": {
      "text/html": [
       "<div>\n",
       "<style scoped>\n",
       "    .dataframe tbody tr th:only-of-type {\n",
       "        vertical-align: middle;\n",
       "    }\n",
       "\n",
       "    .dataframe tbody tr th {\n",
       "        vertical-align: top;\n",
       "    }\n",
       "\n",
       "    .dataframe thead th {\n",
       "        text-align: right;\n",
       "    }\n",
       "</style>\n",
       "<table border=\"1\" class=\"dataframe\">\n",
       "  <thead>\n",
       "    <tr style=\"text-align: right;\">\n",
       "      <th></th>\n",
       "      <th>adm0_id</th>\n",
       "      <th>adm0_name</th>\n",
       "      <th>adm1_id</th>\n",
       "      <th>adm1_name</th>\n",
       "      <th>mkt_id</th>\n",
       "      <th>mkt_name</th>\n",
       "      <th>cm_id</th>\n",
       "      <th>cm_name</th>\n",
       "      <th>cur_id</th>\n",
       "      <th>cur_name</th>\n",
       "      <th>pt_id</th>\n",
       "      <th>pt_name</th>\n",
       "      <th>um_id</th>\n",
       "      <th>um_name</th>\n",
       "      <th>mp_month</th>\n",
       "      <th>mp_year</th>\n",
       "      <th>mp_price</th>\n",
       "    </tr>\n",
       "  </thead>\n",
       "  <tbody>\n",
       "    <tr>\n",
       "      <td>417788</td>\n",
       "      <td>116.0</td>\n",
       "      <td>Indonesia</td>\n",
       "      <td>0</td>\n",
       "      <td>NaN</td>\n",
       "      <td>974</td>\n",
       "      <td>National Average</td>\n",
       "      <td>91</td>\n",
       "      <td>Chili (red) - Retail</td>\n",
       "      <td>0.0</td>\n",
       "      <td>IDR</td>\n",
       "      <td>15</td>\n",
       "      <td>Retail</td>\n",
       "      <td>5</td>\n",
       "      <td>KG</td>\n",
       "      <td>1</td>\n",
       "      <td>2007</td>\n",
       "      <td>24974.0693</td>\n",
       "    </tr>\n",
       "    <tr>\n",
       "      <td>417789</td>\n",
       "      <td>116.0</td>\n",
       "      <td>Indonesia</td>\n",
       "      <td>0</td>\n",
       "      <td>NaN</td>\n",
       "      <td>974</td>\n",
       "      <td>National Average</td>\n",
       "      <td>91</td>\n",
       "      <td>Chili (red) - Retail</td>\n",
       "      <td>0.0</td>\n",
       "      <td>IDR</td>\n",
       "      <td>15</td>\n",
       "      <td>Retail</td>\n",
       "      <td>5</td>\n",
       "      <td>KG</td>\n",
       "      <td>2</td>\n",
       "      <td>2007</td>\n",
       "      <td>22593.0000</td>\n",
       "    </tr>\n",
       "    <tr>\n",
       "      <td>417790</td>\n",
       "      <td>116.0</td>\n",
       "      <td>Indonesia</td>\n",
       "      <td>0</td>\n",
       "      <td>NaN</td>\n",
       "      <td>974</td>\n",
       "      <td>National Average</td>\n",
       "      <td>91</td>\n",
       "      <td>Chili (red) - Retail</td>\n",
       "      <td>0.0</td>\n",
       "      <td>IDR</td>\n",
       "      <td>15</td>\n",
       "      <td>Retail</td>\n",
       "      <td>5</td>\n",
       "      <td>KG</td>\n",
       "      <td>3</td>\n",
       "      <td>2007</td>\n",
       "      <td>22807.0000</td>\n",
       "    </tr>\n",
       "    <tr>\n",
       "      <td>417791</td>\n",
       "      <td>116.0</td>\n",
       "      <td>Indonesia</td>\n",
       "      <td>0</td>\n",
       "      <td>NaN</td>\n",
       "      <td>974</td>\n",
       "      <td>National Average</td>\n",
       "      <td>91</td>\n",
       "      <td>Chili (red) - Retail</td>\n",
       "      <td>0.0</td>\n",
       "      <td>IDR</td>\n",
       "      <td>15</td>\n",
       "      <td>Retail</td>\n",
       "      <td>5</td>\n",
       "      <td>KG</td>\n",
       "      <td>4</td>\n",
       "      <td>2007</td>\n",
       "      <td>18414.0000</td>\n",
       "    </tr>\n",
       "    <tr>\n",
       "      <td>417792</td>\n",
       "      <td>116.0</td>\n",
       "      <td>Indonesia</td>\n",
       "      <td>0</td>\n",
       "      <td>NaN</td>\n",
       "      <td>974</td>\n",
       "      <td>National Average</td>\n",
       "      <td>91</td>\n",
       "      <td>Chili (red) - Retail</td>\n",
       "      <td>0.0</td>\n",
       "      <td>IDR</td>\n",
       "      <td>15</td>\n",
       "      <td>Retail</td>\n",
       "      <td>5</td>\n",
       "      <td>KG</td>\n",
       "      <td>5</td>\n",
       "      <td>2007</td>\n",
       "      <td>14910.0000</td>\n",
       "    </tr>\n",
       "  </tbody>\n",
       "</table>\n",
       "</div>"
      ],
      "text/plain": [
       "        adm0_id  adm0_name  adm1_id adm1_name  mkt_id          mkt_name  \\\n",
       "417788    116.0  Indonesia        0       NaN     974  National Average   \n",
       "417789    116.0  Indonesia        0       NaN     974  National Average   \n",
       "417790    116.0  Indonesia        0       NaN     974  National Average   \n",
       "417791    116.0  Indonesia        0       NaN     974  National Average   \n",
       "417792    116.0  Indonesia        0       NaN     974  National Average   \n",
       "\n",
       "        cm_id               cm_name  cur_id cur_name  pt_id pt_name  um_id  \\\n",
       "417788     91  Chili (red) - Retail     0.0      IDR     15  Retail      5   \n",
       "417789     91  Chili (red) - Retail     0.0      IDR     15  Retail      5   \n",
       "417790     91  Chili (red) - Retail     0.0      IDR     15  Retail      5   \n",
       "417791     91  Chili (red) - Retail     0.0      IDR     15  Retail      5   \n",
       "417792     91  Chili (red) - Retail     0.0      IDR     15  Retail      5   \n",
       "\n",
       "       um_name  mp_month  mp_year    mp_price  \n",
       "417788      KG         1     2007  24974.0693  \n",
       "417789      KG         2     2007  22593.0000  \n",
       "417790      KG         3     2007  22807.0000  \n",
       "417791      KG         4     2007  18414.0000  \n",
       "417792      KG         5     2007  14910.0000  "
      ]
     },
     "execution_count": 38,
     "metadata": {},
     "output_type": "execute_result"
    }
   ],
   "source": [
    "# Filter Indonesia Data to Chili\n",
    "\n",
    "df = indo_prices[(indo_prices.cm_name=='Chili (bird’s eye)   - Retail') | (indo_prices.cm_name=='Chili (red) - Retail')]\n",
    "df.head()"
   ]
  },
  {
   "cell_type": "code",
   "execution_count": 39,
   "metadata": {},
   "outputs": [
    {
     "name": "stderr",
     "output_type": "stream",
     "text": [
      "C:\\Users\\ASUS\\Anaconda3\\lib\\site-packages\\ipykernel_launcher.py:3: SettingWithCopyWarning: \n",
      "A value is trying to be set on a copy of a slice from a DataFrame.\n",
      "Try using .loc[row_indexer,col_indexer] = value instead\n",
      "\n",
      "See the caveats in the documentation: http://pandas.pydata.org/pandas-docs/stable/user_guide/indexing.html#returning-a-view-versus-a-copy\n",
      "  This is separate from the ipykernel package so we can avoid doing imports until\n",
      "C:\\Users\\ASUS\\Anaconda3\\lib\\site-packages\\ipykernel_launcher.py:4: SettingWithCopyWarning: \n",
      "A value is trying to be set on a copy of a slice from a DataFrame.\n",
      "Try using .loc[row_indexer,col_indexer] = value instead\n",
      "\n",
      "See the caveats in the documentation: http://pandas.pydata.org/pandas-docs/stable/user_guide/indexing.html#returning-a-view-versus-a-copy\n",
      "  after removing the cwd from sys.path.\n"
     ]
    },
    {
     "data": {
      "text/html": [
       "<div>\n",
       "<style scoped>\n",
       "    .dataframe tbody tr th:only-of-type {\n",
       "        vertical-align: middle;\n",
       "    }\n",
       "\n",
       "    .dataframe tbody tr th {\n",
       "        vertical-align: top;\n",
       "    }\n",
       "\n",
       "    .dataframe thead th {\n",
       "        text-align: right;\n",
       "    }\n",
       "</style>\n",
       "<table border=\"1\" class=\"dataframe\">\n",
       "  <thead>\n",
       "    <tr style=\"text-align: right;\">\n",
       "      <th></th>\n",
       "      <th>adm0_id</th>\n",
       "      <th>adm0_name</th>\n",
       "      <th>adm1_id</th>\n",
       "      <th>adm1_name</th>\n",
       "      <th>mkt_id</th>\n",
       "      <th>mkt_name</th>\n",
       "      <th>cm_id</th>\n",
       "      <th>cm_name</th>\n",
       "      <th>cur_id</th>\n",
       "      <th>cur_name</th>\n",
       "      <th>pt_id</th>\n",
       "      <th>pt_name</th>\n",
       "      <th>um_id</th>\n",
       "      <th>um_name</th>\n",
       "      <th>mp_month</th>\n",
       "      <th>mp_year</th>\n",
       "      <th>mp_price</th>\n",
       "      <th>date</th>\n",
       "    </tr>\n",
       "  </thead>\n",
       "  <tbody>\n",
       "    <tr>\n",
       "      <td>417788</td>\n",
       "      <td>116.0</td>\n",
       "      <td>Indonesia</td>\n",
       "      <td>0</td>\n",
       "      <td>NaN</td>\n",
       "      <td>974</td>\n",
       "      <td>National Average</td>\n",
       "      <td>91</td>\n",
       "      <td>Chili (red) - Retail</td>\n",
       "      <td>0.0</td>\n",
       "      <td>IDR</td>\n",
       "      <td>15</td>\n",
       "      <td>Retail</td>\n",
       "      <td>5</td>\n",
       "      <td>KG</td>\n",
       "      <td>1</td>\n",
       "      <td>2007</td>\n",
       "      <td>24974.0693</td>\n",
       "      <td>2007-01-01</td>\n",
       "    </tr>\n",
       "    <tr>\n",
       "      <td>417789</td>\n",
       "      <td>116.0</td>\n",
       "      <td>Indonesia</td>\n",
       "      <td>0</td>\n",
       "      <td>NaN</td>\n",
       "      <td>974</td>\n",
       "      <td>National Average</td>\n",
       "      <td>91</td>\n",
       "      <td>Chili (red) - Retail</td>\n",
       "      <td>0.0</td>\n",
       "      <td>IDR</td>\n",
       "      <td>15</td>\n",
       "      <td>Retail</td>\n",
       "      <td>5</td>\n",
       "      <td>KG</td>\n",
       "      <td>2</td>\n",
       "      <td>2007</td>\n",
       "      <td>22593.0000</td>\n",
       "      <td>2007-02-01</td>\n",
       "    </tr>\n",
       "    <tr>\n",
       "      <td>417790</td>\n",
       "      <td>116.0</td>\n",
       "      <td>Indonesia</td>\n",
       "      <td>0</td>\n",
       "      <td>NaN</td>\n",
       "      <td>974</td>\n",
       "      <td>National Average</td>\n",
       "      <td>91</td>\n",
       "      <td>Chili (red) - Retail</td>\n",
       "      <td>0.0</td>\n",
       "      <td>IDR</td>\n",
       "      <td>15</td>\n",
       "      <td>Retail</td>\n",
       "      <td>5</td>\n",
       "      <td>KG</td>\n",
       "      <td>3</td>\n",
       "      <td>2007</td>\n",
       "      <td>22807.0000</td>\n",
       "      <td>2007-03-01</td>\n",
       "    </tr>\n",
       "    <tr>\n",
       "      <td>417791</td>\n",
       "      <td>116.0</td>\n",
       "      <td>Indonesia</td>\n",
       "      <td>0</td>\n",
       "      <td>NaN</td>\n",
       "      <td>974</td>\n",
       "      <td>National Average</td>\n",
       "      <td>91</td>\n",
       "      <td>Chili (red) - Retail</td>\n",
       "      <td>0.0</td>\n",
       "      <td>IDR</td>\n",
       "      <td>15</td>\n",
       "      <td>Retail</td>\n",
       "      <td>5</td>\n",
       "      <td>KG</td>\n",
       "      <td>4</td>\n",
       "      <td>2007</td>\n",
       "      <td>18414.0000</td>\n",
       "      <td>2007-04-01</td>\n",
       "    </tr>\n",
       "    <tr>\n",
       "      <td>417792</td>\n",
       "      <td>116.0</td>\n",
       "      <td>Indonesia</td>\n",
       "      <td>0</td>\n",
       "      <td>NaN</td>\n",
       "      <td>974</td>\n",
       "      <td>National Average</td>\n",
       "      <td>91</td>\n",
       "      <td>Chili (red) - Retail</td>\n",
       "      <td>0.0</td>\n",
       "      <td>IDR</td>\n",
       "      <td>15</td>\n",
       "      <td>Retail</td>\n",
       "      <td>5</td>\n",
       "      <td>KG</td>\n",
       "      <td>5</td>\n",
       "      <td>2007</td>\n",
       "      <td>14910.0000</td>\n",
       "      <td>2007-05-01</td>\n",
       "    </tr>\n",
       "  </tbody>\n",
       "</table>\n",
       "</div>"
      ],
      "text/plain": [
       "        adm0_id  adm0_name  adm1_id adm1_name  mkt_id          mkt_name  \\\n",
       "417788    116.0  Indonesia        0       NaN     974  National Average   \n",
       "417789    116.0  Indonesia        0       NaN     974  National Average   \n",
       "417790    116.0  Indonesia        0       NaN     974  National Average   \n",
       "417791    116.0  Indonesia        0       NaN     974  National Average   \n",
       "417792    116.0  Indonesia        0       NaN     974  National Average   \n",
       "\n",
       "        cm_id               cm_name  cur_id cur_name  pt_id pt_name  um_id  \\\n",
       "417788     91  Chili (red) - Retail     0.0      IDR     15  Retail      5   \n",
       "417789     91  Chili (red) - Retail     0.0      IDR     15  Retail      5   \n",
       "417790     91  Chili (red) - Retail     0.0      IDR     15  Retail      5   \n",
       "417791     91  Chili (red) - Retail     0.0      IDR     15  Retail      5   \n",
       "417792     91  Chili (red) - Retail     0.0      IDR     15  Retail      5   \n",
       "\n",
       "       um_name  mp_month  mp_year    mp_price       date  \n",
       "417788      KG         1     2007  24974.0693 2007-01-01  \n",
       "417789      KG         2     2007  22593.0000 2007-02-01  \n",
       "417790      KG         3     2007  22807.0000 2007-03-01  \n",
       "417791      KG         4     2007  18414.0000 2007-04-01  \n",
       "417792      KG         5     2007  14910.0000 2007-05-01  "
      ]
     },
     "execution_count": 39,
     "metadata": {},
     "output_type": "execute_result"
    }
   ],
   "source": [
    "# Add date field into the table\n",
    "\n",
    "df['date'] = np.where(df['mp_month']<10, df['mp_year'].map(str) + str('-0') + df['mp_month'].map(str) + str('-01'), df['mp_year'].map(str) + str('-') + df['mp_month'].map(str) + str('-01'))\n",
    "df['date'] = pd.to_datetime(df['date'])\n",
    "df.head()"
   ]
  },
  {
   "cell_type": "code",
   "execution_count": 40,
   "metadata": {},
   "outputs": [
    {
     "data": {
      "text/plain": [
       "(310, 18)"
      ]
     },
     "execution_count": 40,
     "metadata": {},
     "output_type": "execute_result"
    }
   ],
   "source": [
    "# Check shape\n",
    "\n",
    "df.shape"
   ]
  },
  {
   "cell_type": "code",
   "execution_count": 41,
   "metadata": {},
   "outputs": [
    {
     "data": {
      "text/plain": [
       "adm0_id        0\n",
       "adm0_name      0\n",
       "adm1_id        0\n",
       "adm1_name    310\n",
       "mkt_id         0\n",
       "mkt_name       0\n",
       "cm_id          0\n",
       "cm_name        0\n",
       "cur_id         0\n",
       "cur_name       0\n",
       "pt_id          0\n",
       "pt_name        0\n",
       "um_id          0\n",
       "um_name        0\n",
       "mp_month       0\n",
       "mp_year        0\n",
       "mp_price       0\n",
       "date           0\n",
       "dtype: int64"
      ]
     },
     "execution_count": 41,
     "metadata": {},
     "output_type": "execute_result"
    }
   ],
   "source": [
    "# Check NA\n",
    "\n",
    "df.isna().sum()"
   ]
  },
  {
   "cell_type": "code",
   "execution_count": 42,
   "metadata": {},
   "outputs": [],
   "source": [
    "# Save to csv data Indonesia and Chili\n",
    "\n",
    "df.to_csv('indonesia_food_price_chili.csv', index=False)"
   ]
  },
  {
   "cell_type": "code",
   "execution_count": 43,
   "metadata": {},
   "outputs": [
    {
     "data": {
      "image/png": "[encoded data removed]",
      "text/plain": [
       "<Figure size 1440x432 with 1 Axes>"
      ]
     },
     "metadata": {},
     "output_type": "display_data"
    }
   ],
   "source": [
    "# Boxplot price based on chili\n",
    "\n",
    "def plot_box(df, cols, col_y = 'mp_price'):\n",
    "    for col in cols:\n",
    "        fig = plt.figure(figsize=(20,6)) # define plot area\n",
    "        sns.set_style(\"whitegrid\")\n",
    "        sns.boxplot(col, col_y, data=df)\n",
    "        plt.xlabel(col) # Set text for the x axis\n",
    "        plt.ylabel(col_y)# Set text for y axis\n",
    "        plt.xticks(rotation=90)\n",
    "        plt.show()\n",
    "        \n",
    "cat_cols = ['cm_name']\n",
    "plot_box(df, cat_cols) "
   ]
  },
  {
   "cell_type": "code",
   "execution_count": 44,
   "metadata": {},
   "outputs": [],
   "source": [
    "# Split into Chili(Red) and Chili(Birds's Eye)\n",
    "\n",
    "df_cr = df[(df.cm_name=='Chili (red) - Retail')]\n",
    "df_cbe = df[(df.cm_name=='Chili (bird’s eye)   - Retail')]"
   ]
  },
  {
   "cell_type": "code",
   "execution_count": 45,
   "metadata": {},
   "outputs": [
    {
     "name": "stdout",
     "output_type": "stream",
     "text": [
      "(155, 18)\n",
      "(155, 18)\n"
     ]
    }
   ],
   "source": [
    "# Shape of each data\n",
    "\n",
    "print(df_cr.shape)\n",
    "print(df_cbe.shape)"
   ]
  },
  {
   "cell_type": "code",
   "execution_count": 46,
   "metadata": {},
   "outputs": [
    {
     "name": "stderr",
     "output_type": "stream",
     "text": [
      "C:\\Users\\ASUS\\Anaconda3\\lib\\site-packages\\ipykernel_launcher.py:7: SettingWithCopyWarning: \n",
      "A value is trying to be set on a copy of a slice from a DataFrame.\n",
      "Try using .loc[row_indexer,col_indexer] = value instead\n",
      "\n",
      "See the caveats in the documentation: http://pandas.pydata.org/pandas-docs/stable/user_guide/indexing.html#returning-a-view-versus-a-copy\n",
      "  import sys\n",
      "C:\\Users\\ASUS\\Anaconda3\\lib\\site-packages\\ipykernel_launcher.py:8: SettingWithCopyWarning: \n",
      "A value is trying to be set on a copy of a slice from a DataFrame.\n",
      "Try using .loc[row_indexer,col_indexer] = value instead\n",
      "\n",
      "See the caveats in the documentation: http://pandas.pydata.org/pandas-docs/stable/user_guide/indexing.html#returning-a-view-versus-a-copy\n",
      "  \n"
     ]
    }
   ],
   "source": [
    "# Replace Chili(Red) Outliers with Median\n",
    "\n",
    "Q1 = df_cr['mp_price'].quantile(0.25)\n",
    "Q3 = df_cr['mp_price'].quantile(0.75)\n",
    "IQR = Q3 - Q1\n",
    "\n",
    "df_cr['mp_price_edit'] =  np.where(((df_cr['mp_price'] < Q1 - 1.5 * IQR)), df_cr['mp_price'].median(), df_cr['mp_price'])\n",
    "df_cr['mp_price_edit'] =  np.where(((df_cr['mp_price'] > Q3 + 1.5 * IQR)), df_cr['mp_price'].median(), df_cr['mp_price'])"
   ]
  },
  {
   "cell_type": "code",
   "execution_count": 47,
   "metadata": {},
   "outputs": [
    {
     "data": {
      "text/html": [
       "<div>\n",
       "<style scoped>\n",
       "    .dataframe tbody tr th:only-of-type {\n",
       "        vertical-align: middle;\n",
       "    }\n",
       "\n",
       "    .dataframe tbody tr th {\n",
       "        vertical-align: top;\n",
       "    }\n",
       "\n",
       "    .dataframe thead th {\n",
       "        text-align: right;\n",
       "    }\n",
       "</style>\n",
       "<table border=\"1\" class=\"dataframe\">\n",
       "  <thead>\n",
       "    <tr style=\"text-align: right;\">\n",
       "      <th></th>\n",
       "      <th>mp_price</th>\n",
       "      <th>mp_price_edit</th>\n",
       "    </tr>\n",
       "  </thead>\n",
       "  <tbody>\n",
       "    <tr>\n",
       "      <td>count</td>\n",
       "      <td>155.000000</td>\n",
       "      <td>155.000000</td>\n",
       "    </tr>\n",
       "    <tr>\n",
       "      <td>mean</td>\n",
       "      <td>30086.188134</td>\n",
       "      <td>29127.994586</td>\n",
       "    </tr>\n",
       "    <tr>\n",
       "      <td>std</td>\n",
       "      <td>11627.397415</td>\n",
       "      <td>10109.306519</td>\n",
       "    </tr>\n",
       "    <tr>\n",
       "      <td>min</td>\n",
       "      <td>12774.000000</td>\n",
       "      <td>12774.000000</td>\n",
       "    </tr>\n",
       "    <tr>\n",
       "      <td>25%</td>\n",
       "      <td>20636.000000</td>\n",
       "      <td>20636.000000</td>\n",
       "    </tr>\n",
       "    <tr>\n",
       "      <td>50%</td>\n",
       "      <td>27911.000000</td>\n",
       "      <td>27911.000000</td>\n",
       "    </tr>\n",
       "    <tr>\n",
       "      <td>75%</td>\n",
       "      <td>36217.000000</td>\n",
       "      <td>35462.500000</td>\n",
       "    </tr>\n",
       "    <tr>\n",
       "      <td>max</td>\n",
       "      <td>71960.000000</td>\n",
       "      <td>57079.000000</td>\n",
       "    </tr>\n",
       "  </tbody>\n",
       "</table>\n",
       "</div>"
      ],
      "text/plain": [
       "           mp_price  mp_price_edit\n",
       "count    155.000000     155.000000\n",
       "mean   30086.188134   29127.994586\n",
       "std    11627.397415   10109.306519\n",
       "min    12774.000000   12774.000000\n",
       "25%    20636.000000   20636.000000\n",
       "50%    27911.000000   27911.000000\n",
       "75%    36217.000000   35462.500000\n",
       "max    71960.000000   57079.000000"
      ]
     },
     "execution_count": 47,
     "metadata": {},
     "output_type": "execute_result"
    }
   ],
   "source": [
    "# Descriptive Statistics of Chile(Red)\n",
    "\n",
    "df_cr[['mp_price','mp_price_edit']].describe()"
   ]
  },
  {
   "cell_type": "code",
   "execution_count": 48,
   "metadata": {},
   "outputs": [
    {
     "data": {
      "text/plain": [
       "<matplotlib.axes._subplots.AxesSubplot at 0x22a3b576198>"
      ]
     },
     "execution_count": 48,
     "metadata": {},
     "output_type": "execute_result"
    },
    {
     "data": {
      "image/png": "[encoded data removed]",
      "text/plain": [
       "<Figure size 576x432 with 1 Axes>"
      ]
     },
     "metadata": {},
     "output_type": "display_data"
    }
   ],
   "source": [
    "sns.boxplot(df_cr['mp_price_edit'])"
   ]
  },
  {
   "cell_type": "code",
   "execution_count": 49,
   "metadata": {},
   "outputs": [
    {
     "name": "stderr",
     "output_type": "stream",
     "text": [
      "C:\\Users\\ASUS\\Anaconda3\\lib\\site-packages\\ipykernel_launcher.py:5: FutureWarning: The 'get_values' method is deprecated and will be removed in a future version. Use '.to_numpy()' or '.array' instead.\n",
      "  \"\"\"\n"
     ]
    },
    {
     "data": {
      "image/png": "[encoded data removed]",
      "text/plain": [
       "<Figure size 576x432 with 1 Axes>"
      ]
     },
     "metadata": {},
     "output_type": "display_data"
    }
   ],
   "source": [
    "# Plot Distribution Variabel Price (KDE) of Chili(Red)\n",
    "\n",
    "mean=df_cr['mp_price_edit'].mean()\n",
    "median=df_cr['mp_price_edit'].median()\n",
    "mode=df_cr['mp_price_edit'].mode().get_values()[0]\n",
    "\n",
    "sns.distplot(df_cr['mp_price_edit'])\n",
    "plt.axvline(mean, color='r', linestyle='--')\n",
    "plt.axvline(median, color='g', linestyle='-')\n",
    "plt.axvline(mode, color='b', linestyle='-')\n",
    "\n",
    "plt.legend({'Mean':mean,'Median':median,'Mode':mode})\n",
    "\n",
    "plt.show()"
   ]
  },
  {
   "cell_type": "code",
   "execution_count": 51,
   "metadata": {},
   "outputs": [],
   "source": [
    "# Save to csv data Indonesia and Chili Red\n",
    "\n",
    "df_cr.to_csv('indonesia_food_price_chili_red_median.csv', index=False)"
   ]
  },
  {
   "cell_type": "code",
   "execution_count": 52,
   "metadata": {},
   "outputs": [
    {
     "name": "stderr",
     "output_type": "stream",
     "text": [
      "C:\\Users\\ASUS\\Anaconda3\\lib\\site-packages\\ipykernel_launcher.py:7: SettingWithCopyWarning: \n",
      "A value is trying to be set on a copy of a slice from a DataFrame.\n",
      "Try using .loc[row_indexer,col_indexer] = value instead\n",
      "\n",
      "See the caveats in the documentation: http://pandas.pydata.org/pandas-docs/stable/user_guide/indexing.html#returning-a-view-versus-a-copy\n",
      "  import sys\n",
      "C:\\Users\\ASUS\\Anaconda3\\lib\\site-packages\\ipykernel_launcher.py:8: SettingWithCopyWarning: \n",
      "A value is trying to be set on a copy of a slice from a DataFrame.\n",
      "Try using .loc[row_indexer,col_indexer] = value instead\n",
      "\n",
      "See the caveats in the documentation: http://pandas.pydata.org/pandas-docs/stable/user_guide/indexing.html#returning-a-view-versus-a-copy\n",
      "  \n"
     ]
    }
   ],
   "source": [
    "# Replace Chili(Bird's Eye) Outliers with Median\n",
    "\n",
    "Q1 = df_cbe['mp_price'].quantile(0.25)\n",
    "Q3 = df_cbe['mp_price'].quantile(0.75)\n",
    "IQR = Q3 - Q1\n",
    "\n",
    "df_cbe['mp_price_edit'] =  np.where(((df_cbe['mp_price'] < Q1 - 1.5 * IQR)), df_cbe['mp_price'].median(), df_cbe['mp_price'])\n",
    "df_cbe['mp_price_edit'] =  np.where(((df_cbe['mp_price'] > Q3 + 1.5 * IQR)), df_cbe['mp_price'].median(), df_cbe['mp_price'])"
   ]
  },
  {
   "cell_type": "code",
   "execution_count": 53,
   "metadata": {},
   "outputs": [
    {
     "data": {
      "text/html": [
       "<div>\n",
       "<style scoped>\n",
       "    .dataframe tbody tr th:only-of-type {\n",
       "        vertical-align: middle;\n",
       "    }\n",
       "\n",
       "    .dataframe tbody tr th {\n",
       "        vertical-align: top;\n",
       "    }\n",
       "\n",
       "    .dataframe thead th {\n",
       "        text-align: right;\n",
       "    }\n",
       "</style>\n",
       "<table border=\"1\" class=\"dataframe\">\n",
       "  <thead>\n",
       "    <tr style=\"text-align: right;\">\n",
       "      <th></th>\n",
       "      <th>mp_price</th>\n",
       "      <th>mp_price_edit</th>\n",
       "    </tr>\n",
       "  </thead>\n",
       "  <tbody>\n",
       "    <tr>\n",
       "      <td>count</td>\n",
       "      <td>155.000000</td>\n",
       "      <td>155.000000</td>\n",
       "    </tr>\n",
       "    <tr>\n",
       "      <td>mean</td>\n",
       "      <td>31990.225050</td>\n",
       "      <td>30637.541179</td>\n",
       "    </tr>\n",
       "    <tr>\n",
       "      <td>std</td>\n",
       "      <td>15283.189929</td>\n",
       "      <td>12926.891360</td>\n",
       "    </tr>\n",
       "    <tr>\n",
       "      <td>min</td>\n",
       "      <td>10284.000000</td>\n",
       "      <td>10284.000000</td>\n",
       "    </tr>\n",
       "    <tr>\n",
       "      <td>25%</td>\n",
       "      <td>19621.500000</td>\n",
       "      <td>19621.500000</td>\n",
       "    </tr>\n",
       "    <tr>\n",
       "      <td>50%</td>\n",
       "      <td>29312.000000</td>\n",
       "      <td>29312.000000</td>\n",
       "    </tr>\n",
       "    <tr>\n",
       "      <td>75%</td>\n",
       "      <td>41253.000000</td>\n",
       "      <td>40002.500000</td>\n",
       "    </tr>\n",
       "    <tr>\n",
       "      <td>max</td>\n",
       "      <td>89763.000000</td>\n",
       "      <td>68481.000000</td>\n",
       "    </tr>\n",
       "  </tbody>\n",
       "</table>\n",
       "</div>"
      ],
      "text/plain": [
       "           mp_price  mp_price_edit\n",
       "count    155.000000     155.000000\n",
       "mean   31990.225050   30637.541179\n",
       "std    15283.189929   12926.891360\n",
       "min    10284.000000   10284.000000\n",
       "25%    19621.500000   19621.500000\n",
       "50%    29312.000000   29312.000000\n",
       "75%    41253.000000   40002.500000\n",
       "max    89763.000000   68481.000000"
      ]
     },
     "execution_count": 53,
     "metadata": {},
     "output_type": "execute_result"
    }
   ],
   "source": [
    "# Descriptive Statistics of Chile(Bird's Eye)\n",
    "\n",
    "df_cbe[['mp_price','mp_price_edit']].describe()"
   ]
  },
  {
   "cell_type": "code",
   "execution_count": 54,
   "metadata": {},
   "outputs": [
    {
     "data": {
      "text/plain": [
       "<matplotlib.axes._subplots.AxesSubplot at 0x22a3b5766a0>"
      ]
     },
     "execution_count": 54,
     "metadata": {},
     "output_type": "execute_result"
    },
    {
     "data": {
      "image/png": "[encoded data removed]",
      "text/plain": [
       "<Figure size 576x432 with 1 Axes>"
      ]
     },
     "metadata": {},
     "output_type": "display_data"
    }
   ],
   "source": [
    "sns.boxplot(df_cbe['mp_price_edit'])"
   ]
  },
  {
   "cell_type": "code",
   "execution_count": 55,
   "metadata": {},
   "outputs": [
    {
     "name": "stderr",
     "output_type": "stream",
     "text": [
      "C:\\Users\\ASUS\\Anaconda3\\lib\\site-packages\\ipykernel_launcher.py:5: FutureWarning: The 'get_values' method is deprecated and will be removed in a future version. Use '.to_numpy()' or '.array' instead.\n",
      "  \"\"\"\n"
     ]
    },
    {
     "data": {
      "image/png": "[encoded data removed]",
      "text/plain": [
       "<Figure size 576x432 with 1 Axes>"
      ]
     },
     "metadata": {},
     "output_type": "display_data"
    }
   ],
   "source": [
    "# Plot Distribution Variabel Price (KDE) of Chili(Bird's Eye)\n",
    "\n",
    "mean=df_cbe['mp_price_edit'].mean()\n",
    "median=df_cbe['mp_price_edit'].median()\n",
    "mode=df_cbe['mp_price_edit'].mode().get_values()[0]\n",
    "\n",
    "sns.distplot(df_cbe['mp_price_edit'])\n",
    "plt.axvline(mean, color='r', linestyle='--')\n",
    "plt.axvline(median, color='g', linestyle='-')\n",
    "plt.axvline(mode, color='b', linestyle='-')\n",
    "\n",
    "plt.legend({'Mean':mean,'Median':median,'Mode':mode})\n",
    "\n",
    "plt.show()"
   ]
  },
  {
   "cell_type": "code",
   "execution_count": 57,
   "metadata": {},
   "outputs": [],
   "source": [
    "# Save to csv data Indonesia and Chili Birds Eye\n",
    "\n",
    "df_cbe.to_csv('indonesia_food_price_chili_birdeye_median.csv', index=False)"
   ]
  },
  {
   "cell_type": "raw",
   "metadata": {},
   "source": [
    "Data for Multivariate Time Series"
   ]
  },
  {
   "cell_type": "code",
   "execution_count": 58,
   "metadata": {},
   "outputs": [],
   "source": [
    "df_ch = pd.merge(df_cr[['date','mp_price']], df_cbe[['date','mp_price']], on=['date'])"
   ]
  },
  {
   "cell_type": "code",
   "execution_count": 59,
   "metadata": {},
   "outputs": [
    {
     "data": {
      "text/html": [
       "<div>\n",
       "<style scoped>\n",
       "    .dataframe tbody tr th:only-of-type {\n",
       "        vertical-align: middle;\n",
       "    }\n",
       "\n",
       "    .dataframe tbody tr th {\n",
       "        vertical-align: top;\n",
       "    }\n",
       "\n",
       "    .dataframe thead th {\n",
       "        text-align: right;\n",
       "    }\n",
       "</style>\n",
       "<table border=\"1\" class=\"dataframe\">\n",
       "  <thead>\n",
       "    <tr style=\"text-align: right;\">\n",
       "      <th></th>\n",
       "      <th>date</th>\n",
       "      <th>mp_price_x</th>\n",
       "      <th>mp_price_y</th>\n",
       "    </tr>\n",
       "  </thead>\n",
       "  <tbody>\n",
       "    <tr>\n",
       "      <td>0</td>\n",
       "      <td>2007-01-01</td>\n",
       "      <td>24974.0693</td>\n",
       "      <td>16825.1196</td>\n",
       "    </tr>\n",
       "    <tr>\n",
       "      <td>1</td>\n",
       "      <td>2007-02-01</td>\n",
       "      <td>22593.0000</td>\n",
       "      <td>13373.0000</td>\n",
       "    </tr>\n",
       "    <tr>\n",
       "      <td>2</td>\n",
       "      <td>2007-03-01</td>\n",
       "      <td>22807.0000</td>\n",
       "      <td>15360.0000</td>\n",
       "    </tr>\n",
       "    <tr>\n",
       "      <td>3</td>\n",
       "      <td>2007-04-01</td>\n",
       "      <td>18414.0000</td>\n",
       "      <td>13347.0000</td>\n",
       "    </tr>\n",
       "    <tr>\n",
       "      <td>4</td>\n",
       "      <td>2007-05-01</td>\n",
       "      <td>14910.0000</td>\n",
       "      <td>10784.0000</td>\n",
       "    </tr>\n",
       "  </tbody>\n",
       "</table>\n",
       "</div>"
      ],
      "text/plain": [
       "        date  mp_price_x  mp_price_y\n",
       "0 2007-01-01  24974.0693  16825.1196\n",
       "1 2007-02-01  22593.0000  13373.0000\n",
       "2 2007-03-01  22807.0000  15360.0000\n",
       "3 2007-04-01  18414.0000  13347.0000\n",
       "4 2007-05-01  14910.0000  10784.0000"
      ]
     },
     "execution_count": 59,
     "metadata": {},
     "output_type": "execute_result"
    }
   ],
   "source": [
    "df_ch.head()"
   ]
  },
  {
   "cell_type": "code",
   "execution_count": 60,
   "metadata": {},
   "outputs": [],
   "source": [
    "df_ch.to_csv('indonesia_food_price_chili_median.csv', index=False)"
   ]
  },
  {
   "cell_type": "raw",
   "metadata": {},
   "source": [
    "Comparation between chili red and chili bird eye\n",
    "\n",
    "mp_price_x belongs tp chili red\n",
    "mp_price_y belongs to chili bird's eye"
   ]
  },
  {
   "cell_type": "code",
   "execution_count": 61,
   "metadata": {},
   "outputs": [
    {
     "data": {
      "image/png": "[encoded data removed]",
      "text/plain": [
       "<Figure size 576x432 with 1 Axes>"
      ]
     },
     "metadata": {},
     "output_type": "display_data"
    }
   ],
   "source": [
    "# Corellation\n",
    "\n",
    "plt.scatter(df_ch['mp_price_x'], df_ch['mp_price_y'])\n",
    "plt.show()"
   ]
  },
  {
   "cell_type": "code",
   "execution_count": 62,
   "metadata": {},
   "outputs": [
    {
     "name": "stdout",
     "output_type": "stream",
     "text": [
      "Pearsons correlation: 0.830\n"
     ]
    }
   ],
   "source": [
    "# calculate Pearson's correlation\n",
    "\n",
    "from scipy.stats import pearsonr\n",
    "\n",
    "corr, _ = pearsonr(df_ch['mp_price_x'], df_ch['mp_price_y'])\n",
    "print('Pearsons correlation: %.3f' % corr)"
   ]
  },
  {
   "cell_type": "code",
   "execution_count": 63,
   "metadata": {},
   "outputs": [
    {
     "data": {
      "text/html": [
       "<div>\n",
       "<style scoped>\n",
       "    .dataframe tbody tr th:only-of-type {\n",
       "        vertical-align: middle;\n",
       "    }\n",
       "\n",
       "    .dataframe tbody tr th {\n",
       "        vertical-align: top;\n",
       "    }\n",
       "\n",
       "    .dataframe thead th {\n",
       "        text-align: right;\n",
       "    }\n",
       "</style>\n",
       "<table border=\"1\" class=\"dataframe\">\n",
       "  <thead>\n",
       "    <tr style=\"text-align: right;\">\n",
       "      <th></th>\n",
       "      <th>mp_price_x</th>\n",
       "      <th>mp_price_y</th>\n",
       "    </tr>\n",
       "    <tr>\n",
       "      <th>date</th>\n",
       "      <th></th>\n",
       "      <th></th>\n",
       "    </tr>\n",
       "  </thead>\n",
       "  <tbody>\n",
       "    <tr>\n",
       "      <td>2007-01-01</td>\n",
       "      <td>24974.0693</td>\n",
       "      <td>16825.1196</td>\n",
       "    </tr>\n",
       "    <tr>\n",
       "      <td>2007-02-01</td>\n",
       "      <td>22593.0000</td>\n",
       "      <td>13373.0000</td>\n",
       "    </tr>\n",
       "    <tr>\n",
       "      <td>2007-03-01</td>\n",
       "      <td>22807.0000</td>\n",
       "      <td>15360.0000</td>\n",
       "    </tr>\n",
       "    <tr>\n",
       "      <td>2007-04-01</td>\n",
       "      <td>18414.0000</td>\n",
       "      <td>13347.0000</td>\n",
       "    </tr>\n",
       "    <tr>\n",
       "      <td>2007-05-01</td>\n",
       "      <td>14910.0000</td>\n",
       "      <td>10784.0000</td>\n",
       "    </tr>\n",
       "  </tbody>\n",
       "</table>\n",
       "</div>"
      ],
      "text/plain": [
       "            mp_price_x  mp_price_y\n",
       "date                              \n",
       "2007-01-01  24974.0693  16825.1196\n",
       "2007-02-01  22593.0000  13373.0000\n",
       "2007-03-01  22807.0000  15360.0000\n",
       "2007-04-01  18414.0000  13347.0000\n",
       "2007-05-01  14910.0000  10784.0000"
      ]
     },
     "execution_count": 63,
     "metadata": {},
     "output_type": "execute_result"
    }
   ],
   "source": [
    "features = df_ch[['mp_price_x', 'mp_price_y']]\n",
    "features.index = df_ch['date']\n",
    "features.head()"
   ]
  },
  {
   "cell_type": "code",
   "execution_count": 64,
   "metadata": {},
   "outputs": [
    {
     "data": {
      "text/plain": [
       "array([<matplotlib.axes._subplots.AxesSubplot object at 0x0000022A383E6898>,\n",
       "       <matplotlib.axes._subplots.AxesSubplot object at 0x0000022A3840AEF0>],\n",
       "      dtype=object)"
      ]
     },
     "execution_count": 64,
     "metadata": {},
     "output_type": "execute_result"
    },
    {
     "data": {
      "image/png": "[encoded data removed]",
      "text/plain": [
       "<Figure size 576x432 with 2 Axes>"
      ]
     },
     "metadata": {},
     "output_type": "display_data"
    }
   ],
   "source": [
    "features.plot(subplots=True)"
   ]
  },
  {
   "cell_type": "code",
   "execution_count": null,
   "metadata": {},
   "outputs": [],
   "source": []
  }
 ],
 "metadata": {
  "kernelspec": {
   "display_name": "Python 3",
   "language": "python",
   "name": "python3"
  },
  "language_info": {
   "codemirror_mode": {
    "name": "ipython",
    "version": 3
   },
   "file_extension": ".py",
   "mimetype": "text/x-python",
   "name": "python",
   "nbconvert_exporter": "python",
   "pygments_lexer": "ipython3",
   "version": "3.7.3"
  }
 },
 "nbformat": 4,
 "nbformat_minor": 2
}
