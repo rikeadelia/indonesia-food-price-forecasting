{
 "cells": [
  {
   "cell_type": "code",
   "execution_count": 2,
   "metadata": {},
   "outputs": [],
   "source": [
    "import warnings\n",
    "warnings.filterwarnings(\"ignore\")\n",
    "\n",
    "import pandas as pd\n",
    "import numpy as np\n",
    "import math\n",
    "import tensorflow as tf\n",
    "import matplotlib.pyplot as plt"
   ]
  },
  {
   "cell_type": "code",
   "execution_count": 3,
   "metadata": {
    "scrolled": true
   },
   "outputs": [
    {
     "data": {
      "text/html": [
       "<div>\n",
       "<style scoped>\n",
       "    .dataframe tbody tr th:only-of-type {\n",
       "        vertical-align: middle;\n",
       "    }\n",
       "\n",
       "    .dataframe tbody tr th {\n",
       "        vertical-align: top;\n",
       "    }\n",
       "\n",
       "    .dataframe thead th {\n",
       "        text-align: right;\n",
       "    }\n",
       "</style>\n",
       "<table border=\"1\" class=\"dataframe\">\n",
       "  <thead>\n",
       "    <tr style=\"text-align: right;\">\n",
       "      <th></th>\n",
       "      <th>adm0_id</th>\n",
       "      <th>adm0_name</th>\n",
       "      <th>adm1_id</th>\n",
       "      <th>adm1_name</th>\n",
       "      <th>mkt_id</th>\n",
       "      <th>mkt_name</th>\n",
       "      <th>cm_id</th>\n",
       "      <th>cm_name</th>\n",
       "      <th>cur_id</th>\n",
       "      <th>cur_name</th>\n",
       "      <th>pt_id</th>\n",
       "      <th>pt_name</th>\n",
       "      <th>um_id</th>\n",
       "      <th>um_name</th>\n",
       "      <th>mp_price</th>\n",
       "    </tr>\n",
       "    <tr>\n",
       "      <th>month_year</th>\n",
       "      <th></th>\n",
       "      <th></th>\n",
       "      <th></th>\n",
       "      <th></th>\n",
       "      <th></th>\n",
       "      <th></th>\n",
       "      <th></th>\n",
       "      <th></th>\n",
       "      <th></th>\n",
       "      <th></th>\n",
       "      <th></th>\n",
       "      <th></th>\n",
       "      <th></th>\n",
       "      <th></th>\n",
       "      <th></th>\n",
       "    </tr>\n",
       "  </thead>\n",
       "  <tbody>\n",
       "    <tr>\n",
       "      <th>1-2007</th>\n",
       "      <td>116.0</td>\n",
       "      <td>Indonesia</td>\n",
       "      <td>0</td>\n",
       "      <td>NaN</td>\n",
       "      <td>974</td>\n",
       "      <td>National Average</td>\n",
       "      <td>52</td>\n",
       "      <td>Rice - Retail</td>\n",
       "      <td>0.0</td>\n",
       "      <td>IDR</td>\n",
       "      <td>15</td>\n",
       "      <td>Retail</td>\n",
       "      <td>5</td>\n",
       "      <td>KG</td>\n",
       "      <td>5941.9752</td>\n",
       "    </tr>\n",
       "    <tr>\n",
       "      <th>2-2007</th>\n",
       "      <td>116.0</td>\n",
       "      <td>Indonesia</td>\n",
       "      <td>0</td>\n",
       "      <td>NaN</td>\n",
       "      <td>974</td>\n",
       "      <td>National Average</td>\n",
       "      <td>52</td>\n",
       "      <td>Rice - Retail</td>\n",
       "      <td>0.0</td>\n",
       "      <td>IDR</td>\n",
       "      <td>15</td>\n",
       "      <td>Retail</td>\n",
       "      <td>5</td>\n",
       "      <td>KG</td>\n",
       "      <td>6445.0000</td>\n",
       "    </tr>\n",
       "    <tr>\n",
       "      <th>3-2007</th>\n",
       "      <td>116.0</td>\n",
       "      <td>Indonesia</td>\n",
       "      <td>0</td>\n",
       "      <td>NaN</td>\n",
       "      <td>974</td>\n",
       "      <td>National Average</td>\n",
       "      <td>52</td>\n",
       "      <td>Rice - Retail</td>\n",
       "      <td>0.0</td>\n",
       "      <td>IDR</td>\n",
       "      <td>15</td>\n",
       "      <td>Retail</td>\n",
       "      <td>5</td>\n",
       "      <td>KG</td>\n",
       "      <td>6414.0000</td>\n",
       "    </tr>\n",
       "    <tr>\n",
       "      <th>4-2007</th>\n",
       "      <td>116.0</td>\n",
       "      <td>Indonesia</td>\n",
       "      <td>0</td>\n",
       "      <td>NaN</td>\n",
       "      <td>974</td>\n",
       "      <td>National Average</td>\n",
       "      <td>52</td>\n",
       "      <td>Rice - Retail</td>\n",
       "      <td>0.0</td>\n",
       "      <td>IDR</td>\n",
       "      <td>15</td>\n",
       "      <td>Retail</td>\n",
       "      <td>5</td>\n",
       "      <td>KG</td>\n",
       "      <td>6083.0000</td>\n",
       "    </tr>\n",
       "    <tr>\n",
       "      <th>5-2007</th>\n",
       "      <td>116.0</td>\n",
       "      <td>Indonesia</td>\n",
       "      <td>0</td>\n",
       "      <td>NaN</td>\n",
       "      <td>974</td>\n",
       "      <td>National Average</td>\n",
       "      <td>52</td>\n",
       "      <td>Rice - Retail</td>\n",
       "      <td>0.0</td>\n",
       "      <td>IDR</td>\n",
       "      <td>15</td>\n",
       "      <td>Retail</td>\n",
       "      <td>5</td>\n",
       "      <td>KG</td>\n",
       "      <td>5955.0000</td>\n",
       "    </tr>\n",
       "    <tr>\n",
       "      <th>...</th>\n",
       "      <td>...</td>\n",
       "      <td>...</td>\n",
       "      <td>...</td>\n",
       "      <td>...</td>\n",
       "      <td>...</td>\n",
       "      <td>...</td>\n",
       "      <td>...</td>\n",
       "      <td>...</td>\n",
       "      <td>...</td>\n",
       "      <td>...</td>\n",
       "      <td>...</td>\n",
       "      <td>...</td>\n",
       "      <td>...</td>\n",
       "      <td>...</td>\n",
       "      <td>...</td>\n",
       "    </tr>\n",
       "    <tr>\n",
       "      <th>8-2019</th>\n",
       "      <td>116.0</td>\n",
       "      <td>Indonesia</td>\n",
       "      <td>0</td>\n",
       "      <td>NaN</td>\n",
       "      <td>974</td>\n",
       "      <td>National Average</td>\n",
       "      <td>604</td>\n",
       "      <td>Chili (bird’s eye)   - Retail</td>\n",
       "      <td>0.0</td>\n",
       "      <td>IDR</td>\n",
       "      <td>15</td>\n",
       "      <td>Retail</td>\n",
       "      <td>5</td>\n",
       "      <td>KG</td>\n",
       "      <td>79087.0000</td>\n",
       "    </tr>\n",
       "    <tr>\n",
       "      <th>9-2019</th>\n",
       "      <td>116.0</td>\n",
       "      <td>Indonesia</td>\n",
       "      <td>0</td>\n",
       "      <td>NaN</td>\n",
       "      <td>974</td>\n",
       "      <td>National Average</td>\n",
       "      <td>604</td>\n",
       "      <td>Chili (bird’s eye)   - Retail</td>\n",
       "      <td>0.0</td>\n",
       "      <td>IDR</td>\n",
       "      <td>15</td>\n",
       "      <td>Retail</td>\n",
       "      <td>5</td>\n",
       "      <td>KG</td>\n",
       "      <td>68481.0000</td>\n",
       "    </tr>\n",
       "    <tr>\n",
       "      <th>10-2019</th>\n",
       "      <td>116.0</td>\n",
       "      <td>Indonesia</td>\n",
       "      <td>0</td>\n",
       "      <td>NaN</td>\n",
       "      <td>974</td>\n",
       "      <td>National Average</td>\n",
       "      <td>604</td>\n",
       "      <td>Chili (bird’s eye)   - Retail</td>\n",
       "      <td>0.0</td>\n",
       "      <td>IDR</td>\n",
       "      <td>15</td>\n",
       "      <td>Retail</td>\n",
       "      <td>5</td>\n",
       "      <td>KG</td>\n",
       "      <td>62181.0000</td>\n",
       "    </tr>\n",
       "    <tr>\n",
       "      <th>11-2019</th>\n",
       "      <td>116.0</td>\n",
       "      <td>Indonesia</td>\n",
       "      <td>0</td>\n",
       "      <td>NaN</td>\n",
       "      <td>974</td>\n",
       "      <td>National Average</td>\n",
       "      <td>604</td>\n",
       "      <td>Chili (bird’s eye)   - Retail</td>\n",
       "      <td>0.0</td>\n",
       "      <td>IDR</td>\n",
       "      <td>15</td>\n",
       "      <td>Retail</td>\n",
       "      <td>5</td>\n",
       "      <td>KG</td>\n",
       "      <td>57536.0000</td>\n",
       "    </tr>\n",
       "    <tr>\n",
       "      <th>12-2019</th>\n",
       "      <td>116.0</td>\n",
       "      <td>Indonesia</td>\n",
       "      <td>0</td>\n",
       "      <td>NaN</td>\n",
       "      <td>974</td>\n",
       "      <td>National Average</td>\n",
       "      <td>604</td>\n",
       "      <td>Chili (bird’s eye)   - Retail</td>\n",
       "      <td>0.0</td>\n",
       "      <td>IDR</td>\n",
       "      <td>15</td>\n",
       "      <td>Retail</td>\n",
       "      <td>5</td>\n",
       "      <td>KG</td>\n",
       "      <td>51892.0000</td>\n",
       "    </tr>\n",
       "  </tbody>\n",
       "</table>\n",
       "<p>1633 rows × 15 columns</p>\n",
       "</div>"
      ],
      "text/plain": [
       "            adm0_id  adm0_name  adm1_id  adm1_name  mkt_id          mkt_name  \\\n",
       "month_year                                                                     \n",
       "1-2007        116.0  Indonesia        0        NaN     974  National Average   \n",
       "2-2007        116.0  Indonesia        0        NaN     974  National Average   \n",
       "3-2007        116.0  Indonesia        0        NaN     974  National Average   \n",
       "4-2007        116.0  Indonesia        0        NaN     974  National Average   \n",
       "5-2007        116.0  Indonesia        0        NaN     974  National Average   \n",
       "...             ...        ...      ...        ...     ...               ...   \n",
       "8-2019        116.0  Indonesia        0        NaN     974  National Average   \n",
       "9-2019        116.0  Indonesia        0        NaN     974  National Average   \n",
       "10-2019       116.0  Indonesia        0        NaN     974  National Average   \n",
       "11-2019       116.0  Indonesia        0        NaN     974  National Average   \n",
       "12-2019       116.0  Indonesia        0        NaN     974  National Average   \n",
       "\n",
       "            cm_id                        cm_name  cur_id cur_name  pt_id  \\\n",
       "month_year                                                                 \n",
       "1-2007         52                  Rice - Retail     0.0      IDR     15   \n",
       "2-2007         52                  Rice - Retail     0.0      IDR     15   \n",
       "3-2007         52                  Rice - Retail     0.0      IDR     15   \n",
       "4-2007         52                  Rice - Retail     0.0      IDR     15   \n",
       "5-2007         52                  Rice - Retail     0.0      IDR     15   \n",
       "...           ...                            ...     ...      ...    ...   \n",
       "8-2019        604  Chili (bird’s eye)   - Retail     0.0      IDR     15   \n",
       "9-2019        604  Chili (bird’s eye)   - Retail     0.0      IDR     15   \n",
       "10-2019       604  Chili (bird’s eye)   - Retail     0.0      IDR     15   \n",
       "11-2019       604  Chili (bird’s eye)   - Retail     0.0      IDR     15   \n",
       "12-2019       604  Chili (bird’s eye)   - Retail     0.0      IDR     15   \n",
       "\n",
       "           pt_name  um_id um_name    mp_price  \n",
       "month_year                                     \n",
       "1-2007      Retail      5      KG   5941.9752  \n",
       "2-2007      Retail      5      KG   6445.0000  \n",
       "3-2007      Retail      5      KG   6414.0000  \n",
       "4-2007      Retail      5      KG   6083.0000  \n",
       "5-2007      Retail      5      KG   5955.0000  \n",
       "...            ...    ...     ...         ...  \n",
       "8-2019      Retail      5      KG  79087.0000  \n",
       "9-2019      Retail      5      KG  68481.0000  \n",
       "10-2019     Retail      5      KG  62181.0000  \n",
       "11-2019     Retail      5      KG  57536.0000  \n",
       "12-2019     Retail      5      KG  51892.0000  \n",
       "\n",
       "[1633 rows x 15 columns]"
      ]
     },
     "execution_count": 3,
     "metadata": {},
     "output_type": "execute_result"
    }
   ],
   "source": [
    "df = pd.read_csv(\"foodprices_indonesia.csv\", index_col=\"month_year\")\n",
    "df"
   ]
  },
  {
   "cell_type": "code",
   "execution_count": 4,
   "metadata": {},
   "outputs": [],
   "source": [
    "def drop_unused_row_column(df, com_name, is_univariate=True):\n",
    "    df = df[df[\"cm_name\"].str.contains(com_name)]\n",
    "    df = df.drop(columns=[\"adm0_id\", \"adm0_name\", \"adm1_id\", \"adm1_name\",\n",
    "                          \"mkt_id\", \"mkt_name\", \"cm_id\", \"cur_id\", \"cur_name\", \n",
    "                          \"pt_id\", \"pt_name\", \"um_id\", \"um_name\"], axis=1)\n",
    "    if is_univariate:\n",
    "        df = df.drop(\"cm_name\", axis=1)\n",
    "    \n",
    "    return df"
   ]
  },
  {
   "cell_type": "code",
   "execution_count": 5,
   "metadata": {},
   "outputs": [],
   "source": [
    "def split_data(data, train_all_bound, history_size, train_val_bound=None):\n",
    "    data_train = []\n",
    "    labels_train = []\n",
    "    data_test = []\n",
    "    labels_test = []\n",
    "    start_train = history_size\n",
    "    if train_val_bound is not None:\n",
    "        data_val = []\n",
    "        labels_val = []\n",
    "        end_train = train_val_bound\n",
    "        start_val = train_val_bound\n",
    "        end_val = train_all_bound\n",
    "    else:\n",
    "        end_train = train_all_bound\n",
    "    start_test = train_all_bound\n",
    "    end_test = len(data)\n",
    "    \n",
    "    for i in range(start_train, end_train):\n",
    "        indices = range(i-history_size, i)\n",
    "        # Reshape data from (history_size,) to (history_size, 1)\n",
    "        data_train.append(np.reshape(data[indices], (history_size, 1)))\n",
    "        labels_train.append(data[i])\n",
    "    \n",
    "    if train_val_bound is not None:\n",
    "        for i in range(start_val, end_val):\n",
    "            indices = range(i-history_size, i)\n",
    "            # Reshape data from (history_size,) to (history_size, 1)\n",
    "            data_val.append(np.reshape(data[indices], (history_size, 1)))\n",
    "            labels_val.append(data[i])\n",
    "        \n",
    "    for i in range(start_test, end_test):\n",
    "        indices = range(i-history_size, i)\n",
    "        # Reshape data from (history_size,) to (history_size, 1)\n",
    "        data_test.append(np.reshape(data[indices], (history_size, 1)))\n",
    "        labels_test.append(data[i])\n",
    "    \n",
    "    if train_val_bound is not None:\n",
    "        return (np.array(data_train), np.array(labels_train), \n",
    "    np.array(data_val), np.array(labels_val), \n",
    "    np.array(data_test), np.array(labels_test))\n",
    "    else:\n",
    "        return np.array(data_train), np.array(labels_train), np.array(data_test), np.array(labels_test)"
   ]
  },
  {
   "cell_type": "code",
   "execution_count": 6,
   "metadata": {},
   "outputs": [],
   "source": [
    "def create_model(unit, input_shape, kernel_regularizer=None):\n",
    "    model = tf.keras.models.Sequential([\n",
    "        tf.keras.layers.LSTM(unit, input_shape=input_shape, kernel_regularizer=kernel_regularizer),\n",
    "        tf.keras.layers.Dense(1)\n",
    "    ])\n",
    "    \n",
    "    model.summary()\n",
    "    \n",
    "    return model"
   ]
  },
  {
   "cell_type": "code",
   "execution_count": 7,
   "metadata": {},
   "outputs": [],
   "source": [
    "def plot_model_result(history):\n",
    "    plt.figure(figsize=(10,10))\n",
    "    \n",
    "    # summarize history for loss\n",
    "    plt.plot(history.history['loss'])\n",
    "    plt.plot(history.history['val_loss'])\n",
    "    plt.title('model loss')\n",
    "    plt.ylabel('loss')\n",
    "    plt.xlabel('epoch')\n",
    "    plt.legend(['train', 'val'], loc='upper left')\n",
    "    plt.show()"
   ]
  },
  {
   "cell_type": "code",
   "execution_count": 43,
   "metadata": {},
   "outputs": [],
   "source": [
    "def show_plot(plot_data, delta, title):\n",
    "    labels = ['History', 'True Future', 'Model Prediction']\n",
    "    marker = ['.-', 'rx', 'go']\n",
    "    time_steps = list(range(-plot_data[0].shape[0], 0))\n",
    "    if delta:\n",
    "        future = delta\n",
    "    else:\n",
    "        future = 0\n",
    "\n",
    "    plt.title(title)\n",
    "    for i, x in enumerate(plot_data):\n",
    "        if i:\n",
    "            plt.plot(future, plot_data[i], marker[i], markersize=10,\n",
    "                   label=labels[i])\n",
    "        else:\n",
    "            plt.plot(time_steps, plot_data[i].flatten(), marker[i], label=labels[i])\n",
    "    plt.legend()\n",
    "    plt.xlim([time_steps[0], (future+1)])\n",
    "    plt.xlabel('Time-Step')\n",
    "    return plt"
   ]
  },
  {
   "cell_type": "markdown",
   "metadata": {},
   "source": [
    "## Train the forecasting model with Chili (Red) data"
   ]
  },
  {
   "cell_type": "markdown",
   "metadata": {},
   "source": [
    "select only the \"Chili (red)\" data"
   ]
  },
  {
   "cell_type": "code",
   "execution_count": 8,
   "metadata": {},
   "outputs": [
    {
     "data": {
      "text/plain": [
       "155"
      ]
     },
     "execution_count": 8,
     "metadata": {},
     "output_type": "execute_result"
    }
   ],
   "source": [
    "df_chili = drop_unused_row_column(df, \"red\")\n",
    "data = df_chili[\"mp_price\"].values\n",
    "len(data)"
   ]
  },
  {
   "cell_type": "markdown",
   "metadata": {},
   "source": [
    "define hyperparameters"
   ]
  },
  {
   "cell_type": "code",
   "execution_count": 9,
   "metadata": {},
   "outputs": [],
   "source": [
    "#hyperparameters\n",
    "TRAIN_TEST_SPLIT = math.ceil(len(data) * 0.9)\n",
    "VAL_SPLIT = math.ceil(TRAIN_TEST_SPLIT * 0.9)\n",
    "HISTORY_SIZE = 5\n",
    "BUFFER_SIZE = 1000\n",
    "BATCH_SIZE = 5\n",
    "\n",
    "UNIT_SIZE = 2\n",
    "EPOCHS = 100"
   ]
  },
  {
   "cell_type": "markdown",
   "metadata": {},
   "source": [
    "normalize prices"
   ]
  },
  {
   "cell_type": "code",
   "execution_count": 10,
   "metadata": {},
   "outputs": [],
   "source": [
    "mean_train = data[:TRAIN_TEST_SPLIT].mean()\n",
    "std_train = data[:TRAIN_TEST_SPLIT].std()\n",
    "data = (data-mean_train)/std_train"
   ]
  },
  {
   "cell_type": "markdown",
   "metadata": {},
   "source": [
    "split the data into train, validation, and test set"
   ]
  },
  {
   "cell_type": "code",
   "execution_count": 11,
   "metadata": {},
   "outputs": [],
   "source": [
    "x_train, y_train, x_val, y_val, x_test, y_test = split_data(data, TRAIN_TEST_SPLIT, HISTORY_SIZE, VAL_SPLIT)\n",
    "len(x_train), len(x_val), len(x_test)\n",
    "\n",
    "train = tf.data.Dataset.from_tensor_slices((x_train, y_train))\n",
    "train = train.cache().shuffle(BUFFER_SIZE).batch(BATCH_SIZE).repeat()\n",
    "\n",
    "val = tf.data.Dataset.from_tensor_slices((x_val, y_val))\n",
    "val = val.batch(BATCH_SIZE).repeat()\n",
    "\n",
    "test = tf.data.Dataset.from_tensor_slices((x_test, y_test))\n",
    "test = test.batch(BATCH_SIZE).repeat()"
   ]
  },
  {
   "cell_type": "markdown",
   "metadata": {},
   "source": [
    "build a forecasting model"
   ]
  },
  {
   "cell_type": "code",
   "execution_count": 20,
   "metadata": {},
   "outputs": [
    {
     "name": "stdout",
     "output_type": "stream",
     "text": [
      "Model: \"sequential_1\"\n",
      "_________________________________________________________________\n",
      "Layer (type)                 Output Shape              Param #   \n",
      "=================================================================\n",
      "lstm_1 (LSTM)                (None, 2)                 32        \n",
      "_________________________________________________________________\n",
      "dense_1 (Dense)              (None, 1)                 3         \n",
      "=================================================================\n",
      "Total params: 35\n",
      "Trainable params: 35\n",
      "Non-trainable params: 0\n",
      "_________________________________________________________________\n"
     ]
    }
   ],
   "source": [
    "chili_model = create_model(UNIT_SIZE, x_train.shape[-2:])\n",
    "#chili_model.load_weights(\"chili.h5\")\n",
    "chili_model.compile(optimizer='adam', loss='mse')"
   ]
  },
  {
   "cell_type": "markdown",
   "metadata": {},
   "source": [
    "train with defined hyperparamters"
   ]
  },
  {
   "cell_type": "code",
   "execution_count": 21,
   "metadata": {},
   "outputs": [
    {
     "name": "stdout",
     "output_type": "stream",
     "text": [
      "Epoch 1/100\n",
      "121/121 [==============================] - 5s 38ms/step - loss: 1.0912 - val_loss: 1.7824\n",
      "Epoch 2/100\n",
      "121/121 [==============================] - 2s 18ms/step - loss: 0.9978 - val_loss: 1.4868\n",
      "Epoch 3/100\n",
      "121/121 [==============================] - 2s 14ms/step - loss: 0.8081 - val_loss: 1.2067\n",
      "Epoch 4/100\n",
      "121/121 [==============================] - 2s 14ms/step - loss: 0.7899 - val_loss: 0.9749\n",
      "Epoch 5/100\n",
      "121/121 [==============================] - 2s 15ms/step - loss: 0.6686 - val_loss: 0.8089\n",
      "Epoch 6/100\n",
      "121/121 [==============================] - 2s 14ms/step - loss: 0.6130 - val_loss: 0.6610\n",
      "Epoch 7/100\n",
      "121/121 [==============================] - 2s 20ms/step - loss: 0.5667 - val_loss: 0.5698\n",
      "Epoch 8/100\n",
      "121/121 [==============================] - 3s 22ms/step - loss: 0.5308 - val_loss: 0.4878\n",
      "Epoch 9/100\n",
      "121/121 [==============================] - 2s 17ms/step - loss: 0.4608 - val_loss: 0.4314\n",
      "Epoch 10/100\n",
      "121/121 [==============================] - 2s 18ms/step - loss: 0.4695 - val_loss: 0.3691\n",
      "Epoch 11/100\n",
      "121/121 [==============================] - 2s 15ms/step - loss: 0.3846 - val_loss: 0.3315\n",
      "Epoch 12/100\n",
      "121/121 [==============================] - 2s 17ms/step - loss: 0.4449 - val_loss: 0.2852\n",
      "Epoch 13/100\n",
      "121/121 [==============================] - 2s 15ms/step - loss: 0.3694 - val_loss: 0.2650\n",
      "Epoch 14/100\n",
      "121/121 [==============================] - 2s 15ms/step - loss: 0.3445 - val_loss: 0.2488\n",
      "Epoch 15/100\n",
      "121/121 [==============================] - 2s 16ms/step - loss: 0.3502 - val_loss: 0.2287\n",
      "Epoch 16/100\n",
      "121/121 [==============================] - 2s 15ms/step - loss: 0.3281 - val_loss: 0.2167\n",
      "Epoch 17/100\n",
      "121/121 [==============================] - 2s 16ms/step - loss: 0.3519 - val_loss: 0.1912\n",
      "Epoch 18/100\n",
      "121/121 [==============================] - 2s 16ms/step - loss: 0.3447 - val_loss: 0.1783\n",
      "Epoch 19/100\n",
      "121/121 [==============================] - 2s 15ms/step - loss: 0.3049 - val_loss: 0.1772\n",
      "Epoch 20/100\n",
      "121/121 [==============================] - 2s 15ms/step - loss: 0.2904 - val_loss: 0.1686\n",
      "Epoch 21/100\n",
      "121/121 [==============================] - 2s 15ms/step - loss: 0.2921 - val_loss: 0.1637\n",
      "Epoch 22/100\n",
      "121/121 [==============================] - 2s 15ms/step - loss: 0.3055 - val_loss: 0.1595\n",
      "Epoch 23/100\n",
      "121/121 [==============================] - 2s 18ms/step - loss: 0.2852 - val_loss: 0.1444\n",
      "Epoch 24/100\n",
      "121/121 [==============================] - 2s 15ms/step - loss: 0.2828 - val_loss: 0.1379\n",
      "Epoch 25/100\n",
      "121/121 [==============================] - 2s 17ms/step - loss: 0.3052 - val_loss: 0.1439\n",
      "Epoch 26/100\n",
      "121/121 [==============================] - 2s 20ms/step - loss: 0.2705 - val_loss: 0.1359\n",
      "Epoch 27/100\n",
      "121/121 [==============================] - 2s 17ms/step - loss: 0.2744 - val_loss: 0.1249\n",
      "Epoch 28/100\n",
      "121/121 [==============================] - 2s 14ms/step - loss: 0.2659 - val_loss: 0.1175\n",
      "Epoch 29/100\n",
      "121/121 [==============================] - 2s 19ms/step - loss: 0.2685 - val_loss: 0.1172\n",
      "Epoch 30/100\n",
      "121/121 [==============================] - 2s 20ms/step - loss: 0.2600 - val_loss: 0.1145\n",
      "Epoch 31/100\n",
      "121/121 [==============================] - 2s 16ms/step - loss: 0.2643 - val_loss: 0.1149\n",
      "Epoch 32/100\n",
      "121/121 [==============================] - 2s 18ms/step - loss: 0.2650 - val_loss: 0.1094\n",
      "Epoch 33/100\n",
      "121/121 [==============================] - 2s 19ms/step - loss: 0.2640 - val_loss: 0.1059\n",
      "Epoch 34/100\n",
      "121/121 [==============================] - 2s 17ms/step - loss: 0.2605 - val_loss: 0.0999\n",
      "Epoch 35/100\n",
      "121/121 [==============================] - 3s 24ms/step - loss: 0.2538 - val_loss: 0.0965\n",
      "Epoch 36/100\n",
      "121/121 [==============================] - 3s 25ms/step - loss: 0.2677 - val_loss: 0.0958\n",
      "Epoch 37/100\n",
      "121/121 [==============================] - 3s 23ms/step - loss: 0.2409 - val_loss: 0.0986\n",
      "Epoch 38/100\n",
      "121/121 [==============================] - 3s 23ms/step - loss: 0.2553 - val_loss: 0.1003\n",
      "Epoch 39/100\n",
      "121/121 [==============================] - 2s 18ms/step - loss: 0.2554 - val_loss: 0.0970\n",
      "Epoch 40/100\n",
      "121/121 [==============================] - 3s 22ms/step - loss: 0.2566 - val_loss: 0.0907\n",
      "Epoch 41/100\n",
      "121/121 [==============================] - 3s 22ms/step - loss: 0.2647 - val_loss: 0.1000\n",
      "Epoch 42/100\n",
      "121/121 [==============================] - 2s 19ms/step - loss: 0.2394 - val_loss: 0.1014\n",
      "Epoch 43/100\n",
      "121/121 [==============================] - 3s 22ms/step - loss: 0.2598 - val_loss: 0.1015\n",
      "Epoch 44/100\n",
      "121/121 [==============================] - 3s 22ms/step - loss: 0.2606 - val_loss: 0.0943\n",
      "Epoch 45/100\n",
      "121/121 [==============================] - 2s 20ms/step - loss: 0.2395 - val_loss: 0.0972\n",
      "Epoch 46/100\n",
      "121/121 [==============================] - 2s 19ms/step - loss: 0.2675 - val_loss: 0.0983\n",
      "Epoch 47/100\n",
      "121/121 [==============================] - 2s 15ms/step - loss: 0.2375 - val_loss: 0.1004\n",
      "Epoch 48/100\n",
      "121/121 [==============================] - 2s 15ms/step - loss: 0.2482 - val_loss: 0.1027\n",
      "Epoch 49/100\n",
      "121/121 [==============================] - 2s 16ms/step - loss: 0.2428 - val_loss: 0.0943\n",
      "Epoch 50/100\n",
      "121/121 [==============================] - 2s 15ms/step - loss: 0.2530 - val_loss: 0.0983\n",
      "Epoch 51/100\n",
      "121/121 [==============================] - 2s 14ms/step - loss: 0.2441 - val_loss: 0.0913\n",
      "Epoch 52/100\n",
      "121/121 [==============================] - 2s 17ms/step - loss: 0.2429 - val_loss: 0.0950\n",
      "Epoch 53/100\n",
      "121/121 [==============================] - 2s 18ms/step - loss: 0.2354 - val_loss: 0.0915\n",
      "Epoch 54/100\n",
      "121/121 [==============================] - 2s 20ms/step - loss: 0.2378 - val_loss: 0.0922\n",
      "Epoch 55/100\n",
      "121/121 [==============================] - 2s 16ms/step - loss: 0.2466 - val_loss: 0.0963\n",
      "Epoch 56/100\n",
      "121/121 [==============================] - 2s 16ms/step - loss: 0.2418 - val_loss: 0.0913\n",
      "Epoch 57/100\n",
      "121/121 [==============================] - 2s 17ms/step - loss: 0.2361 - val_loss: 0.0908\n",
      "Epoch 58/100\n",
      "121/121 [==============================] - 2s 16ms/step - loss: 0.2573 - val_loss: 0.0875\n",
      "Epoch 59/100\n",
      "121/121 [==============================] - 2s 18ms/step - loss: 0.2338 - val_loss: 0.0917\n",
      "Epoch 60/100\n",
      "121/121 [==============================] - 2s 15ms/step - loss: 0.2371 - val_loss: 0.0875\n",
      "Epoch 61/100\n",
      "121/121 [==============================] - 2s 17ms/step - loss: 0.2435 - val_loss: 0.0871\n",
      "Epoch 62/100\n",
      "121/121 [==============================] - 2s 16ms/step - loss: 0.2371 - val_loss: 0.0865\n",
      "Epoch 63/100\n",
      "121/121 [==============================] - 3s 24ms/step - loss: 0.2351 - val_loss: 0.0868\n",
      "Epoch 64/100\n",
      "121/121 [==============================] - 3s 22ms/step - loss: 0.2643 - val_loss: 0.0953\n",
      "Epoch 65/100\n",
      "121/121 [==============================] - 3s 22ms/step - loss: 0.2455 - val_loss: 0.1003\n",
      "Epoch 66/100\n",
      "121/121 [==============================] - 2s 20ms/step - loss: 0.2356 - val_loss: 0.0979\n",
      "Epoch 67/100\n",
      "121/121 [==============================] - 2s 19ms/step - loss: 0.2435 - val_loss: 0.0934\n",
      "Epoch 68/100\n",
      "121/121 [==============================] - 2s 18ms/step - loss: 0.2432 - val_loss: 0.1047\n",
      "Epoch 69/100\n",
      "121/121 [==============================] - 3s 21ms/step - loss: 0.2424 - val_loss: 0.0986\n",
      "Epoch 70/100\n",
      "121/121 [==============================] - 2s 20ms/step - loss: 0.2286 - val_loss: 0.0909\n",
      "Epoch 71/100\n",
      "121/121 [==============================] - 2s 18ms/step - loss: 0.2439 - val_loss: 0.0940\n",
      "Epoch 72/100\n",
      "121/121 [==============================] - 2s 19ms/step - loss: 0.2277 - val_loss: 0.0991\n",
      "Epoch 73/100\n",
      "121/121 [==============================] - 2s 15ms/step - loss: 0.2434 - val_loss: 0.0990\n",
      "Epoch 74/100\n",
      "121/121 [==============================] - 2s 19ms/step - loss: 0.2291 - val_loss: 0.0942\n",
      "Epoch 75/100\n",
      "121/121 [==============================] - 2s 19ms/step - loss: 0.2370 - val_loss: 0.0946\n",
      "Epoch 76/100\n",
      "121/121 [==============================] - 3s 28ms/step - loss: 0.2336 - val_loss: 0.0924\n",
      "Epoch 77/100\n",
      "121/121 [==============================] - 3s 24ms/step - loss: 0.2498 - val_loss: 0.0933\n",
      "Epoch 78/100\n",
      "121/121 [==============================] - 3s 21ms/step - loss: 0.2318 - val_loss: 0.0969\n",
      "Epoch 79/100\n",
      "121/121 [==============================] - 2s 20ms/step - loss: 0.2302 - val_loss: 0.0965\n",
      "Epoch 80/100\n"
     ]
    },
    {
     "name": "stdout",
     "output_type": "stream",
     "text": [
      "121/121 [==============================] - 2s 20ms/step - loss: 0.2272 - val_loss: 0.0965\n",
      "Epoch 81/100\n",
      "121/121 [==============================] - 3s 21ms/step - loss: 0.2329 - val_loss: 0.1006\n",
      "Epoch 82/100\n",
      "121/121 [==============================] - 3s 25ms/step - loss: 0.2341 - val_loss: 0.0901\n",
      "Epoch 83/100\n",
      "121/121 [==============================] - 3s 26ms/step - loss: 0.2413 - val_loss: 0.0916\n",
      "Epoch 84/100\n",
      "121/121 [==============================] - 3s 21ms/step - loss: 0.2230 - val_loss: 0.0955\n",
      "Epoch 85/100\n",
      "121/121 [==============================] - 2s 14ms/step - loss: 0.2245 - val_loss: 0.0928\n",
      "Epoch 86/100\n",
      "121/121 [==============================] - 2s 13ms/step - loss: 0.2253 - val_loss: 0.0897\n",
      "Epoch 87/100\n",
      "121/121 [==============================] - 2s 21ms/step - loss: 0.2418 - val_loss: 0.0914\n",
      "Epoch 88/100\n",
      "121/121 [==============================] - 2s 17ms/step - loss: 0.2210 - val_loss: 0.0884\n",
      "Epoch 89/100\n",
      "121/121 [==============================] - 2s 15ms/step - loss: 0.2207 - val_loss: 0.0844\n",
      "Epoch 90/100\n",
      "121/121 [==============================] - 2s 17ms/step - loss: 0.2251 - val_loss: 0.0857\n",
      "Epoch 91/100\n",
      "121/121 [==============================] - 2s 15ms/step - loss: 0.2186 - val_loss: 0.0839\n",
      "Epoch 92/100\n",
      "121/121 [==============================] - 2s 15ms/step - loss: 0.2303 - val_loss: 0.0830\n",
      "Epoch 93/100\n",
      "121/121 [==============================] - 2s 17ms/step - loss: 0.2253 - val_loss: 0.0878\n",
      "Epoch 94/100\n",
      "121/121 [==============================] - 2s 13ms/step - loss: 0.2348 - val_loss: 0.0792\n",
      "Epoch 95/100\n",
      "121/121 [==============================] - 2s 14ms/step - loss: 0.2212 - val_loss: 0.0825\n",
      "Epoch 96/100\n",
      "121/121 [==============================] - 2s 15ms/step - loss: 0.2200 - val_loss: 0.0811\n",
      "Epoch 97/100\n",
      "121/121 [==============================] - 2s 16ms/step - loss: 0.2209 - val_loss: 0.0780\n",
      "Epoch 98/100\n",
      "121/121 [==============================] - 2s 15ms/step - loss: 0.2232 - val_loss: 0.0742\n",
      "Epoch 99/100\n",
      "121/121 [==============================] - 2s 15ms/step - loss: 0.2235 - val_loss: 0.0805\n",
      "Epoch 100/100\n",
      "121/121 [==============================] - 2s 20ms/step - loss: 0.2181 - val_loss: 0.0818\n"
     ]
    }
   ],
   "source": [
    "history = chili_model.fit(train, epochs=EPOCHS, steps_per_epoch=len(x_train), \n",
    "                validation_data=val, validation_steps=len(x_train))"
   ]
  },
  {
   "cell_type": "code",
   "execution_count": 22,
   "metadata": {},
   "outputs": [
    {
     "data": {
      "image/png": "[encoded data removed]",
      "text/plain": [
       "<Figure size 720x720 with 1 Axes>"
      ]
     },
     "metadata": {
      "needs_background": "light"
     },
     "output_type": "display_data"
    }
   ],
   "source": [
    "plot_model_result(history)"
   ]
  },
  {
   "cell_type": "markdown",
   "metadata": {},
   "source": [
    "evaluate the trained model with test set"
   ]
  },
  {
   "cell_type": "code",
   "execution_count": 23,
   "metadata": {},
   "outputs": [
    {
     "name": "stdout",
     "output_type": "stream",
     "text": [
      "15/15 [==============================] - 0s 29ms/sample - loss: 0.7851\n"
     ]
    }
   ],
   "source": [
    "results = chili_model.evaluate(x_test, y_test, batch_size=5)"
   ]
  },
  {
   "cell_type": "code",
   "execution_count": 44,
   "metadata": {},
   "outputs": [
    {
     "data": {
      "text/plain": [
       "<module 'matplotlib.pyplot' from '/home/rike/.local/lib/python3.6/site-packages/matplotlib/pyplot.py'>"
      ]
     },
     "execution_count": 44,
     "metadata": {},
     "output_type": "execute_result"
    },
    {
     "data": {
      "image/png": "[encoded data removed]",
      "text/plain": [
       "<Figure size 432x288 with 1 Axes>"
      ]
     },
     "metadata": {
      "needs_background": "light"
     },
     "output_type": "display_data"
    }
   ],
   "source": [
    "show_plot([x_test[0], y_test[0], chili_model.predict(np.reshape(x_test[0], (1, x_test[0].shape[0], x_test[0].shape[1])))], 0, \"Result Plot\")"
   ]
  },
  {
   "cell_type": "markdown",
   "metadata": {},
   "source": [
    "save the trained model weights into a h5 file so it can be loaded later (no need to re-train)"
   ]
  },
  {
   "cell_type": "code",
   "execution_count": 24,
   "metadata": {},
   "outputs": [],
   "source": [
    "chili_model.save_weights(\"chili.h5\")"
   ]
  },
  {
   "cell_type": "markdown",
   "metadata": {},
   "source": [
    "## Try to predict Chili (bird's eye) price using Chili (red) forecasting model"
   ]
  },
  {
   "cell_type": "code",
   "execution_count": 25,
   "metadata": {},
   "outputs": [
    {
     "data": {
      "text/plain": [
       "155"
      ]
     },
     "execution_count": 25,
     "metadata": {},
     "output_type": "execute_result"
    }
   ],
   "source": [
    "df_chili_bird = drop_unused_row_column(df, \"bird\")\n",
    "#Chili (bird’s eye) - Retail\n",
    "data_bird = df_chili_bird[\"mp_price\"].values / 1000\n",
    "len(data_bird)"
   ]
  },
  {
   "cell_type": "code",
   "execution_count": 26,
   "metadata": {},
   "outputs": [],
   "source": [
    "x, y, _, _ = split_data(data, len(data_bird), HISTORY_SIZE)\n",
    "\n",
    "# test_bird = tf.data.Dataset.from_tensor_slices((x, y))\n",
    "# test_bird = test_bird.cache().shuffle(BUFFER_SIZE).batch(BATCH_SIZE).repeat()"
   ]
  },
  {
   "cell_type": "code",
   "execution_count": 45,
   "metadata": {},
   "outputs": [
    {
     "name": "stdout",
     "output_type": "stream",
     "text": [
      "150/150 [==============================] - 0s 1ms/sample - loss: 0.2655\n"
     ]
    }
   ],
   "source": [
    "chili_model.evaluate(x, y, batch_size=5)"
   ]
  },
  {
   "cell_type": "markdown",
   "metadata": {},
   "source": [
    "plot chili bird's eye predicted price and real price"
   ]
  },
  {
   "cell_type": "code",
   "execution_count": 65,
   "metadata": {},
   "outputs": [
    {
     "data": {
      "image/png": "[encoded data removed]",
      "text/plain": [
       "<Figure size 576x576 with 1 Axes>"
      ]
     },
     "metadata": {
      "needs_background": "light"
     },
     "output_type": "display_data"
    }
   ],
   "source": [
    "preds = chili_model.predict(x, batch_size=5)\n",
    "\n",
    "plt.figure(figsize=(8,8))\n",
    "plt.plot(list(range(0, y.shape[0])), y.flatten())\n",
    "plt.plot(list(range(0, preds.shape[0])), preds.flatten())\n",
    "plt.xlabel('data count')\n",
    "plt.ylabel('price')\n",
    "plt.title(\"Chili bird's eye result\")\n",
    "plt.legend(['real price', 'predicted price'], loc='upper left')\n",
    "plt.show()"
   ]
  },
  {
   "cell_type": "code",
   "execution_count": null,
   "metadata": {},
   "outputs": [],
   "source": []
  }
 ],
 "metadata": {
  "kernelspec": {
   "display_name": "Python 3",
   "language": "python",
   "name": "python3"
  },
  "language_info": {
   "codemirror_mode": {
    "name": "ipython",
    "version": 3
   },
   "file_extension": ".py",
   "mimetype": "text/x-python",
   "name": "python",
   "nbconvert_exporter": "python",
   "pygments_lexer": "ipython3",
   "version": "3.6.9"
  }
 },
 "nbformat": 4,
 "nbformat_minor": 2
}
