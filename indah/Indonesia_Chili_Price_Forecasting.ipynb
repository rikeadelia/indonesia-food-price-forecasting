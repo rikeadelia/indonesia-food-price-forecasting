{
  "nbformat": 4,
  "nbformat_minor": 0,
  "metadata": {
    "colab": {
      "name": "Learn",
      "provenance": [],
      "collapsed_sections": [],
      "toc_visible": true
    },
    "kernelspec": {
      "name": "python3",
      "display_name": "Python 3"
    }
  },
  "cells": [
    {
      "cell_type": "markdown",
      "metadata": {
        "id": "6sXqmEzV7BHI",
        "colab_type": "text"
      },
      "source": [
        "# Indonesia Chili Prices Forecasting"
      ]
    },
    {
      "cell_type": "markdown",
      "metadata": {
        "id": "6NVpciSn7KoC",
        "colab_type": "text"
      },
      "source": [
        "## Global Data Prices Preview"
      ]
    },
    {
      "cell_type": "code",
      "metadata": {
        "id": "-yVWFx75_b2t",
        "colab_type": "code",
        "outputId": "b80ce289-99df-4dbd-e6ec-d4a8aaf64b56",
        "colab": {
          "base_uri": "https://localhost:8080/",
          "height": 34
        }
      },
      "source": [
        "from google.colab import  drive\n",
        "drive.mount('/content/drive')"
      ],
      "execution_count": 1,
      "outputs": [
        {
          "output_type": "stream",
          "text": [
            "Drive already mounted at /content/drive; to attempt to forcibly remount, call drive.mount(\"/content/drive\", force_remount=True).\n"
          ],
          "name": "stdout"
        }
      ]
    },
    {
      "cell_type": "code",
      "metadata": {
        "id": "YzTNt8DUXNPt",
        "colab_type": "code",
        "colab": {}
      },
      "source": [
        "%tensorflow_version 2.x"
      ],
      "execution_count": 0,
      "outputs": []
    },
    {
      "cell_type": "code",
      "metadata": {
        "id": "h3W8eB-d_1Wr",
        "colab_type": "code",
        "colab": {}
      },
      "source": [
        "import tensorflow as tf\n",
        "import numpy as np\n",
        "import os\n",
        "import pandas as pd"
      ],
      "execution_count": 0,
      "outputs": []
    },
    {
      "cell_type": "code",
      "metadata": {
        "id": "tGb5psBF_4Zi",
        "colab_type": "code",
        "outputId": "02a11131-3961-4367-d1ea-d114b479575e",
        "colab": {
          "base_uri": "https://localhost:8080/",
          "height": 238
        }
      },
      "source": [
        "data = pd.read_csv(\"/content/drive/My Drive/wfpvam_foodprices (1).csv\")\n",
        "data.head()"
      ],
      "execution_count": 60,
      "outputs": [
        {
          "output_type": "stream",
          "text": [
            "/usr/local/lib/python3.6/dist-packages/IPython/core/interactiveshell.py:2718: DtypeWarning: Columns (3) have mixed types.Specify dtype option on import or set low_memory=False.\n",
            "  interactivity=interactivity, compiler=compiler, result=result)\n"
          ],
          "name": "stderr"
        },
        {
          "output_type": "execute_result",
          "data": {
            "text/html": [
              "<div>\n",
              "<style scoped>\n",
              "    .dataframe tbody tr th:only-of-type {\n",
              "        vertical-align: middle;\n",
              "    }\n",
              "\n",
              "    .dataframe tbody tr th {\n",
              "        vertical-align: top;\n",
              "    }\n",
              "\n",
              "    .dataframe thead th {\n",
              "        text-align: right;\n",
              "    }\n",
              "</style>\n",
              "<table border=\"1\" class=\"dataframe\">\n",
              "  <thead>\n",
              "    <tr style=\"text-align: right;\">\n",
              "      <th></th>\n",
              "      <th>adm0_id</th>\n",
              "      <th>adm0_name</th>\n",
              "      <th>adm1_id</th>\n",
              "      <th>adm1_name</th>\n",
              "      <th>mkt_id</th>\n",
              "      <th>mkt_name</th>\n",
              "      <th>cm_id</th>\n",
              "      <th>cm_name</th>\n",
              "      <th>cur_id</th>\n",
              "      <th>cur_name</th>\n",
              "      <th>pt_id</th>\n",
              "      <th>pt_name</th>\n",
              "      <th>um_id</th>\n",
              "      <th>um_name</th>\n",
              "      <th>mp_month</th>\n",
              "      <th>mp_year</th>\n",
              "      <th>mp_price</th>\n",
              "      <th>mp_commoditysource</th>\n",
              "    </tr>\n",
              "  </thead>\n",
              "  <tbody>\n",
              "    <tr>\n",
              "      <th>0</th>\n",
              "      <td>1.0</td>\n",
              "      <td>Afghanistan</td>\n",
              "      <td>272</td>\n",
              "      <td>Badakhshan</td>\n",
              "      <td>266</td>\n",
              "      <td>Fayzabad</td>\n",
              "      <td>55</td>\n",
              "      <td>Bread - Retail</td>\n",
              "      <td>0.0</td>\n",
              "      <td>AFN</td>\n",
              "      <td>15</td>\n",
              "      <td>Retail</td>\n",
              "      <td>5</td>\n",
              "      <td>KG</td>\n",
              "      <td>1</td>\n",
              "      <td>2014</td>\n",
              "      <td>50.0</td>\n",
              "      <td>NaN</td>\n",
              "    </tr>\n",
              "    <tr>\n",
              "      <th>1</th>\n",
              "      <td>1.0</td>\n",
              "      <td>Afghanistan</td>\n",
              "      <td>272</td>\n",
              "      <td>Badakhshan</td>\n",
              "      <td>266</td>\n",
              "      <td>Fayzabad</td>\n",
              "      <td>55</td>\n",
              "      <td>Bread - Retail</td>\n",
              "      <td>0.0</td>\n",
              "      <td>AFN</td>\n",
              "      <td>15</td>\n",
              "      <td>Retail</td>\n",
              "      <td>5</td>\n",
              "      <td>KG</td>\n",
              "      <td>2</td>\n",
              "      <td>2014</td>\n",
              "      <td>50.0</td>\n",
              "      <td>NaN</td>\n",
              "    </tr>\n",
              "    <tr>\n",
              "      <th>2</th>\n",
              "      <td>1.0</td>\n",
              "      <td>Afghanistan</td>\n",
              "      <td>272</td>\n",
              "      <td>Badakhshan</td>\n",
              "      <td>266</td>\n",
              "      <td>Fayzabad</td>\n",
              "      <td>55</td>\n",
              "      <td>Bread - Retail</td>\n",
              "      <td>0.0</td>\n",
              "      <td>AFN</td>\n",
              "      <td>15</td>\n",
              "      <td>Retail</td>\n",
              "      <td>5</td>\n",
              "      <td>KG</td>\n",
              "      <td>3</td>\n",
              "      <td>2014</td>\n",
              "      <td>50.0</td>\n",
              "      <td>NaN</td>\n",
              "    </tr>\n",
              "    <tr>\n",
              "      <th>3</th>\n",
              "      <td>1.0</td>\n",
              "      <td>Afghanistan</td>\n",
              "      <td>272</td>\n",
              "      <td>Badakhshan</td>\n",
              "      <td>266</td>\n",
              "      <td>Fayzabad</td>\n",
              "      <td>55</td>\n",
              "      <td>Bread - Retail</td>\n",
              "      <td>0.0</td>\n",
              "      <td>AFN</td>\n",
              "      <td>15</td>\n",
              "      <td>Retail</td>\n",
              "      <td>5</td>\n",
              "      <td>KG</td>\n",
              "      <td>4</td>\n",
              "      <td>2014</td>\n",
              "      <td>50.0</td>\n",
              "      <td>NaN</td>\n",
              "    </tr>\n",
              "    <tr>\n",
              "      <th>4</th>\n",
              "      <td>1.0</td>\n",
              "      <td>Afghanistan</td>\n",
              "      <td>272</td>\n",
              "      <td>Badakhshan</td>\n",
              "      <td>266</td>\n",
              "      <td>Fayzabad</td>\n",
              "      <td>55</td>\n",
              "      <td>Bread - Retail</td>\n",
              "      <td>0.0</td>\n",
              "      <td>AFN</td>\n",
              "      <td>15</td>\n",
              "      <td>Retail</td>\n",
              "      <td>5</td>\n",
              "      <td>KG</td>\n",
              "      <td>5</td>\n",
              "      <td>2014</td>\n",
              "      <td>50.0</td>\n",
              "      <td>NaN</td>\n",
              "    </tr>\n",
              "  </tbody>\n",
              "</table>\n",
              "</div>"
            ],
            "text/plain": [
              "   adm0_id    adm0_name  adm1_id  ... mp_year  mp_price mp_commoditysource\n",
              "0      1.0  Afghanistan      272  ...    2014      50.0                NaN\n",
              "1      1.0  Afghanistan      272  ...    2014      50.0                NaN\n",
              "2      1.0  Afghanistan      272  ...    2014      50.0                NaN\n",
              "3      1.0  Afghanistan      272  ...    2014      50.0                NaN\n",
              "4      1.0  Afghanistan      272  ...    2014      50.0                NaN\n",
              "\n",
              "[5 rows x 18 columns]"
            ]
          },
          "metadata": {
            "tags": []
          },
          "execution_count": 60
        }
      ]
    },
    {
      "cell_type": "code",
      "metadata": {
        "id": "ilqV-cg-AR6K",
        "colab_type": "code",
        "outputId": "1bbef5e8-50d7-4255-bdd9-617f06631737",
        "colab": {
          "base_uri": "https://localhost:8080/",
          "height": 80
        }
      },
      "source": [
        "no_unique_value = pd.DataFrame(data.nunique()).transpose()\n",
        "no_unique_value"
      ],
      "execution_count": 5,
      "outputs": [
        {
          "output_type": "execute_result",
          "data": {
            "text/html": [
              "<div>\n",
              "<style scoped>\n",
              "    .dataframe tbody tr th:only-of-type {\n",
              "        vertical-align: middle;\n",
              "    }\n",
              "\n",
              "    .dataframe tbody tr th {\n",
              "        vertical-align: top;\n",
              "    }\n",
              "\n",
              "    .dataframe thead th {\n",
              "        text-align: right;\n",
              "    }\n",
              "</style>\n",
              "<table border=\"1\" class=\"dataframe\">\n",
              "  <thead>\n",
              "    <tr style=\"text-align: right;\">\n",
              "      <th></th>\n",
              "      <th>adm0_id</th>\n",
              "      <th>adm0_name</th>\n",
              "      <th>adm1_id</th>\n",
              "      <th>adm1_name</th>\n",
              "      <th>mkt_id</th>\n",
              "      <th>mkt_name</th>\n",
              "      <th>cm_id</th>\n",
              "      <th>cm_name</th>\n",
              "      <th>cur_id</th>\n",
              "      <th>cur_name</th>\n",
              "      <th>pt_id</th>\n",
              "      <th>pt_name</th>\n",
              "      <th>um_id</th>\n",
              "      <th>um_name</th>\n",
              "      <th>mp_month</th>\n",
              "      <th>mp_year</th>\n",
              "      <th>mp_price</th>\n",
              "      <th>mp_commoditysource</th>\n",
              "    </tr>\n",
              "  </thead>\n",
              "  <tbody>\n",
              "    <tr>\n",
              "      <th>0</th>\n",
              "      <td>99</td>\n",
              "      <td>99</td>\n",
              "      <td>804</td>\n",
              "      <td>577</td>\n",
              "      <td>2118</td>\n",
              "      <td>2088</td>\n",
              "      <td>439</td>\n",
              "      <td>556</td>\n",
              "      <td>1</td>\n",
              "      <td>83</td>\n",
              "      <td>4</td>\n",
              "      <td>4</td>\n",
              "      <td>93</td>\n",
              "      <td>93</td>\n",
              "      <td>12</td>\n",
              "      <td>31</td>\n",
              "      <td>171873</td>\n",
              "      <td>0</td>\n",
              "    </tr>\n",
              "  </tbody>\n",
              "</table>\n",
              "</div>"
            ],
            "text/plain": [
              "   adm0_id  adm0_name  adm1_id  ...  mp_year  mp_price  mp_commoditysource\n",
              "0       99         99      804  ...       31    171873                   0\n",
              "\n",
              "[1 rows x 18 columns]"
            ]
          },
          "metadata": {
            "tags": []
          },
          "execution_count": 5
        }
      ]
    },
    {
      "cell_type": "code",
      "metadata": {
        "id": "pjVoSZenqJMn",
        "colab_type": "code",
        "outputId": "96a41f9e-a151-4aa3-8772-a6b378a0e330",
        "colab": {
          "base_uri": "https://localhost:8080/",
          "height": 391
        }
      },
      "source": [
        "country_name = data.adm0_name.unique()\n",
        "country_name"
      ],
      "execution_count": 6,
      "outputs": [
        {
          "output_type": "execute_result",
          "data": {
            "text/plain": [
              "array(['Afghanistan', 'Algeria', 'Angola', 'Argentina', 'Armenia',\n",
              "       'Azerbaijan', 'Bangladesh', 'Bassas da India', 'Belarus', 'Benin',\n",
              "       'Bhutan', 'Bolivia', 'Burkina Faso', 'Burundi', 'Cambodia',\n",
              "       'Cameroon', 'Cape Verde', 'Central African Republic', 'Chad',\n",
              "       'China', 'Colombia', 'Congo', 'Costa Rica', \"Cote d'Ivoire\",\n",
              "       'Democratic Republic of the Congo', 'Djibouti',\n",
              "       'Dominican Republic', 'Ecuador', 'Egypt', 'El Salvador', 'Eritrea',\n",
              "       'Ethiopia', 'Gabon', 'Gambia', 'Georgia', 'Ghana', 'Guatemala',\n",
              "       'Guinea', 'Guinea-Bissau', 'Haiti', 'Honduras', 'Indonesia',\n",
              "       'Iran  (Islamic Republic of)', 'Iraq', 'Italy', 'Japan', 'Jordan',\n",
              "       'Kazakhstan', 'Kenya', 'Kyrgyzstan',\n",
              "       \"Lao People's Democratic Republic\", 'Lebanon', 'Lesotho',\n",
              "       'Liberia', 'Libya', 'Madagascar', 'Malawi', 'Mali', 'Mauritania',\n",
              "       'Mexico', 'Moldova Republic of', 'Mongolia', 'Mozambique',\n",
              "       'Myanmar', 'Namibia', 'Nepal', 'Nicaragua', 'Niger', 'Nigeria',\n",
              "       'Pakistan', 'Panama', 'Paraguay', 'Peru', 'Philippines',\n",
              "       'Russian Federation', 'Rwanda', 'Senegal', 'Sierra Leone',\n",
              "       'Somalia', 'South Africa', 'South Sudan', 'Sri Lanka',\n",
              "       'State of Palestine', 'Sudan', 'Swaziland', 'Syrian Arab Republic',\n",
              "       'Tajikistan', 'Thailand', 'Timor-Leste', 'Togo', 'Turkey',\n",
              "       'Uganda', 'Ukraine', 'United Republic of Tanzania', 'Venezuela',\n",
              "       'Viet Nam', 'Yemen', 'Zambia', 'Zimbabwe'], dtype=object)"
            ]
          },
          "metadata": {
            "tags": []
          },
          "execution_count": 6
        }
      ]
    },
    {
      "cell_type": "markdown",
      "metadata": {
        "id": "gKvJ3ICr7UM1",
        "colab_type": "text"
      },
      "source": [
        "## Slicing Indonesia Dataset from Global Data\n",
        "\n",
        "\n",
        "\n",
        "1.   Preprocessing the Indonesia data to remove unnecessary column\n",
        "2.   Providing unique values from Indonesia commodity purchased (or food\n",
        "sectors)\n",
        "\n"
      ]
    },
    {
      "cell_type": "code",
      "metadata": {
        "id": "ZA-GpmeAQfQt",
        "colab_type": "code",
        "outputId": "d3528d1e-ffb5-4b67-857b-fbe29e47c883",
        "colab": {
          "base_uri": "https://localhost:8080/",
          "height": 204
        }
      },
      "source": [
        "id_data = data.loc[data['adm0_name'] == 'Indonesia']\n",
        "id_data.head()"
      ],
      "execution_count": 7,
      "outputs": [
        {
          "output_type": "execute_result",
          "data": {
            "text/html": [
              "<div>\n",
              "<style scoped>\n",
              "    .dataframe tbody tr th:only-of-type {\n",
              "        vertical-align: middle;\n",
              "    }\n",
              "\n",
              "    .dataframe tbody tr th {\n",
              "        vertical-align: top;\n",
              "    }\n",
              "\n",
              "    .dataframe thead th {\n",
              "        text-align: right;\n",
              "    }\n",
              "</style>\n",
              "<table border=\"1\" class=\"dataframe\">\n",
              "  <thead>\n",
              "    <tr style=\"text-align: right;\">\n",
              "      <th></th>\n",
              "      <th>adm0_id</th>\n",
              "      <th>adm0_name</th>\n",
              "      <th>adm1_id</th>\n",
              "      <th>adm1_name</th>\n",
              "      <th>mkt_id</th>\n",
              "      <th>mkt_name</th>\n",
              "      <th>cm_id</th>\n",
              "      <th>cm_name</th>\n",
              "      <th>cur_id</th>\n",
              "      <th>cur_name</th>\n",
              "      <th>pt_id</th>\n",
              "      <th>pt_name</th>\n",
              "      <th>um_id</th>\n",
              "      <th>um_name</th>\n",
              "      <th>mp_month</th>\n",
              "      <th>mp_year</th>\n",
              "      <th>mp_price</th>\n",
              "      <th>mp_commoditysource</th>\n",
              "    </tr>\n",
              "  </thead>\n",
              "  <tbody>\n",
              "    <tr>\n",
              "      <th>417323</th>\n",
              "      <td>116.0</td>\n",
              "      <td>Indonesia</td>\n",
              "      <td>0</td>\n",
              "      <td>NaN</td>\n",
              "      <td>974</td>\n",
              "      <td>National Average</td>\n",
              "      <td>52</td>\n",
              "      <td>Rice - Retail</td>\n",
              "      <td>0.0</td>\n",
              "      <td>IDR</td>\n",
              "      <td>15</td>\n",
              "      <td>Retail</td>\n",
              "      <td>5</td>\n",
              "      <td>KG</td>\n",
              "      <td>1</td>\n",
              "      <td>2007</td>\n",
              "      <td>5941.9752</td>\n",
              "      <td>NaN</td>\n",
              "    </tr>\n",
              "    <tr>\n",
              "      <th>417324</th>\n",
              "      <td>116.0</td>\n",
              "      <td>Indonesia</td>\n",
              "      <td>0</td>\n",
              "      <td>NaN</td>\n",
              "      <td>974</td>\n",
              "      <td>National Average</td>\n",
              "      <td>52</td>\n",
              "      <td>Rice - Retail</td>\n",
              "      <td>0.0</td>\n",
              "      <td>IDR</td>\n",
              "      <td>15</td>\n",
              "      <td>Retail</td>\n",
              "      <td>5</td>\n",
              "      <td>KG</td>\n",
              "      <td>2</td>\n",
              "      <td>2007</td>\n",
              "      <td>6445.0000</td>\n",
              "      <td>NaN</td>\n",
              "    </tr>\n",
              "    <tr>\n",
              "      <th>417325</th>\n",
              "      <td>116.0</td>\n",
              "      <td>Indonesia</td>\n",
              "      <td>0</td>\n",
              "      <td>NaN</td>\n",
              "      <td>974</td>\n",
              "      <td>National Average</td>\n",
              "      <td>52</td>\n",
              "      <td>Rice - Retail</td>\n",
              "      <td>0.0</td>\n",
              "      <td>IDR</td>\n",
              "      <td>15</td>\n",
              "      <td>Retail</td>\n",
              "      <td>5</td>\n",
              "      <td>KG</td>\n",
              "      <td>3</td>\n",
              "      <td>2007</td>\n",
              "      <td>6414.0000</td>\n",
              "      <td>NaN</td>\n",
              "    </tr>\n",
              "    <tr>\n",
              "      <th>417326</th>\n",
              "      <td>116.0</td>\n",
              "      <td>Indonesia</td>\n",
              "      <td>0</td>\n",
              "      <td>NaN</td>\n",
              "      <td>974</td>\n",
              "      <td>National Average</td>\n",
              "      <td>52</td>\n",
              "      <td>Rice - Retail</td>\n",
              "      <td>0.0</td>\n",
              "      <td>IDR</td>\n",
              "      <td>15</td>\n",
              "      <td>Retail</td>\n",
              "      <td>5</td>\n",
              "      <td>KG</td>\n",
              "      <td>4</td>\n",
              "      <td>2007</td>\n",
              "      <td>6083.0000</td>\n",
              "      <td>NaN</td>\n",
              "    </tr>\n",
              "    <tr>\n",
              "      <th>417327</th>\n",
              "      <td>116.0</td>\n",
              "      <td>Indonesia</td>\n",
              "      <td>0</td>\n",
              "      <td>NaN</td>\n",
              "      <td>974</td>\n",
              "      <td>National Average</td>\n",
              "      <td>52</td>\n",
              "      <td>Rice - Retail</td>\n",
              "      <td>0.0</td>\n",
              "      <td>IDR</td>\n",
              "      <td>15</td>\n",
              "      <td>Retail</td>\n",
              "      <td>5</td>\n",
              "      <td>KG</td>\n",
              "      <td>5</td>\n",
              "      <td>2007</td>\n",
              "      <td>5955.0000</td>\n",
              "      <td>NaN</td>\n",
              "    </tr>\n",
              "  </tbody>\n",
              "</table>\n",
              "</div>"
            ],
            "text/plain": [
              "        adm0_id  adm0_name  adm1_id  ... mp_year   mp_price mp_commoditysource\n",
              "417323    116.0  Indonesia        0  ...    2007  5941.9752                NaN\n",
              "417324    116.0  Indonesia        0  ...    2007  6445.0000                NaN\n",
              "417325    116.0  Indonesia        0  ...    2007  6414.0000                NaN\n",
              "417326    116.0  Indonesia        0  ...    2007  6083.0000                NaN\n",
              "417327    116.0  Indonesia        0  ...    2007  5955.0000                NaN\n",
              "\n",
              "[5 rows x 18 columns]"
            ]
          },
          "metadata": {
            "tags": []
          },
          "execution_count": 7
        }
      ]
    },
    {
      "cell_type": "code",
      "metadata": {
        "id": "IZrHVLeVTE3x",
        "colab_type": "code",
        "outputId": "4694907f-8de3-445f-82ec-f488e2ae6ccf",
        "colab": {
          "base_uri": "https://localhost:8080/",
          "height": 80
        }
      },
      "source": [
        "id_unique_val = pd.DataFrame(id_data.nunique()).transpose()\n",
        "id_unique_val"
      ],
      "execution_count": 8,
      "outputs": [
        {
          "output_type": "execute_result",
          "data": {
            "text/html": [
              "<div>\n",
              "<style scoped>\n",
              "    .dataframe tbody tr th:only-of-type {\n",
              "        vertical-align: middle;\n",
              "    }\n",
              "\n",
              "    .dataframe tbody tr th {\n",
              "        vertical-align: top;\n",
              "    }\n",
              "\n",
              "    .dataframe thead th {\n",
              "        text-align: right;\n",
              "    }\n",
              "</style>\n",
              "<table border=\"1\" class=\"dataframe\">\n",
              "  <thead>\n",
              "    <tr style=\"text-align: right;\">\n",
              "      <th></th>\n",
              "      <th>adm0_id</th>\n",
              "      <th>adm0_name</th>\n",
              "      <th>adm1_id</th>\n",
              "      <th>adm1_name</th>\n",
              "      <th>mkt_id</th>\n",
              "      <th>mkt_name</th>\n",
              "      <th>cm_id</th>\n",
              "      <th>cm_name</th>\n",
              "      <th>cur_id</th>\n",
              "      <th>cur_name</th>\n",
              "      <th>pt_id</th>\n",
              "      <th>pt_name</th>\n",
              "      <th>um_id</th>\n",
              "      <th>um_name</th>\n",
              "      <th>mp_month</th>\n",
              "      <th>mp_year</th>\n",
              "      <th>mp_price</th>\n",
              "      <th>mp_commoditysource</th>\n",
              "    </tr>\n",
              "  </thead>\n",
              "  <tbody>\n",
              "    <tr>\n",
              "      <th>0</th>\n",
              "      <td>1</td>\n",
              "      <td>1</td>\n",
              "      <td>1</td>\n",
              "      <td>0</td>\n",
              "      <td>1</td>\n",
              "      <td>1</td>\n",
              "      <td>11</td>\n",
              "      <td>11</td>\n",
              "      <td>1</td>\n",
              "      <td>1</td>\n",
              "      <td>1</td>\n",
              "      <td>1</td>\n",
              "      <td>3</td>\n",
              "      <td>3</td>\n",
              "      <td>12</td>\n",
              "      <td>13</td>\n",
              "      <td>1569</td>\n",
              "      <td>0</td>\n",
              "    </tr>\n",
              "  </tbody>\n",
              "</table>\n",
              "</div>"
            ],
            "text/plain": [
              "   adm0_id  adm0_name  adm1_id  ...  mp_year  mp_price  mp_commoditysource\n",
              "0        1          1        1  ...       13      1569                   0\n",
              "\n",
              "[1 rows x 18 columns]"
            ]
          },
          "metadata": {
            "tags": []
          },
          "execution_count": 8
        }
      ]
    },
    {
      "cell_type": "code",
      "metadata": {
        "id": "BdQCIy-1TvoR",
        "colab_type": "code",
        "outputId": "1bb511bb-a790-4927-ff1b-a4d55d842c67",
        "colab": {
          "base_uri": "https://localhost:8080/",
          "height": 204
        }
      },
      "source": [
        "# id_data = id_data.drop(columns = ['adm0_id','adm1_id','adm1_name','cur_id',''])\n",
        "id_data = id_data[id_data.columns.drop(list(id_data.filter(regex='_id')))].drop(columns=['adm1_name','mp_commoditysource'])\n",
        "id_data.head()"
      ],
      "execution_count": 9,
      "outputs": [
        {
          "output_type": "execute_result",
          "data": {
            "text/html": [
              "<div>\n",
              "<style scoped>\n",
              "    .dataframe tbody tr th:only-of-type {\n",
              "        vertical-align: middle;\n",
              "    }\n",
              "\n",
              "    .dataframe tbody tr th {\n",
              "        vertical-align: top;\n",
              "    }\n",
              "\n",
              "    .dataframe thead th {\n",
              "        text-align: right;\n",
              "    }\n",
              "</style>\n",
              "<table border=\"1\" class=\"dataframe\">\n",
              "  <thead>\n",
              "    <tr style=\"text-align: right;\">\n",
              "      <th></th>\n",
              "      <th>adm0_name</th>\n",
              "      <th>mkt_name</th>\n",
              "      <th>cm_name</th>\n",
              "      <th>cur_name</th>\n",
              "      <th>pt_name</th>\n",
              "      <th>um_name</th>\n",
              "      <th>mp_month</th>\n",
              "      <th>mp_year</th>\n",
              "      <th>mp_price</th>\n",
              "    </tr>\n",
              "  </thead>\n",
              "  <tbody>\n",
              "    <tr>\n",
              "      <th>417323</th>\n",
              "      <td>Indonesia</td>\n",
              "      <td>National Average</td>\n",
              "      <td>Rice - Retail</td>\n",
              "      <td>IDR</td>\n",
              "      <td>Retail</td>\n",
              "      <td>KG</td>\n",
              "      <td>1</td>\n",
              "      <td>2007</td>\n",
              "      <td>5941.9752</td>\n",
              "    </tr>\n",
              "    <tr>\n",
              "      <th>417324</th>\n",
              "      <td>Indonesia</td>\n",
              "      <td>National Average</td>\n",
              "      <td>Rice - Retail</td>\n",
              "      <td>IDR</td>\n",
              "      <td>Retail</td>\n",
              "      <td>KG</td>\n",
              "      <td>2</td>\n",
              "      <td>2007</td>\n",
              "      <td>6445.0000</td>\n",
              "    </tr>\n",
              "    <tr>\n",
              "      <th>417325</th>\n",
              "      <td>Indonesia</td>\n",
              "      <td>National Average</td>\n",
              "      <td>Rice - Retail</td>\n",
              "      <td>IDR</td>\n",
              "      <td>Retail</td>\n",
              "      <td>KG</td>\n",
              "      <td>3</td>\n",
              "      <td>2007</td>\n",
              "      <td>6414.0000</td>\n",
              "    </tr>\n",
              "    <tr>\n",
              "      <th>417326</th>\n",
              "      <td>Indonesia</td>\n",
              "      <td>National Average</td>\n",
              "      <td>Rice - Retail</td>\n",
              "      <td>IDR</td>\n",
              "      <td>Retail</td>\n",
              "      <td>KG</td>\n",
              "      <td>4</td>\n",
              "      <td>2007</td>\n",
              "      <td>6083.0000</td>\n",
              "    </tr>\n",
              "    <tr>\n",
              "      <th>417327</th>\n",
              "      <td>Indonesia</td>\n",
              "      <td>National Average</td>\n",
              "      <td>Rice - Retail</td>\n",
              "      <td>IDR</td>\n",
              "      <td>Retail</td>\n",
              "      <td>KG</td>\n",
              "      <td>5</td>\n",
              "      <td>2007</td>\n",
              "      <td>5955.0000</td>\n",
              "    </tr>\n",
              "  </tbody>\n",
              "</table>\n",
              "</div>"
            ],
            "text/plain": [
              "        adm0_name          mkt_name  ... mp_year   mp_price\n",
              "417323  Indonesia  National Average  ...    2007  5941.9752\n",
              "417324  Indonesia  National Average  ...    2007  6445.0000\n",
              "417325  Indonesia  National Average  ...    2007  6414.0000\n",
              "417326  Indonesia  National Average  ...    2007  6083.0000\n",
              "417327  Indonesia  National Average  ...    2007  5955.0000\n",
              "\n",
              "[5 rows x 9 columns]"
            ]
          },
          "metadata": {
            "tags": []
          },
          "execution_count": 9
        }
      ]
    },
    {
      "cell_type": "code",
      "metadata": {
        "id": "aWL01tH7_MYC",
        "colab_type": "code",
        "colab": {}
      },
      "source": [
        "id_data['timestamp'] = id_data['mp_year'].astype(str) + '-' + id_data['mp_month'].astype(str)"
      ],
      "execution_count": 0,
      "outputs": []
    },
    {
      "cell_type": "code",
      "metadata": {
        "id": "ffbk0EYRgsoQ",
        "colab_type": "code",
        "outputId": "b654f4d9-f089-4b3f-ae4a-fad5f4401653",
        "colab": {
          "base_uri": "https://localhost:8080/",
          "height": 390
        }
      },
      "source": [
        "id_sector = pd.DataFrame({'sector':id_data['cm_name'].unique()})\n",
        "id_sector"
      ],
      "execution_count": 11,
      "outputs": [
        {
          "output_type": "execute_result",
          "data": {
            "text/html": [
              "<div>\n",
              "<style scoped>\n",
              "    .dataframe tbody tr th:only-of-type {\n",
              "        vertical-align: middle;\n",
              "    }\n",
              "\n",
              "    .dataframe tbody tr th {\n",
              "        vertical-align: top;\n",
              "    }\n",
              "\n",
              "    .dataframe thead th {\n",
              "        text-align: right;\n",
              "    }\n",
              "</style>\n",
              "<table border=\"1\" class=\"dataframe\">\n",
              "  <thead>\n",
              "    <tr style=\"text-align: right;\">\n",
              "      <th></th>\n",
              "      <th>sector</th>\n",
              "    </tr>\n",
              "  </thead>\n",
              "  <tbody>\n",
              "    <tr>\n",
              "      <th>0</th>\n",
              "      <td>Rice - Retail</td>\n",
              "    </tr>\n",
              "    <tr>\n",
              "      <th>1</th>\n",
              "      <td>Wheat flour - Retail</td>\n",
              "    </tr>\n",
              "    <tr>\n",
              "      <th>2</th>\n",
              "      <td>Meat (chicken, broiler) - Retail</td>\n",
              "    </tr>\n",
              "    <tr>\n",
              "      <th>3</th>\n",
              "      <td>Chili (red) - Retail</td>\n",
              "    </tr>\n",
              "    <tr>\n",
              "      <th>4</th>\n",
              "      <td>Eggs - Retail</td>\n",
              "    </tr>\n",
              "    <tr>\n",
              "      <th>5</th>\n",
              "      <td>Milk (condensed) - Retail</td>\n",
              "    </tr>\n",
              "    <tr>\n",
              "      <th>6</th>\n",
              "      <td>Oil (vegetable) - Retail</td>\n",
              "    </tr>\n",
              "    <tr>\n",
              "      <th>7</th>\n",
              "      <td>Sugar - Retail</td>\n",
              "    </tr>\n",
              "    <tr>\n",
              "      <th>8</th>\n",
              "      <td>Meat (beef) - Retail</td>\n",
              "    </tr>\n",
              "    <tr>\n",
              "      <th>9</th>\n",
              "      <td>Fuel (kerosene) - Retail</td>\n",
              "    </tr>\n",
              "    <tr>\n",
              "      <th>10</th>\n",
              "      <td>Chili (bird’s eye)   - Retail</td>\n",
              "    </tr>\n",
              "  </tbody>\n",
              "</table>\n",
              "</div>"
            ],
            "text/plain": [
              "                              sector\n",
              "0                      Rice - Retail\n",
              "1               Wheat flour - Retail\n",
              "2   Meat (chicken, broiler) - Retail\n",
              "3               Chili (red) - Retail\n",
              "4                      Eggs - Retail\n",
              "5          Milk (condensed) - Retail\n",
              "6           Oil (vegetable) - Retail\n",
              "7                     Sugar - Retail\n",
              "8               Meat (beef) - Retail\n",
              "9           Fuel (kerosene) - Retail\n",
              "10     Chili (bird’s eye)   - Retail"
            ]
          },
          "metadata": {
            "tags": []
          },
          "execution_count": 11
        }
      ]
    },
    {
      "cell_type": "markdown",
      "metadata": {
        "id": "asvyMTx9dyqk",
        "colab_type": "text"
      },
      "source": [
        "## **Start Dividing The Data**\n",
        "\n",
        "The sectors chosen for this model are Chili (Red) and Chili (Bird's Eye).<br/>\n",
        "Thus the dataset is divided into two, for both sectors.\n",
        "Both have high correlation, hopefully we can train the Chili (Bird's Eye) with Red Chili model.\n",
        "\n"
      ]
    },
    {
      "cell_type": "code",
      "metadata": {
        "id": "kJ7bsfZhd8wz",
        "colab_type": "code",
        "colab": {}
      },
      "source": [
        "import matplotlib.pyplot as plt\n",
        "from matplotlib.pyplot import figure\n",
        "import matplotlib as mpl"
      ],
      "execution_count": 0,
      "outputs": []
    },
    {
      "cell_type": "code",
      "metadata": {
        "id": "nbVOofZlrIKP",
        "colab_type": "code",
        "outputId": "2aef8631-0e90-4399-9f0f-bfc8b1047081",
        "colab": {
          "base_uri": "https://localhost:8080/",
          "height": 204
        }
      },
      "source": [
        "chili_red_cat = id_data.loc[id_data['cm_name'] == \"Chili (red) - Retail\"]\n",
        "chili_red_cat.head()"
      ],
      "execution_count": 13,
      "outputs": [
        {
          "output_type": "execute_result",
          "data": {
            "text/html": [
              "<div>\n",
              "<style scoped>\n",
              "    .dataframe tbody tr th:only-of-type {\n",
              "        vertical-align: middle;\n",
              "    }\n",
              "\n",
              "    .dataframe tbody tr th {\n",
              "        vertical-align: top;\n",
              "    }\n",
              "\n",
              "    .dataframe thead th {\n",
              "        text-align: right;\n",
              "    }\n",
              "</style>\n",
              "<table border=\"1\" class=\"dataframe\">\n",
              "  <thead>\n",
              "    <tr style=\"text-align: right;\">\n",
              "      <th></th>\n",
              "      <th>adm0_name</th>\n",
              "      <th>mkt_name</th>\n",
              "      <th>cm_name</th>\n",
              "      <th>cur_name</th>\n",
              "      <th>pt_name</th>\n",
              "      <th>um_name</th>\n",
              "      <th>mp_month</th>\n",
              "      <th>mp_year</th>\n",
              "      <th>mp_price</th>\n",
              "      <th>timestamp</th>\n",
              "    </tr>\n",
              "  </thead>\n",
              "  <tbody>\n",
              "    <tr>\n",
              "      <th>417788</th>\n",
              "      <td>Indonesia</td>\n",
              "      <td>National Average</td>\n",
              "      <td>Chili (red) - Retail</td>\n",
              "      <td>IDR</td>\n",
              "      <td>Retail</td>\n",
              "      <td>KG</td>\n",
              "      <td>1</td>\n",
              "      <td>2007</td>\n",
              "      <td>24974.0693</td>\n",
              "      <td>2007-1</td>\n",
              "    </tr>\n",
              "    <tr>\n",
              "      <th>417789</th>\n",
              "      <td>Indonesia</td>\n",
              "      <td>National Average</td>\n",
              "      <td>Chili (red) - Retail</td>\n",
              "      <td>IDR</td>\n",
              "      <td>Retail</td>\n",
              "      <td>KG</td>\n",
              "      <td>2</td>\n",
              "      <td>2007</td>\n",
              "      <td>22593.0000</td>\n",
              "      <td>2007-2</td>\n",
              "    </tr>\n",
              "    <tr>\n",
              "      <th>417790</th>\n",
              "      <td>Indonesia</td>\n",
              "      <td>National Average</td>\n",
              "      <td>Chili (red) - Retail</td>\n",
              "      <td>IDR</td>\n",
              "      <td>Retail</td>\n",
              "      <td>KG</td>\n",
              "      <td>3</td>\n",
              "      <td>2007</td>\n",
              "      <td>22807.0000</td>\n",
              "      <td>2007-3</td>\n",
              "    </tr>\n",
              "    <tr>\n",
              "      <th>417791</th>\n",
              "      <td>Indonesia</td>\n",
              "      <td>National Average</td>\n",
              "      <td>Chili (red) - Retail</td>\n",
              "      <td>IDR</td>\n",
              "      <td>Retail</td>\n",
              "      <td>KG</td>\n",
              "      <td>4</td>\n",
              "      <td>2007</td>\n",
              "      <td>18414.0000</td>\n",
              "      <td>2007-4</td>\n",
              "    </tr>\n",
              "    <tr>\n",
              "      <th>417792</th>\n",
              "      <td>Indonesia</td>\n",
              "      <td>National Average</td>\n",
              "      <td>Chili (red) - Retail</td>\n",
              "      <td>IDR</td>\n",
              "      <td>Retail</td>\n",
              "      <td>KG</td>\n",
              "      <td>5</td>\n",
              "      <td>2007</td>\n",
              "      <td>14910.0000</td>\n",
              "      <td>2007-5</td>\n",
              "    </tr>\n",
              "  </tbody>\n",
              "</table>\n",
              "</div>"
            ],
            "text/plain": [
              "        adm0_name          mkt_name  ...    mp_price timestamp\n",
              "417788  Indonesia  National Average  ...  24974.0693    2007-1\n",
              "417789  Indonesia  National Average  ...  22593.0000    2007-2\n",
              "417790  Indonesia  National Average  ...  22807.0000    2007-3\n",
              "417791  Indonesia  National Average  ...  18414.0000    2007-4\n",
              "417792  Indonesia  National Average  ...  14910.0000    2007-5\n",
              "\n",
              "[5 rows x 10 columns]"
            ]
          },
          "metadata": {
            "tags": []
          },
          "execution_count": 13
        }
      ]
    },
    {
      "cell_type": "markdown",
      "metadata": {
        "id": "y3_lmiy8YUZz",
        "colab_type": "text"
      },
      "source": [
        "#### Replacing outlier data for price of chili (red) with mean"
      ]
    },
    {
      "cell_type": "code",
      "metadata": {
        "id": "WrhCG06C2AEw",
        "colab_type": "code",
        "colab": {
          "base_uri": "https://localhost:8080/",
          "height": 34
        },
        "outputId": "ade5e983-ce39-4688-e1f8-ea4cf2d42301"
      },
      "source": [
        "q1 = chili_red_cat['mp_price'].quantile(0.25)\n",
        "q3 = chili_red_cat['mp_price'].quantile(0.75)\n",
        "iqr = q3 - q1\n",
        "print(iqr)"
      ],
      "execution_count": 14,
      "outputs": [
        {
          "output_type": "stream",
          "text": [
            "15581.0\n"
          ],
          "name": "stdout"
        }
      ]
    },
    {
      "cell_type": "code",
      "metadata": {
        "id": "2MN8Mp8C2UP7",
        "colab_type": "code",
        "colab": {}
      },
      "source": [
        "chili_red_cat['mp_price'] =  np.where(((chili_red_cat['mp_price'] < q1 - 1.5 * \n",
        "                                        iqr)), chili_red_cat['mp_price'].mean(),\n",
        "                                      chili_red_cat['mp_price'])\n",
        "chili_red_cat['mp_price'] =  np.where(((chili_red_cat['mp_price'] > q3 + 1.5 * \n",
        "                                        iqr)), chili_red_cat['mp_price'].mean(),\n",
        "                                      chili_red_cat['mp_price'])"
      ],
      "execution_count": 0,
      "outputs": []
    },
    {
      "cell_type": "code",
      "metadata": {
        "id": "MSk4pWPQJP4X",
        "colab_type": "code",
        "outputId": "dea33310-6517-4eb7-c56c-c7409e7ced3b",
        "colab": {
          "base_uri": "https://localhost:8080/",
          "height": 204
        }
      },
      "source": [
        "chili_bird_cat = id_data.loc[id_data['cm_name'].str.contains('bird')]\n",
        "chili_bird_cat.head()"
      ],
      "execution_count": 16,
      "outputs": [
        {
          "output_type": "execute_result",
          "data": {
            "text/html": [
              "<div>\n",
              "<style scoped>\n",
              "    .dataframe tbody tr th:only-of-type {\n",
              "        vertical-align: middle;\n",
              "    }\n",
              "\n",
              "    .dataframe tbody tr th {\n",
              "        vertical-align: top;\n",
              "    }\n",
              "\n",
              "    .dataframe thead th {\n",
              "        text-align: right;\n",
              "    }\n",
              "</style>\n",
              "<table border=\"1\" class=\"dataframe\">\n",
              "  <thead>\n",
              "    <tr style=\"text-align: right;\">\n",
              "      <th></th>\n",
              "      <th>adm0_name</th>\n",
              "      <th>mkt_name</th>\n",
              "      <th>cm_name</th>\n",
              "      <th>cur_name</th>\n",
              "      <th>pt_name</th>\n",
              "      <th>um_name</th>\n",
              "      <th>mp_month</th>\n",
              "      <th>mp_year</th>\n",
              "      <th>mp_price</th>\n",
              "      <th>timestamp</th>\n",
              "    </tr>\n",
              "  </thead>\n",
              "  <tbody>\n",
              "    <tr>\n",
              "      <th>418801</th>\n",
              "      <td>Indonesia</td>\n",
              "      <td>National Average</td>\n",
              "      <td>Chili (bird’s eye)   - Retail</td>\n",
              "      <td>IDR</td>\n",
              "      <td>Retail</td>\n",
              "      <td>KG</td>\n",
              "      <td>1</td>\n",
              "      <td>2007</td>\n",
              "      <td>16825.1196</td>\n",
              "      <td>2007-1</td>\n",
              "    </tr>\n",
              "    <tr>\n",
              "      <th>418802</th>\n",
              "      <td>Indonesia</td>\n",
              "      <td>National Average</td>\n",
              "      <td>Chili (bird’s eye)   - Retail</td>\n",
              "      <td>IDR</td>\n",
              "      <td>Retail</td>\n",
              "      <td>KG</td>\n",
              "      <td>2</td>\n",
              "      <td>2007</td>\n",
              "      <td>13373.0000</td>\n",
              "      <td>2007-2</td>\n",
              "    </tr>\n",
              "    <tr>\n",
              "      <th>418803</th>\n",
              "      <td>Indonesia</td>\n",
              "      <td>National Average</td>\n",
              "      <td>Chili (bird’s eye)   - Retail</td>\n",
              "      <td>IDR</td>\n",
              "      <td>Retail</td>\n",
              "      <td>KG</td>\n",
              "      <td>3</td>\n",
              "      <td>2007</td>\n",
              "      <td>15360.0000</td>\n",
              "      <td>2007-3</td>\n",
              "    </tr>\n",
              "    <tr>\n",
              "      <th>418804</th>\n",
              "      <td>Indonesia</td>\n",
              "      <td>National Average</td>\n",
              "      <td>Chili (bird’s eye)   - Retail</td>\n",
              "      <td>IDR</td>\n",
              "      <td>Retail</td>\n",
              "      <td>KG</td>\n",
              "      <td>4</td>\n",
              "      <td>2007</td>\n",
              "      <td>13347.0000</td>\n",
              "      <td>2007-4</td>\n",
              "    </tr>\n",
              "    <tr>\n",
              "      <th>418805</th>\n",
              "      <td>Indonesia</td>\n",
              "      <td>National Average</td>\n",
              "      <td>Chili (bird’s eye)   - Retail</td>\n",
              "      <td>IDR</td>\n",
              "      <td>Retail</td>\n",
              "      <td>KG</td>\n",
              "      <td>5</td>\n",
              "      <td>2007</td>\n",
              "      <td>10784.0000</td>\n",
              "      <td>2007-5</td>\n",
              "    </tr>\n",
              "  </tbody>\n",
              "</table>\n",
              "</div>"
            ],
            "text/plain": [
              "        adm0_name          mkt_name  ...    mp_price timestamp\n",
              "418801  Indonesia  National Average  ...  16825.1196    2007-1\n",
              "418802  Indonesia  National Average  ...  13373.0000    2007-2\n",
              "418803  Indonesia  National Average  ...  15360.0000    2007-3\n",
              "418804  Indonesia  National Average  ...  13347.0000    2007-4\n",
              "418805  Indonesia  National Average  ...  10784.0000    2007-5\n",
              "\n",
              "[5 rows x 10 columns]"
            ]
          },
          "metadata": {
            "tags": []
          },
          "execution_count": 16
        }
      ]
    },
    {
      "cell_type": "markdown",
      "metadata": {
        "id": "j7a5gIbbYh7w",
        "colab_type": "text"
      },
      "source": [
        "#### Replacing outlier data for price of chili (bird's eye) with mean\n"
      ]
    },
    {
      "cell_type": "code",
      "metadata": {
        "id": "0gjE91hTA19D",
        "colab_type": "code",
        "colab": {
          "base_uri": "https://localhost:8080/",
          "height": 34
        },
        "outputId": "5e6280e9-a7a3-4da9-93c6-f474a63cd247"
      },
      "source": [
        "q1 = chili_bird_cat['mp_price'].quantile(0.25)\n",
        "q3 = chili_bird_cat['mp_price'].quantile(0.75)\n",
        "iqr = q3 - q1\n",
        "print(iqr)"
      ],
      "execution_count": 17,
      "outputs": [
        {
          "output_type": "stream",
          "text": [
            "21631.5\n"
          ],
          "name": "stdout"
        }
      ]
    },
    {
      "cell_type": "code",
      "metadata": {
        "id": "4QY2AzFgA5YY",
        "colab_type": "code",
        "colab": {}
      },
      "source": [
        "chili_bird_cat['mp_price'] =  np.where(((chili_bird_cat['mp_price'] < q1 - 1.5 * \n",
        "                                        iqr)), chili_bird_cat['mp_price'].mean(),\n",
        "                                      chili_bird_cat['mp_price'])\n",
        "chili_bird_cat['mp_price'] =  np.where(((chili_bird_cat['mp_price'] > q3 + 1.5 * \n",
        "                                        iqr)), chili_bird_cat['mp_price'].mean(),\n",
        "                                      chili_bird_cat['mp_price'])"
      ],
      "execution_count": 0,
      "outputs": []
    },
    {
      "cell_type": "markdown",
      "metadata": {
        "id": "z37DYsk4HHoL",
        "colab_type": "text"
      },
      "source": [
        "## **Forecasting Method**\n",
        "\n",
        "The forecasting method used  TensorFlow 2 and LSTM.<br/>\n",
        "First training was done to Red Chili sectors.\n"
      ]
    },
    {
      "cell_type": "code",
      "metadata": {
        "id": "TwAFdwL7NJg9",
        "colab_type": "code",
        "outputId": "c678642d-26e2-4e0f-a0db-5780d7b98a23",
        "colab": {
          "base_uri": "https://localhost:8080/",
          "height": 238
        }
      },
      "source": [
        "# choosing Red Chili\n",
        "\n",
        "chili_red_forc = chili_red_cat['mp_price']\n",
        "chili_red_forc.index = chili_red_cat['timestamp']\n",
        "chili_red_forc"
      ],
      "execution_count": 55,
      "outputs": [
        {
          "output_type": "execute_result",
          "data": {
            "text/plain": [
              "timestamp\n",
              "2007-1     24974.069300\n",
              "2007-2     22593.000000\n",
              "2007-3     22807.000000\n",
              "2007-4     18414.000000\n",
              "2007-5     14910.000000\n",
              "               ...     \n",
              "2019-8     30086.188134\n",
              "2019-9     30086.188134\n",
              "2019-10    56695.000000\n",
              "2019-11    51139.000000\n",
              "2019-12    46547.000000\n",
              "Name: mp_price, Length: 155, dtype: float64"
            ]
          },
          "metadata": {
            "tags": []
          },
          "execution_count": 55
        }
      ]
    },
    {
      "cell_type": "code",
      "metadata": {
        "id": "udB_AsR5NeE5",
        "colab_type": "code",
        "outputId": "2fcef64a-a6bc-4fcd-b4bf-f36d93d90829",
        "colab": {
          "base_uri": "https://localhost:8080/",
          "height": 663
        }
      },
      "source": [
        "plt.figure(figsize=(20,10))\n",
        "plt.title('Price For Red Chili in Indonesia by Month (2007-2019)', fontsize = 18)\n",
        "plt.xlabel('Price', fontsize = 14)\n",
        "plt.xlabel('Price', fontsize = 14)\n",
        "chili_red_forc.plot(subplots=True)"
      ],
      "execution_count": 20,
      "outputs": [
        {
          "output_type": "execute_result",
          "data": {
            "text/plain": [
              "array([<matplotlib.axes._subplots.AxesSubplot object at 0x7f922a342ac8>],\n",
              "      dtype=object)"
            ]
          },
          "metadata": {
            "tags": []
          },
          "execution_count": 20
        },
        {
          "output_type": "display_data",
          "data": {
            "image/png": "[encoded data removed]",
            "text/plain": [
              "<Figure size 1440x720 with 1 Axes>"
            ]
          },
          "metadata": {
            "tags": []
          }
        }
      ]
    },
    {
      "cell_type": "code",
      "metadata": {
        "id": "LeBNpfTTK4Bv",
        "colab_type": "code",
        "colab": {}
      },
      "source": [
        "train_split = int(len(chili_red_forc) * 0.8)"
      ],
      "execution_count": 0,
      "outputs": []
    },
    {
      "cell_type": "code",
      "metadata": {
        "id": "1jTxwGviMCVW",
        "colab_type": "code",
        "colab": {}
      },
      "source": [
        "tf.random.set_seed(13)"
      ],
      "execution_count": 0,
      "outputs": []
    },
    {
      "cell_type": "code",
      "metadata": {
        "id": "g6A72ZtpPLWO",
        "colab_type": "code",
        "colab": {}
      },
      "source": [
        "chili_red_forc = chili_red_forc.values"
      ],
      "execution_count": 0,
      "outputs": []
    },
    {
      "cell_type": "code",
      "metadata": {
        "id": "g1psLHvwNDF-",
        "colab_type": "code",
        "colab": {}
      },
      "source": [
        "def univariate_data(dataset, start_index, end_index, history_size, target_size):\n",
        "  data = []\n",
        "  labels = []\n",
        "\n",
        "  start_index = start_index + history_size\n",
        "  if end_index is None:\n",
        "    end_index = len(dataset) - target_size\n",
        "\n",
        "  for i in range(start_index, end_index):\n",
        "    indices = range(i-history_size, i)\n",
        "    # Reshape data from (history_size,) to (history_size, 1)\n",
        "    data.append(np.reshape(dataset[indices], (history_size, 1)))\n",
        "    labels.append(dataset[i+target_size])\n",
        "  return np.array(data), np.array(labels)"
      ],
      "execution_count": 0,
      "outputs": []
    },
    {
      "cell_type": "code",
      "metadata": {
        "id": "bScErnlycGI5",
        "colab_type": "code",
        "outputId": "a8ffdc95-167a-487e-dcb6-f7a030aef80e",
        "colab": {
          "base_uri": "https://localhost:8080/",
          "height": 34
        }
      },
      "source": [
        "chili_red_forc.shape"
      ],
      "execution_count": 25,
      "outputs": [
        {
          "output_type": "execute_result",
          "data": {
            "text/plain": [
              "(155,)"
            ]
          },
          "metadata": {
            "tags": []
          },
          "execution_count": 25
        }
      ]
    },
    {
      "cell_type": "markdown",
      "metadata": {
        "id": "ex5dbQDmSy3Q",
        "colab_type": "text"
      },
      "source": [
        "### Standardization for Chili (Red)"
      ]
    },
    {
      "cell_type": "code",
      "metadata": {
        "id": "xdFh-qZ0acYm",
        "colab_type": "code",
        "colab": {}
      },
      "source": [
        "chili_red_forc_mean = chili_red_forc[:train_split].mean()\n",
        "chili_red_forc_std = chili_red_forc[:train_split].std()"
      ],
      "execution_count": 0,
      "outputs": []
    },
    {
      "cell_type": "code",
      "metadata": {
        "id": "KWy9pd3pbNKf",
        "colab_type": "code",
        "colab": {}
      },
      "source": [
        "chili_red_forc = (chili_red_forc-chili_red_forc_mean)/chili_red_forc_std"
      ],
      "execution_count": 0,
      "outputs": []
    },
    {
      "cell_type": "code",
      "metadata": {
        "id": "aDUTMu-iSn3O",
        "colab_type": "code",
        "colab": {}
      },
      "source": [
        "def univariate_data(dataset, start_index, end_index, history_size, target_size):\n",
        "  data = []\n",
        "  labels = []\n",
        "\n",
        "  start_index = start_index + history_size\n",
        "  if end_index is None:\n",
        "    end_index = len(dataset) - target_size\n",
        "\n",
        "  for i in range(start_index, end_index):\n",
        "    indices = range(i-history_size, i)\n",
        "    # Reshape data from (history_size,) to (history_size, 1)\n",
        "    data.append(np.reshape(dataset[indices], (history_size, 1)))\n",
        "    labels.append(dataset[i+target_size])\n",
        "\n",
        "  \n",
        "  # print(f\"start_index : {start_index} \\nend_index={end_index}\")\n",
        "  return np.array(data), np.array(labels)"
      ],
      "execution_count": 0,
      "outputs": []
    },
    {
      "cell_type": "code",
      "metadata": {
        "id": "o4yD-WR3aZH5",
        "colab_type": "code",
        "colab": {}
      },
      "source": [
        "data_past = 20\n",
        "predict_target = 0\n",
        "\n",
        "x_train_uni, y_train_uni = univariate_data(\n",
        "    dataset= chili_red_forc, \n",
        "    start_index= 0, \n",
        "    end_index= train_split, \n",
        "    history_size= data_past,\n",
        "    target_size= predict_target)\n",
        "\n",
        "x_val_uni, y_val_uni = univariate_data(\n",
        "    dataset=chili_red_forc, \n",
        "    start_index=train_split, \n",
        "    end_index=None, \n",
        "    history_size=data_past,\n",
        "    target_size=predict_target)"
      ],
      "execution_count": 0,
      "outputs": []
    },
    {
      "cell_type": "code",
      "metadata": {
        "id": "B9EGP0LWkxkn",
        "colab_type": "code",
        "outputId": "144569f3-95d1-44ba-b83f-5c7102209747",
        "colab": {
          "base_uri": "https://localhost:8080/",
          "height": 34
        }
      },
      "source": [
        "x_train_uni.shape, x_val_uni.shape"
      ],
      "execution_count": 30,
      "outputs": [
        {
          "output_type": "execute_result",
          "data": {
            "text/plain": [
              "((104, 20, 1), (11, 20, 1))"
            ]
          },
          "metadata": {
            "tags": []
          },
          "execution_count": 30
        }
      ]
    },
    {
      "cell_type": "code",
      "metadata": {
        "id": "SiJl-4fJkS60",
        "colab_type": "code",
        "colab": {}
      },
      "source": [
        "def create_time_steps(length):\n",
        "  return list(range(-length, 0))"
      ],
      "execution_count": 0,
      "outputs": []
    },
    {
      "cell_type": "code",
      "metadata": {
        "id": "83jtUsFZkYJf",
        "colab_type": "code",
        "colab": {}
      },
      "source": [
        "def show_plot(plot_data, delta, title):\n",
        "  labels = ['History', 'True Future', 'Model Prediction']\n",
        "  marker = ['.-', 'rx', 'go']\n",
        "  time_steps = create_time_steps(plot_data[0].shape[0])\n",
        "  if delta:\n",
        "    future = delta\n",
        "  else:\n",
        "    future = 0\n",
        "\n",
        "  plt.title(title)\n",
        "  for i, x in enumerate(plot_data):\n",
        "    if i:\n",
        "      plt.plot(future, plot_data[i], marker[i], markersize=10,\n",
        "               label=labels[i])\n",
        "    else:\n",
        "      plt.plot(time_steps, plot_data[i].flatten(), marker[i], label=labels[i])\n",
        "  plt.legend()\n",
        "  plt.xlim([time_steps[0], (future+5)*2])\n",
        "  plt.xlabel('Time-Step')\n",
        "  return plt"
      ],
      "execution_count": 0,
      "outputs": []
    },
    {
      "cell_type": "markdown",
      "metadata": {
        "id": "UGHPNG73TDGj",
        "colab_type": "text"
      },
      "source": [
        "### Recurrent Neural Network (RNN)\n",
        "- LSTM (Long Short Term Memory)<br/><br/>\n",
        "\n",
        "**Hyperparameters:**<br/>\n",
        "- Batch size : 128\n",
        "- Buffer size : 10000\n",
        "- Epochs: 100\n",
        "- LSTM unit size: 4\n",
        "- Optimizer: Adam\n",
        "- Loss: MAE\n",
        "\n",
        "These are the final hyperparameters for this project. Tuning hyperparameters has been done quite a multiple times."
      ]
    },
    {
      "cell_type": "code",
      "metadata": {
        "id": "EIJ_aLXDkvVK",
        "colab_type": "code",
        "colab": {}
      },
      "source": [
        "BATCH_SIZE = 128\n",
        "BUFFER_SIZE = 10000\n",
        "\n",
        "train_univariate = tf.data.Dataset.from_tensor_slices((x_train_uni, y_train_uni))\n",
        "train_univariate = train_univariate.cache().shuffle(BUFFER_SIZE).batch(BATCH_SIZE).repeat()\n",
        "\n",
        "val_univariate = tf.data.Dataset.from_tensor_slices((x_val_uni, y_val_uni))\n",
        "val_univariate = val_univariate.batch(BATCH_SIZE).repeat()"
      ],
      "execution_count": 0,
      "outputs": []
    },
    {
      "cell_type": "code",
      "metadata": {
        "id": "DO3nXfd7kyLr",
        "colab_type": "code",
        "colab": {}
      },
      "source": [
        "simple_lstm_model = tf.keras.models.Sequential([\n",
        "    tf.keras.layers.LSTM(4, input_shape=x_train_uni.shape[-2:]),\n",
        "    tf.keras.layers.Dense(1)\n",
        "])\n",
        "\n",
        "simple_lstm_model.compile(optimizer='adam', loss='mae')"
      ],
      "execution_count": 0,
      "outputs": []
    },
    {
      "cell_type": "code",
      "metadata": {
        "id": "653jZQtBOflS",
        "colab_type": "code",
        "outputId": "c60c7af6-5d1c-4e6c-acff-fd6d038ee8a8",
        "colab": {
          "base_uri": "https://localhost:8080/",
          "height": 221
        }
      },
      "source": [
        "simple_lstm_model.summary()"
      ],
      "execution_count": 49,
      "outputs": [
        {
          "output_type": "stream",
          "text": [
            "Model: \"sequential_1\"\n",
            "_________________________________________________________________\n",
            "Layer (type)                 Output Shape              Param #   \n",
            "=================================================================\n",
            "lstm_1 (LSTM)                (None, 4)                 96        \n",
            "_________________________________________________________________\n",
            "dense_1 (Dense)              (None, 1)                 5         \n",
            "=================================================================\n",
            "Total params: 101\n",
            "Trainable params: 101\n",
            "Non-trainable params: 0\n",
            "_________________________________________________________________\n"
          ],
          "name": "stdout"
        }
      ]
    },
    {
      "cell_type": "code",
      "metadata": {
        "id": "liPARn6Mk1VW",
        "colab_type": "code",
        "outputId": "d24e502b-2f7e-4fc7-ae27-6295070d6cc5",
        "colab": {
          "base_uri": "https://localhost:8080/",
          "height": 34
        }
      },
      "source": [
        "for x, y in val_univariate.take(1):\n",
        "    print(simple_lstm_model.predict(x).shape)"
      ],
      "execution_count": 50,
      "outputs": [
        {
          "output_type": "stream",
          "text": [
            "(11, 1)\n"
          ],
          "name": "stdout"
        }
      ]
    },
    {
      "cell_type": "code",
      "metadata": {
        "id": "UllY501Qk4Uv",
        "colab_type": "code",
        "outputId": "7d056a5c-0497-40e5-e27a-3761887edf9e",
        "colab": {
          "base_uri": "https://localhost:8080/",
          "height": 1000
        }
      },
      "source": [
        "EVALUATION_INTERVAL = 100\n",
        "EPOCHS = 100\n",
        "\n",
        "lstm_model = simple_lstm_model.fit(train_univariate, epochs=EPOCHS,\n",
        "                      steps_per_epoch=EVALUATION_INTERVAL,\n",
        "                      validation_data=val_univariate, validation_steps=50)"
      ],
      "execution_count": 51,
      "outputs": [
        {
          "output_type": "stream",
          "text": [
            "Epoch 1/100\n",
            "100/100 [==============================] - 1s 13ms/step - loss: 0.7227 - val_loss: 0.9940\n",
            "Epoch 2/100\n",
            "100/100 [==============================] - 1s 10ms/step - loss: 0.6370 - val_loss: 0.9491\n",
            "Epoch 3/100\n",
            "100/100 [==============================] - 1s 10ms/step - loss: 0.5830 - val_loss: 0.9318\n",
            "Epoch 4/100\n",
            "100/100 [==============================] - 1s 10ms/step - loss: 0.5354 - val_loss: 0.8946\n",
            "Epoch 5/100\n",
            "100/100 [==============================] - 1s 10ms/step - loss: 0.4943 - val_loss: 0.8702\n",
            "Epoch 6/100\n",
            "100/100 [==============================] - 1s 10ms/step - loss: 0.4743 - val_loss: 0.8359\n",
            "Epoch 7/100\n",
            "100/100 [==============================] - 1s 10ms/step - loss: 0.4575 - val_loss: 0.8260\n",
            "Epoch 8/100\n",
            "100/100 [==============================] - 1s 10ms/step - loss: 0.4419 - val_loss: 0.8223\n",
            "Epoch 9/100\n",
            "100/100 [==============================] - 1s 10ms/step - loss: 0.4293 - val_loss: 0.8080\n",
            "Epoch 10/100\n",
            "100/100 [==============================] - 1s 10ms/step - loss: 0.4136 - val_loss: 0.7892\n",
            "Epoch 11/100\n",
            "100/100 [==============================] - 1s 10ms/step - loss: 0.4032 - val_loss: 0.7990\n",
            "Epoch 12/100\n",
            "100/100 [==============================] - 1s 11ms/step - loss: 0.3971 - val_loss: 0.8072\n",
            "Epoch 13/100\n",
            "100/100 [==============================] - 1s 11ms/step - loss: 0.3923 - val_loss: 0.8122\n",
            "Epoch 14/100\n",
            "100/100 [==============================] - 1s 11ms/step - loss: 0.3878 - val_loss: 0.8140\n",
            "Epoch 15/100\n",
            "100/100 [==============================] - 1s 11ms/step - loss: 0.3841 - val_loss: 0.8149\n",
            "Epoch 16/100\n",
            "100/100 [==============================] - 1s 11ms/step - loss: 0.3809 - val_loss: 0.8124\n",
            "Epoch 17/100\n",
            "100/100 [==============================] - 1s 10ms/step - loss: 0.3782 - val_loss: 0.8062\n",
            "Epoch 18/100\n",
            "100/100 [==============================] - 1s 10ms/step - loss: 0.3756 - val_loss: 0.7997\n",
            "Epoch 19/100\n",
            "100/100 [==============================] - 1s 10ms/step - loss: 0.3726 - val_loss: 0.7938\n",
            "Epoch 20/100\n",
            "100/100 [==============================] - 1s 10ms/step - loss: 0.3694 - val_loss: 0.7904\n",
            "Epoch 21/100\n",
            "100/100 [==============================] - 1s 10ms/step - loss: 0.3669 - val_loss: 0.7889\n",
            "Epoch 22/100\n",
            "100/100 [==============================] - 1s 10ms/step - loss: 0.3654 - val_loss: 0.7892\n",
            "Epoch 23/100\n",
            "100/100 [==============================] - 1s 10ms/step - loss: 0.3628 - val_loss: 0.7907\n",
            "Epoch 24/100\n",
            "100/100 [==============================] - 1s 10ms/step - loss: 0.3608 - val_loss: 0.7955\n",
            "Epoch 25/100\n",
            "100/100 [==============================] - 1s 10ms/step - loss: 0.3582 - val_loss: 0.7998\n",
            "Epoch 26/100\n",
            "100/100 [==============================] - 1s 10ms/step - loss: 0.3555 - val_loss: 0.8067\n",
            "Epoch 27/100\n",
            "100/100 [==============================] - 1s 10ms/step - loss: 0.3537 - val_loss: 0.8129\n",
            "Epoch 28/100\n",
            "100/100 [==============================] - 1s 10ms/step - loss: 0.3511 - val_loss: 0.8169\n",
            "Epoch 29/100\n",
            "100/100 [==============================] - 1s 10ms/step - loss: 0.3496 - val_loss: 0.8249\n",
            "Epoch 30/100\n",
            "100/100 [==============================] - 1s 10ms/step - loss: 0.3483 - val_loss: 0.8382\n",
            "Epoch 31/100\n",
            "100/100 [==============================] - 1s 11ms/step - loss: 0.3471 - val_loss: 0.8646\n",
            "Epoch 32/100\n",
            "100/100 [==============================] - 1s 11ms/step - loss: 0.3453 - val_loss: 0.9132\n",
            "Epoch 33/100\n",
            "100/100 [==============================] - 1s 10ms/step - loss: 0.3440 - val_loss: 1.0072\n",
            "Epoch 34/100\n",
            "100/100 [==============================] - 1s 10ms/step - loss: 0.3429 - val_loss: 1.0891\n",
            "Epoch 35/100\n",
            "100/100 [==============================] - 1s 9ms/step - loss: 0.3414 - val_loss: 1.1587\n",
            "Epoch 36/100\n",
            "100/100 [==============================] - 1s 10ms/step - loss: 0.3386 - val_loss: 1.2398\n",
            "Epoch 37/100\n",
            "100/100 [==============================] - 2s 19ms/step - loss: 0.3354 - val_loss: 1.2856\n",
            "Epoch 38/100\n",
            "100/100 [==============================] - 1s 14ms/step - loss: 0.3339 - val_loss: 1.3265\n",
            "Epoch 39/100\n",
            "100/100 [==============================] - 1s 13ms/step - loss: 0.3320 - val_loss: 1.3639\n",
            "Epoch 40/100\n",
            "100/100 [==============================] - 1s 14ms/step - loss: 0.3301 - val_loss: 1.4143\n",
            "Epoch 41/100\n",
            "100/100 [==============================] - 1s 13ms/step - loss: 0.3282 - val_loss: 1.4570\n",
            "Epoch 42/100\n",
            "100/100 [==============================] - 1s 14ms/step - loss: 0.3261 - val_loss: 1.4995\n",
            "Epoch 43/100\n",
            "100/100 [==============================] - 1s 12ms/step - loss: 0.3233 - val_loss: 1.5358\n",
            "Epoch 44/100\n",
            "100/100 [==============================] - 1s 10ms/step - loss: 0.3200 - val_loss: 1.5607\n",
            "Epoch 45/100\n",
            "100/100 [==============================] - 1s 10ms/step - loss: 0.3152 - val_loss: 1.5684\n",
            "Epoch 46/100\n",
            "100/100 [==============================] - 1s 10ms/step - loss: 0.3106 - val_loss: 1.5866\n",
            "Epoch 47/100\n",
            "100/100 [==============================] - 1s 9ms/step - loss: 0.3074 - val_loss: 1.6081\n",
            "Epoch 48/100\n",
            "100/100 [==============================] - 1s 10ms/step - loss: 0.3045 - val_loss: 1.6306\n",
            "Epoch 49/100\n",
            "100/100 [==============================] - 1s 10ms/step - loss: 0.3014 - val_loss: 1.6543\n",
            "Epoch 50/100\n",
            "100/100 [==============================] - 1s 10ms/step - loss: 0.2993 - val_loss: 1.6725\n",
            "Epoch 51/100\n",
            "100/100 [==============================] - 1s 10ms/step - loss: 0.2976 - val_loss: 1.6869\n",
            "Epoch 52/100\n",
            "100/100 [==============================] - 1s 10ms/step - loss: 0.2954 - val_loss: 1.6977\n",
            "Epoch 53/100\n",
            "100/100 [==============================] - 1s 10ms/step - loss: 0.2942 - val_loss: 1.7055\n",
            "Epoch 54/100\n",
            "100/100 [==============================] - 1s 10ms/step - loss: 0.2926 - val_loss: 1.7150\n",
            "Epoch 55/100\n",
            "100/100 [==============================] - 1s 10ms/step - loss: 0.2914 - val_loss: 1.7223\n",
            "Epoch 56/100\n",
            "100/100 [==============================] - 1s 10ms/step - loss: 0.2900 - val_loss: 1.7301\n",
            "Epoch 57/100\n",
            "100/100 [==============================] - 1s 10ms/step - loss: 0.2889 - val_loss: 1.7384\n",
            "Epoch 58/100\n",
            "100/100 [==============================] - 1s 9ms/step - loss: 0.2875 - val_loss: 1.7453\n",
            "Epoch 59/100\n",
            "100/100 [==============================] - 1s 10ms/step - loss: 0.2866 - val_loss: 1.7529\n",
            "Epoch 60/100\n",
            "100/100 [==============================] - 1s 10ms/step - loss: 0.2849 - val_loss: 1.7607\n",
            "Epoch 61/100\n",
            "100/100 [==============================] - 1s 10ms/step - loss: 0.2843 - val_loss: 1.7659\n",
            "Epoch 62/100\n",
            "100/100 [==============================] - 1s 10ms/step - loss: 0.2830 - val_loss: 1.7701\n",
            "Epoch 63/100\n",
            "100/100 [==============================] - 1s 10ms/step - loss: 0.2820 - val_loss: 1.7751\n",
            "Epoch 64/100\n",
            "100/100 [==============================] - 1s 10ms/step - loss: 0.2809 - val_loss: 1.7790\n",
            "Epoch 65/100\n",
            "100/100 [==============================] - 1s 10ms/step - loss: 0.2801 - val_loss: 1.7824\n",
            "Epoch 66/100\n",
            "100/100 [==============================] - 1s 10ms/step - loss: 0.2793 - val_loss: 1.7867\n",
            "Epoch 67/100\n",
            "100/100 [==============================] - 1s 10ms/step - loss: 0.2789 - val_loss: 1.7913\n",
            "Epoch 68/100\n",
            "100/100 [==============================] - 1s 10ms/step - loss: 0.2785 - val_loss: 1.7947\n",
            "Epoch 69/100\n",
            "100/100 [==============================] - 1s 10ms/step - loss: 0.2773 - val_loss: 1.7985\n",
            "Epoch 70/100\n",
            "100/100 [==============================] - 1s 10ms/step - loss: 0.2761 - val_loss: 1.8005\n",
            "Epoch 71/100\n",
            "100/100 [==============================] - 1s 10ms/step - loss: 0.2755 - val_loss: 1.8027\n",
            "Epoch 72/100\n",
            "100/100 [==============================] - 1s 10ms/step - loss: 0.2746 - val_loss: 1.8048\n",
            "Epoch 73/100\n",
            "100/100 [==============================] - 1s 10ms/step - loss: 0.2739 - val_loss: 1.8061\n",
            "Epoch 74/100\n",
            "100/100 [==============================] - 1s 10ms/step - loss: 0.2738 - val_loss: 1.8088\n",
            "Epoch 75/100\n",
            "100/100 [==============================] - 1s 10ms/step - loss: 0.2736 - val_loss: 1.8101\n",
            "Epoch 76/100\n",
            "100/100 [==============================] - 1s 10ms/step - loss: 0.2725 - val_loss: 1.8140\n",
            "Epoch 77/100\n",
            "100/100 [==============================] - 1s 10ms/step - loss: 0.2719 - val_loss: 1.8183\n",
            "Epoch 78/100\n",
            "100/100 [==============================] - 1s 10ms/step - loss: 0.2712 - val_loss: 1.8218\n",
            "Epoch 79/100\n",
            "100/100 [==============================] - 1s 10ms/step - loss: 0.2703 - val_loss: 1.8264\n",
            "Epoch 80/100\n",
            "100/100 [==============================] - 1s 10ms/step - loss: 0.2701 - val_loss: 1.8305\n",
            "Epoch 81/100\n",
            "100/100 [==============================] - 1s 11ms/step - loss: 0.2699 - val_loss: 1.8345\n",
            "Epoch 82/100\n",
            "100/100 [==============================] - 1s 10ms/step - loss: 0.2686 - val_loss: 1.8372\n",
            "Epoch 83/100\n",
            "100/100 [==============================] - 1s 10ms/step - loss: 0.2681 - val_loss: 1.8405\n",
            "Epoch 84/100\n",
            "100/100 [==============================] - 1s 11ms/step - loss: 0.2676 - val_loss: 1.8451\n",
            "Epoch 85/100\n",
            "100/100 [==============================] - 1s 10ms/step - loss: 0.2672 - val_loss: 1.8492\n",
            "Epoch 86/100\n",
            "100/100 [==============================] - 1s 10ms/step - loss: 0.2667 - val_loss: 1.8515\n",
            "Epoch 87/100\n",
            "100/100 [==============================] - 1s 10ms/step - loss: 0.2662 - val_loss: 1.8561\n",
            "Epoch 88/100\n",
            "100/100 [==============================] - 1s 10ms/step - loss: 0.2656 - val_loss: 1.8589\n",
            "Epoch 89/100\n",
            "100/100 [==============================] - 1s 10ms/step - loss: 0.2653 - val_loss: 1.8639\n",
            "Epoch 90/100\n",
            "100/100 [==============================] - 1s 10ms/step - loss: 0.2653 - val_loss: 1.8650\n",
            "Epoch 91/100\n",
            "100/100 [==============================] - 1s 10ms/step - loss: 0.2646 - val_loss: 1.8693\n",
            "Epoch 92/100\n",
            "100/100 [==============================] - 1s 10ms/step - loss: 0.2645 - val_loss: 1.8730\n",
            "Epoch 93/100\n",
            "100/100 [==============================] - 1s 11ms/step - loss: 0.2639 - val_loss: 1.8772\n",
            "Epoch 94/100\n",
            "100/100 [==============================] - 1s 10ms/step - loss: 0.2634 - val_loss: 1.8813\n",
            "Epoch 95/100\n",
            "100/100 [==============================] - 1s 10ms/step - loss: 0.2637 - val_loss: 1.8855\n",
            "Epoch 96/100\n",
            "100/100 [==============================] - 1s 10ms/step - loss: 0.2626 - val_loss: 1.8895\n",
            "Epoch 97/100\n",
            "100/100 [==============================] - 1s 10ms/step - loss: 0.2628 - val_loss: 1.8929\n",
            "Epoch 98/100\n",
            "100/100 [==============================] - 1s 10ms/step - loss: 0.2617 - val_loss: 1.8985\n",
            "Epoch 99/100\n",
            "100/100 [==============================] - 1s 10ms/step - loss: 0.2613 - val_loss: 1.9017\n",
            "Epoch 100/100\n",
            "100/100 [==============================] - 1s 10ms/step - loss: 0.2610 - val_loss: 1.9048\n"
          ],
          "name": "stdout"
        }
      ]
    },
    {
      "cell_type": "markdown",
      "metadata": {
        "id": "k-qPLPT-Tag-",
        "colab_type": "text"
      },
      "source": [
        "### Prediction Plot\n",
        "This plot shows how the model developed tried to predict Chili Red price in \n",
        "Indonesia for one month ahead. It can be seen that the model is unable to predict very well."
      ]
    },
    {
      "cell_type": "code",
      "metadata": {
        "id": "VIE7MoMlk_ag",
        "colab_type": "code",
        "colab": {
          "base_uri": "https://localhost:8080/",
          "height": 621
        },
        "outputId": "bc850476-4dfd-409a-bf05-7d1ed94ad4fc"
      },
      "source": [
        "for x, y in val_univariate.take(1):\n",
        "  plt.figure(figsize=(20,10))\n",
        "  plot = show_plot([x[0].numpy(), y[0].numpy(),\n",
        "                    simple_lstm_model.predict(x)[0]], 0, 'Simple LSTM model')\n",
        "  plot.show()"
      ],
      "execution_count": 52,
      "outputs": [
        {
          "output_type": "display_data",
          "data": {
            "image/png": "[encoded data removed]",
            "text/plain": [
              "<Figure size 1440x720 with 1 Axes>"
            ]
          },
          "metadata": {
            "tags": []
          }
        }
      ]
    },
    {
      "cell_type": "markdown",
      "metadata": {
        "id": "T8F34ybbT4wO",
        "colab_type": "text"
      },
      "source": [
        "### Overfitted Model\n",
        "\n",
        "So, that's why the model can't predict very well!<br/>\n",
        "Had been trying multiple \"experiment\" for hyperparameter, amount of layers, denses, yet still did not get the ideal model.\n",
        "\n",
        "Graph below showed the performance of model in terms of training and validation loss. It can be clearly seen that the model is overfitted, since train loss is decreasing, yet validation loss is increasing.<br/>\n",
        "\n",
        "Save it for now.<br/>\n",
        "For the future, we can adjust the hyperparameters, choose the right LSTM unit and dense, et cetera in the name of trial and error."
      ]
    },
    {
      "cell_type": "code",
      "metadata": {
        "id": "5KGmAnQvHj4F",
        "colab_type": "code",
        "colab": {}
      },
      "source": [
        "def plot_train_history(history, title):\n",
        "  loss = history.history['loss']\n",
        "  val_loss =  history.history['val_loss']\n",
        "\n",
        "  epochs = range(len(loss))\n",
        "\n",
        "  plt.figure(figsize=(20,10))\n",
        "\n",
        "  plt.plot(epochs, loss, 'b', label='Train loss')\n",
        "  plt.plot(epochs, val_loss, 'r', label='Validation loss')\n",
        "  plt.title(title)\n",
        "  plt.legend()\n",
        "\n",
        "  plt.show()"
      ],
      "execution_count": 0,
      "outputs": []
    },
    {
      "cell_type": "code",
      "metadata": {
        "id": "iwi2J2QwJA9Q",
        "colab_type": "code",
        "colab": {
          "base_uri": "https://localhost:8080/",
          "height": 607
        },
        "outputId": "f04050d9-a4bb-4f16-cc5e-d719dd030cb0"
      },
      "source": [
        "plot_train_history(lstm_model,\n",
        "                   'Train and Validation Loss')"
      ],
      "execution_count": 58,
      "outputs": [
        {
          "output_type": "display_data",
          "data": {
            "image/png": "[encoded data removed]",
            "text/plain": [
              "<Figure size 1440x720 with 1 Axes>"
            ]
          },
          "metadata": {
            "tags": []
          }
        }
      ]
    }
  ]
}